{
  "cells": [
    {
      "metadata": {},
      "cell_type": "markdown",
      "source": "For Text Mining assignment\n\nONE: 1) Perform sentimental analysis on the Elon-musk tweets (Exlon-musk.csv)\n\nTWO: 1) Extract reviews of any product from ecommerce website like amazon\n\n2) Perform emotion mining"
    },
    {
      "metadata": {},
      "cell_type": "markdown",
      "source": "# Text Mining - Assignment 11"
    },
    {
      "metadata": {
        "trusted": false
      },
      "cell_type": "code",
      "source": "import nltk\nnltk.download('stopwords')",
      "execution_count": 1,
      "outputs": [
        {
          "name": "stderr",
          "output_type": "stream",
          "text": "[nltk_data] Downloading package stopwords to\n[nltk_data]     C:\\Users\\perline.anisha\\AppData\\Roaming\\nltk_data...\n[nltk_data]   Package stopwords is already up-to-date!\n"
        },
        {
          "data": {
            "text/plain": "True"
          },
          "execution_count": 1,
          "metadata": {},
          "output_type": "execute_result"
        }
      ]
    },
    {
      "metadata": {
        "trusted": false
      },
      "cell_type": "code",
      "source": "nltk.download('wordnet')",
      "execution_count": 2,
      "outputs": [
        {
          "name": "stderr",
          "output_type": "stream",
          "text": "[nltk_data] Downloading package wordnet to\n[nltk_data]     C:\\Users\\perline.anisha\\AppData\\Roaming\\nltk_data...\n[nltk_data]   Package wordnet is already up-to-date!\n"
        },
        {
          "data": {
            "text/plain": "True"
          },
          "execution_count": 2,
          "metadata": {},
          "output_type": "execute_result"
        }
      ]
    },
    {
      "metadata": {
        "trusted": false
      },
      "cell_type": "code",
      "source": "pip install -U textblob",
      "execution_count": 3,
      "outputs": [
        {
          "name": "stdout",
          "output_type": "stream",
          "text": "Requirement already up-to-date: textblob in c:\\programdata\\anaconda3\\lib\\site-packages (0.15.3)\nRequirement already satisfied, skipping upgrade: nltk>=3.1 in c:\\programdata\\anaconda3\\lib\\site-packages (from textblob) (3.5)Note: you may need to restart the kernel to use updated packages.\n\nRequirement already satisfied, skipping upgrade: click in c:\\programdata\\anaconda3\\lib\\site-packages (from nltk>=3.1->textblob) (7.1.2)\nRequirement already satisfied, skipping upgrade: regex in c:\\programdata\\anaconda3\\lib\\site-packages (from nltk>=3.1->textblob) (2020.6.8)\nRequirement already satisfied, skipping upgrade: joblib in c:\\programdata\\anaconda3\\lib\\site-packages (from nltk>=3.1->textblob) (0.16.0)\nRequirement already satisfied, skipping upgrade: tqdm in c:\\programdata\\anaconda3\\lib\\site-packages (from nltk>=3.1->textblob) (4.47.0)\n"
        }
      ]
    },
    {
      "metadata": {
        "trusted": false
      },
      "cell_type": "code",
      "source": "import pandas as pd\nimport numpy as np\nimport matplotlib.pyplot as plt\nimport seaborn as sns\nfrom nltk.corpus import stopwords\nfrom textblob import TextBlob",
      "execution_count": 4,
      "outputs": []
    },
    {
      "metadata": {},
      "cell_type": "markdown",
      "source": "## 1. Read Data"
    },
    {
      "metadata": {
        "trusted": false
      },
      "cell_type": "code",
      "source": "data = pd.read_csv('Elon_musk.csv',encoding=\"latin-1\")\ndata.head()",
      "execution_count": 6,
      "outputs": [
        {
          "data": {
            "text/html": "<div>\n<style scoped>\n    .dataframe tbody tr th:only-of-type {\n        vertical-align: middle;\n    }\n\n    .dataframe tbody tr th {\n        vertical-align: top;\n    }\n\n    .dataframe thead th {\n        text-align: right;\n    }\n</style>\n<table border=\"1\" class=\"dataframe\">\n  <thead>\n    <tr style=\"text-align: right;\">\n      <th></th>\n      <th>Unnamed: 0</th>\n      <th>Text</th>\n    </tr>\n  </thead>\n  <tbody>\n    <tr>\n      <th>0</th>\n      <td>1</td>\n      <td>@kunalb11 Im an alien</td>\n    </tr>\n    <tr>\n      <th>1</th>\n      <td>2</td>\n      <td>@ID_AA_Carmack Ray tracing on Cyberpunk with H...</td>\n    </tr>\n    <tr>\n      <th>2</th>\n      <td>3</td>\n      <td>@joerogan @Spotify Great interview!</td>\n    </tr>\n    <tr>\n      <th>3</th>\n      <td>4</td>\n      <td>@gtera27 Doge is underestimated</td>\n    </tr>\n    <tr>\n      <th>4</th>\n      <td>5</td>\n      <td>@teslacn Congratulations Tesla China for amazi...</td>\n    </tr>\n  </tbody>\n</table>\n</div>",
            "text/plain": "   Unnamed: 0                                               Text\n0           1                             @kunalb11 Im an alien\n1           2  @ID_AA_Carmack Ray tracing on Cyberpunk with H...\n2           3                @joerogan @Spotify Great interview!\n3           4                    @gtera27 Doge is underestimated\n4           5  @teslacn Congratulations Tesla China for amazi..."
          },
          "execution_count": 6,
          "metadata": {},
          "output_type": "execute_result"
        }
      ]
    },
    {
      "metadata": {},
      "cell_type": "markdown",
      "source": "## 2. Number of Words"
    },
    {
      "metadata": {
        "trusted": false
      },
      "cell_type": "code",
      "source": "#Number of Words in single tweet\ndata['word_count'] = data['Text'].apply(lambda x: len(str(x).split(\" \")))\ndata[['Text','word_count']].head()",
      "execution_count": 7,
      "outputs": [
        {
          "data": {
            "text/html": "<div>\n<style scoped>\n    .dataframe tbody tr th:only-of-type {\n        vertical-align: middle;\n    }\n\n    .dataframe tbody tr th {\n        vertical-align: top;\n    }\n\n    .dataframe thead th {\n        text-align: right;\n    }\n</style>\n<table border=\"1\" class=\"dataframe\">\n  <thead>\n    <tr style=\"text-align: right;\">\n      <th></th>\n      <th>Text</th>\n      <th>word_count</th>\n    </tr>\n  </thead>\n  <tbody>\n    <tr>\n      <th>0</th>\n      <td>@kunalb11 Im an alien</td>\n      <td>4</td>\n    </tr>\n    <tr>\n      <th>1</th>\n      <td>@ID_AA_Carmack Ray tracing on Cyberpunk with H...</td>\n      <td>13</td>\n    </tr>\n    <tr>\n      <th>2</th>\n      <td>@joerogan @Spotify Great interview!</td>\n      <td>4</td>\n    </tr>\n    <tr>\n      <th>3</th>\n      <td>@gtera27 Doge is underestimated</td>\n      <td>4</td>\n    </tr>\n    <tr>\n      <th>4</th>\n      <td>@teslacn Congratulations Tesla China for amazi...</td>\n      <td>17</td>\n    </tr>\n  </tbody>\n</table>\n</div>",
            "text/plain": "                                                Text  word_count\n0                             @kunalb11 Im an alien           4\n1  @ID_AA_Carmack Ray tracing on Cyberpunk with H...          13\n2                @joerogan @Spotify Great interview!           4\n3                    @gtera27 Doge is underestimated           4\n4  @teslacn Congratulations Tesla China for amazi...          17"
          },
          "execution_count": 7,
          "metadata": {},
          "output_type": "execute_result"
        }
      ]
    },
    {
      "metadata": {},
      "cell_type": "markdown",
      "source": "## 3. Number of Characters"
    },
    {
      "metadata": {
        "trusted": false
      },
      "cell_type": "code",
      "source": "#Number of characters in single tweet\ndata['char_count'] = data['Text'].str.len() ## this also includes spaces\ndata[['Text','char_count']].head()",
      "execution_count": 8,
      "outputs": [
        {
          "data": {
            "text/html": "<div>\n<style scoped>\n    .dataframe tbody tr th:only-of-type {\n        vertical-align: middle;\n    }\n\n    .dataframe tbody tr th {\n        vertical-align: top;\n    }\n\n    .dataframe thead th {\n        text-align: right;\n    }\n</style>\n<table border=\"1\" class=\"dataframe\">\n  <thead>\n    <tr style=\"text-align: right;\">\n      <th></th>\n      <th>Text</th>\n      <th>char_count</th>\n    </tr>\n  </thead>\n  <tbody>\n    <tr>\n      <th>0</th>\n      <td>@kunalb11 Im an alien</td>\n      <td>22</td>\n    </tr>\n    <tr>\n      <th>1</th>\n      <td>@ID_AA_Carmack Ray tracing on Cyberpunk with H...</td>\n      <td>82</td>\n    </tr>\n    <tr>\n      <th>2</th>\n      <td>@joerogan @Spotify Great interview!</td>\n      <td>35</td>\n    </tr>\n    <tr>\n      <th>3</th>\n      <td>@gtera27 Doge is underestimated</td>\n      <td>31</td>\n    </tr>\n    <tr>\n      <th>4</th>\n      <td>@teslacn Congratulations Tesla China for amazi...</td>\n      <td>104</td>\n    </tr>\n  </tbody>\n</table>\n</div>",
            "text/plain": "                                                Text  char_count\n0                             @kunalb11 Im an alien          22\n1  @ID_AA_Carmack Ray tracing on Cyberpunk with H...          82\n2                @joerogan @Spotify Great interview!          35\n3                    @gtera27 Doge is underestimated          31\n4  @teslacn Congratulations Tesla China for amazi...         104"
          },
          "execution_count": 8,
          "metadata": {},
          "output_type": "execute_result"
        }
      ]
    },
    {
      "metadata": {},
      "cell_type": "markdown",
      "source": "## 4. Average Word Length"
    },
    {
      "metadata": {
        "trusted": false
      },
      "cell_type": "code",
      "source": "def avg_word(sentence):\n  words = sentence.split()\n  return (sum(len(word) for word in words)/len(words))\n\ndata['avg_word'] = data['Text'].apply(lambda x: avg_word(x))\ndata[['Text','avg_word']].head()",
      "execution_count": 9,
      "outputs": [
        {
          "data": {
            "text/html": "<div>\n<style scoped>\n    .dataframe tbody tr th:only-of-type {\n        vertical-align: middle;\n    }\n\n    .dataframe tbody tr th {\n        vertical-align: top;\n    }\n\n    .dataframe thead th {\n        text-align: right;\n    }\n</style>\n<table border=\"1\" class=\"dataframe\">\n  <thead>\n    <tr style=\"text-align: right;\">\n      <th></th>\n      <th>Text</th>\n      <th>avg_word</th>\n    </tr>\n  </thead>\n  <tbody>\n    <tr>\n      <th>0</th>\n      <td>@kunalb11 Im an alien</td>\n      <td>4.750000</td>\n    </tr>\n    <tr>\n      <th>1</th>\n      <td>@ID_AA_Carmack Ray tracing on Cyberpunk with H...</td>\n      <td>5.384615</td>\n    </tr>\n    <tr>\n      <th>2</th>\n      <td>@joerogan @Spotify Great interview!</td>\n      <td>8.000000</td>\n    </tr>\n    <tr>\n      <th>3</th>\n      <td>@gtera27 Doge is underestimated</td>\n      <td>7.000000</td>\n    </tr>\n    <tr>\n      <th>4</th>\n      <td>@teslacn Congratulations Tesla China for amazi...</td>\n      <td>5.176471</td>\n    </tr>\n  </tbody>\n</table>\n</div>",
            "text/plain": "                                                Text  avg_word\n0                             @kunalb11 Im an alien  4.750000\n1  @ID_AA_Carmack Ray tracing on Cyberpunk with H...  5.384615\n2                @joerogan @Spotify Great interview!  8.000000\n3                    @gtera27 Doge is underestimated  7.000000\n4  @teslacn Congratulations Tesla China for amazi...  5.176471"
          },
          "execution_count": 9,
          "metadata": {},
          "output_type": "execute_result"
        }
      ]
    },
    {
      "metadata": {},
      "cell_type": "markdown",
      "source": "## 5. Number of stopwords"
    },
    {
      "metadata": {
        "trusted": false
      },
      "cell_type": "code",
      "source": "stop = stopwords.words('english')\n\ndata['stopwords'] = data['Text'].apply(lambda x: len([x for x in x.split() if x in stop]))\ndata[['Text','stopwords']].head()",
      "execution_count": 10,
      "outputs": [
        {
          "data": {
            "text/html": "<div>\n<style scoped>\n    .dataframe tbody tr th:only-of-type {\n        vertical-align: middle;\n    }\n\n    .dataframe tbody tr th {\n        vertical-align: top;\n    }\n\n    .dataframe thead th {\n        text-align: right;\n    }\n</style>\n<table border=\"1\" class=\"dataframe\">\n  <thead>\n    <tr style=\"text-align: right;\">\n      <th></th>\n      <th>Text</th>\n      <th>stopwords</th>\n    </tr>\n  </thead>\n  <tbody>\n    <tr>\n      <th>0</th>\n      <td>@kunalb11 Im an alien</td>\n      <td>1</td>\n    </tr>\n    <tr>\n      <th>1</th>\n      <td>@ID_AA_Carmack Ray tracing on Cyberpunk with H...</td>\n      <td>4</td>\n    </tr>\n    <tr>\n      <th>2</th>\n      <td>@joerogan @Spotify Great interview!</td>\n      <td>0</td>\n    </tr>\n    <tr>\n      <th>3</th>\n      <td>@gtera27 Doge is underestimated</td>\n      <td>1</td>\n    </tr>\n    <tr>\n      <th>4</th>\n      <td>@teslacn Congratulations Tesla China for amazi...</td>\n      <td>5</td>\n    </tr>\n  </tbody>\n</table>\n</div>",
            "text/plain": "                                                Text  stopwords\n0                             @kunalb11 Im an alien          1\n1  @ID_AA_Carmack Ray tracing on Cyberpunk with H...          4\n2                @joerogan @Spotify Great interview!          0\n3                    @gtera27 Doge is underestimated          1\n4  @teslacn Congratulations Tesla China for amazi...          5"
          },
          "execution_count": 10,
          "metadata": {},
          "output_type": "execute_result"
        }
      ]
    },
    {
      "metadata": {},
      "cell_type": "markdown",
      "source": "## 6. Number of Special Characters"
    },
    {
      "metadata": {
        "trusted": false
      },
      "cell_type": "code",
      "source": "data['hastags'] = data['Text'].apply(lambda x: len([x for x in x.split() if x.startswith('@')]))\ndata[['Text','hastags']].head()",
      "execution_count": 11,
      "outputs": [
        {
          "data": {
            "text/html": "<div>\n<style scoped>\n    .dataframe tbody tr th:only-of-type {\n        vertical-align: middle;\n    }\n\n    .dataframe tbody tr th {\n        vertical-align: top;\n    }\n\n    .dataframe thead th {\n        text-align: right;\n    }\n</style>\n<table border=\"1\" class=\"dataframe\">\n  <thead>\n    <tr style=\"text-align: right;\">\n      <th></th>\n      <th>Text</th>\n      <th>hastags</th>\n    </tr>\n  </thead>\n  <tbody>\n    <tr>\n      <th>0</th>\n      <td>@kunalb11 Im an alien</td>\n      <td>1</td>\n    </tr>\n    <tr>\n      <th>1</th>\n      <td>@ID_AA_Carmack Ray tracing on Cyberpunk with H...</td>\n      <td>1</td>\n    </tr>\n    <tr>\n      <th>2</th>\n      <td>@joerogan @Spotify Great interview!</td>\n      <td>2</td>\n    </tr>\n    <tr>\n      <th>3</th>\n      <td>@gtera27 Doge is underestimated</td>\n      <td>1</td>\n    </tr>\n    <tr>\n      <th>4</th>\n      <td>@teslacn Congratulations Tesla China for amazi...</td>\n      <td>1</td>\n    </tr>\n  </tbody>\n</table>\n</div>",
            "text/plain": "                                                Text  hastags\n0                             @kunalb11 Im an alien        1\n1  @ID_AA_Carmack Ray tracing on Cyberpunk with H...        1\n2                @joerogan @Spotify Great interview!        2\n3                    @gtera27 Doge is underestimated        1\n4  @teslacn Congratulations Tesla China for amazi...        1"
          },
          "execution_count": 11,
          "metadata": {},
          "output_type": "execute_result"
        }
      ]
    },
    {
      "metadata": {},
      "cell_type": "markdown",
      "source": "## 7. Number of Numerics"
    },
    {
      "metadata": {
        "trusted": false
      },
      "cell_type": "code",
      "source": "data['numerics'] = data['Text'].apply(lambda x: len([x for x in x.split() if x.isdigit()]))\ndata[['Text','numerics']].head()",
      "execution_count": 12,
      "outputs": [
        {
          "data": {
            "text/html": "<div>\n<style scoped>\n    .dataframe tbody tr th:only-of-type {\n        vertical-align: middle;\n    }\n\n    .dataframe tbody tr th {\n        vertical-align: top;\n    }\n\n    .dataframe thead th {\n        text-align: right;\n    }\n</style>\n<table border=\"1\" class=\"dataframe\">\n  <thead>\n    <tr style=\"text-align: right;\">\n      <th></th>\n      <th>Text</th>\n      <th>numerics</th>\n    </tr>\n  </thead>\n  <tbody>\n    <tr>\n      <th>0</th>\n      <td>@kunalb11 Im an alien</td>\n      <td>0</td>\n    </tr>\n    <tr>\n      <th>1</th>\n      <td>@ID_AA_Carmack Ray tracing on Cyberpunk with H...</td>\n      <td>0</td>\n    </tr>\n    <tr>\n      <th>2</th>\n      <td>@joerogan @Spotify Great interview!</td>\n      <td>0</td>\n    </tr>\n    <tr>\n      <th>3</th>\n      <td>@gtera27 Doge is underestimated</td>\n      <td>0</td>\n    </tr>\n    <tr>\n      <th>4</th>\n      <td>@teslacn Congratulations Tesla China for amazi...</td>\n      <td>0</td>\n    </tr>\n  </tbody>\n</table>\n</div>",
            "text/plain": "                                                Text  numerics\n0                             @kunalb11 Im an alien         0\n1  @ID_AA_Carmack Ray tracing on Cyberpunk with H...         0\n2                @joerogan @Spotify Great interview!         0\n3                    @gtera27 Doge is underestimated         0\n4  @teslacn Congratulations Tesla China for amazi...         0"
          },
          "execution_count": 12,
          "metadata": {},
          "output_type": "execute_result"
        }
      ]
    },
    {
      "metadata": {},
      "cell_type": "markdown",
      "source": "## 8. Number of Upper Case Words"
    },
    {
      "metadata": {
        "trusted": false
      },
      "cell_type": "code",
      "source": "data['upper'] = data['Text'].apply(lambda x: len([x for x in x.split() if x.isupper()]))\ndata[['Text','upper']].head()",
      "execution_count": 13,
      "outputs": [
        {
          "data": {
            "text/html": "<div>\n<style scoped>\n    .dataframe tbody tr th:only-of-type {\n        vertical-align: middle;\n    }\n\n    .dataframe tbody tr th {\n        vertical-align: top;\n    }\n\n    .dataframe thead th {\n        text-align: right;\n    }\n</style>\n<table border=\"1\" class=\"dataframe\">\n  <thead>\n    <tr style=\"text-align: right;\">\n      <th></th>\n      <th>Text</th>\n      <th>upper</th>\n    </tr>\n  </thead>\n  <tbody>\n    <tr>\n      <th>0</th>\n      <td>@kunalb11 Im an alien</td>\n      <td>0</td>\n    </tr>\n    <tr>\n      <th>1</th>\n      <td>@ID_AA_Carmack Ray tracing on Cyberpunk with H...</td>\n      <td>1</td>\n    </tr>\n    <tr>\n      <th>2</th>\n      <td>@joerogan @Spotify Great interview!</td>\n      <td>0</td>\n    </tr>\n    <tr>\n      <th>3</th>\n      <td>@gtera27 Doge is underestimated</td>\n      <td>0</td>\n    </tr>\n    <tr>\n      <th>4</th>\n      <td>@teslacn Congratulations Tesla China for amazi...</td>\n      <td>0</td>\n    </tr>\n  </tbody>\n</table>\n</div>",
            "text/plain": "                                                Text  upper\n0                             @kunalb11 Im an alien      0\n1  @ID_AA_Carmack Ray tracing on Cyberpunk with H...      1\n2                @joerogan @Spotify Great interview!      0\n3                    @gtera27 Doge is underestimated      0\n4  @teslacn Congratulations Tesla China for amazi...      0"
          },
          "execution_count": 13,
          "metadata": {},
          "output_type": "execute_result"
        }
      ]
    },
    {
      "metadata": {},
      "cell_type": "markdown",
      "source": "# Pre - Processing "
    },
    {
      "metadata": {},
      "cell_type": "markdown",
      "source": "## 2.1 Lower Case"
    },
    {
      "metadata": {
        "trusted": false
      },
      "cell_type": "code",
      "source": "data['Text'] = data['Text'].apply(lambda x: \" \".join(x.lower() for x in x.split()))\ndata['Text'].head()",
      "execution_count": 14,
      "outputs": [
        {
          "data": {
            "text/plain": "0                               @kunalb11 im an alien\n1    @id_aa_carmack ray tracing on cyberpunk with h...\n2                  @joerogan @spotify great interview!\n3                      @gtera27 doge is underestimated\n4    @teslacn congratulations tesla china for amazi...\nName: Text, dtype: object"
          },
          "execution_count": 14,
          "metadata": {},
          "output_type": "execute_result"
        }
      ]
    },
    {
      "metadata": {},
      "cell_type": "markdown",
      "source": "## 2.2 Removing Punctuation"
    },
    {
      "metadata": {
        "trusted": false
      },
      "cell_type": "code",
      "source": "data['Text'] = data['Text'].str.replace('[^\\w\\s]','')\ndata['Text'].head()",
      "execution_count": 15,
      "outputs": [
        {
          "data": {
            "text/plain": "0                                 kunalb11 im an alien\n1    id_aa_carmack ray tracing on cyberpunk with hd...\n2                     joerogan spotify great interview\n3                       gtera27 doge is underestimated\n4    teslacn congratulations tesla china for amazin...\nName: Text, dtype: object"
          },
          "execution_count": 15,
          "metadata": {},
          "output_type": "execute_result"
        }
      ]
    },
    {
      "metadata": {},
      "cell_type": "markdown",
      "source": "## 2.3 Removal of Stop Words"
    },
    {
      "metadata": {
        "trusted": false
      },
      "cell_type": "code",
      "source": "stop = stopwords.words('english')\ndata['Text'] = data['Text'].apply(lambda x: \" \".join(x for x in x.split() if x not in stop))\ndata['Text'].head()",
      "execution_count": 16,
      "outputs": [
        {
          "data": {
            "text/plain": "0                                    kunalb11 im alien\n1    id_aa_carmack ray tracing cyberpunk hdr nextle...\n2                     joerogan spotify great interview\n3                          gtera27 doge underestimated\n4    teslacn congratulations tesla china amazing ex...\nName: Text, dtype: object"
          },
          "execution_count": 16,
          "metadata": {},
          "output_type": "execute_result"
        }
      ]
    },
    {
      "metadata": {},
      "cell_type": "markdown",
      "source": "## 2.4 Common word removal"
    },
    {
      "metadata": {
        "trusted": false
      },
      "cell_type": "code",
      "source": "freq = pd.Series(' '.join(data['Text']).split()).value_counts()[:10]\nfreq",
      "execution_count": 17,
      "outputs": [
        {
          "data": {
            "text/plain": "spacex            239\namp               218\ntesla             166\nerdayastronaut    142\nrt                127\nppathole          123\nflcnhvy           114\nyes                86\ngreat              76\nteslaownerssv      73\ndtype: int64"
          },
          "execution_count": 17,
          "metadata": {},
          "output_type": "execute_result"
        }
      ]
    },
    {
      "metadata": {
        "trusted": false
      },
      "cell_type": "code",
      "source": "freq = list(freq.index)\ndata['Text'] = data['Text'].apply(lambda x: \" \".join(x for x in x.split() if x not in freq))\ndata['Text'].head()",
      "execution_count": 18,
      "outputs": [
        {
          "data": {
            "text/plain": "0                                    kunalb11 im alien\n1    id_aa_carmack ray tracing cyberpunk hdr nextle...\n2                           joerogan spotify interview\n3                          gtera27 doge underestimated\n4    teslacn congratulations china amazing executio...\nName: Text, dtype: object"
          },
          "execution_count": 18,
          "metadata": {},
          "output_type": "execute_result"
        }
      ]
    },
    {
      "metadata": {},
      "cell_type": "markdown",
      "source": "## 2.5 Rare Words Removal"
    },
    {
      "metadata": {
        "trusted": false
      },
      "cell_type": "code",
      "source": "freq = pd.Series(' '.join(data['Text']).split()).value_counts()[-10:]\nfreq",
      "execution_count": 19,
      "outputs": [
        {
          "data": {
            "text/plain": "httpstcou2wi4cgi5t    1\nep                    1\namazon                1\nopt                   1\npaved                 1\nreading               1\nnoise                 1\nfit                   1\nbuttontwiddling       1\nhttpstcoezlaxwg3rp    1\ndtype: int64"
          },
          "execution_count": 19,
          "metadata": {},
          "output_type": "execute_result"
        }
      ]
    },
    {
      "metadata": {
        "trusted": false
      },
      "cell_type": "code",
      "source": "freq = list(freq.index)\ndata['Text'] = data['Text'].apply(lambda x: \" \".join(x for x in x.split() if x not in freq))\ndata['Text'].head()",
      "execution_count": 20,
      "outputs": [
        {
          "data": {
            "text/plain": "0                                    kunalb11 im alien\n1    id_aa_carmack ray tracing cyberpunk hdr nextle...\n2                           joerogan spotify interview\n3                          gtera27 doge underestimated\n4    teslacn congratulations china amazing executio...\nName: Text, dtype: object"
          },
          "execution_count": 20,
          "metadata": {},
          "output_type": "execute_result"
        }
      ]
    },
    {
      "metadata": {},
      "cell_type": "markdown",
      "source": "## 2.6 Spelling correction"
    },
    {
      "metadata": {
        "trusted": false
      },
      "cell_type": "code",
      "source": "data['Text'][:5].apply(lambda x: str(TextBlob(x).correct()))",
      "execution_count": 21,
      "outputs": [
        {
          "data": {
            "text/plain": "0                                    kunalb11 in alien\n1    id_aa_carmack ray tracing cyberpunk her nextle...\n2                           joerogan specify interview\n3                          gtera27 done underestimated\n4    teslacn congratulations china amazing executio...\nName: Text, dtype: object"
          },
          "execution_count": 21,
          "metadata": {},
          "output_type": "execute_result"
        }
      ]
    },
    {
      "metadata": {},
      "cell_type": "markdown",
      "source": "## 2.7 Tokenization"
    },
    {
      "metadata": {
        "trusted": false
      },
      "cell_type": "code",
      "source": "TextBlob(data['Text'][1]).words",
      "execution_count": 24,
      "outputs": [
        {
          "data": {
            "text/plain": "WordList(['id_aa_carmack', 'ray', 'tracing', 'cyberpunk', 'hdr', 'nextlevel', 'tried'])"
          },
          "execution_count": 24,
          "metadata": {},
          "output_type": "execute_result"
        }
      ]
    },
    {
      "metadata": {
        "trusted": false
      },
      "cell_type": "code",
      "source": "nltk.download('punkt')",
      "execution_count": 23,
      "outputs": [
        {
          "name": "stderr",
          "output_type": "stream",
          "text": "[nltk_data] Downloading package punkt to\n[nltk_data]     C:\\Users\\perline.anisha\\AppData\\Roaming\\nltk_data...\n[nltk_data]   Unzipping tokenizers\\punkt.zip.\n"
        },
        {
          "data": {
            "text/plain": "True"
          },
          "execution_count": 23,
          "metadata": {},
          "output_type": "execute_result"
        }
      ]
    },
    {
      "metadata": {},
      "cell_type": "markdown",
      "source": "## 2.8 Stemming"
    },
    {
      "metadata": {
        "trusted": false
      },
      "cell_type": "code",
      "source": "from nltk.stem import PorterStemmer\nst = PorterStemmer()\ndata['Text'][:5].apply(lambda x: \" \".join([st.stem(word) for word in x.split()]))",
      "execution_count": 25,
      "outputs": [
        {
          "data": {
            "text/plain": "0                                    kunalb11 im alien\n1    id_aa_carmack ray trace cyberpunk hdr nextleve...\n2                           joerogan spotifi interview\n3                              gtera27 doge underestim\n4    teslacn congratul china amaz execut last year ...\nName: Text, dtype: object"
          },
          "execution_count": 25,
          "metadata": {},
          "output_type": "execute_result"
        }
      ]
    },
    {
      "metadata": {},
      "cell_type": "markdown",
      "source": "## 2.9 Lemmatization"
    },
    {
      "metadata": {
        "trusted": false
      },
      "cell_type": "code",
      "source": "from textblob import Word",
      "execution_count": 26,
      "outputs": []
    },
    {
      "metadata": {
        "trusted": false
      },
      "cell_type": "code",
      "source": "data['Text'] = data['Text'].apply(lambda x: \" \".join([Word(word).lemmatize() for word in x.split()]))\ndata['Text'].head()",
      "execution_count": 27,
      "outputs": [
        {
          "data": {
            "text/plain": "0                                    kunalb11 im alien\n1    id_aa_carmack ray tracing cyberpunk hdr nextle...\n2                           joerogan spotify interview\n3                          gtera27 doge underestimated\n4    teslacn congratulation china amazing execution...\nName: Text, dtype: object"
          },
          "execution_count": 27,
          "metadata": {},
          "output_type": "execute_result"
        }
      ]
    },
    {
      "metadata": {},
      "cell_type": "markdown",
      "source": "# 3 Advanced Text Processing"
    },
    {
      "metadata": {},
      "cell_type": "markdown",
      "source": "## 3.1 N-grams"
    },
    {
      "metadata": {
        "trusted": false
      },
      "cell_type": "code",
      "source": "TextBlob(data['Text'][0]).ngrams(2)",
      "execution_count": 28,
      "outputs": [
        {
          "data": {
            "text/plain": "[WordList(['kunalb11', 'im']), WordList(['im', 'alien'])]"
          },
          "execution_count": 28,
          "metadata": {},
          "output_type": "execute_result"
        }
      ]
    },
    {
      "metadata": {},
      "cell_type": "markdown",
      "source": "## 3.2 Term frequency\nTerm frequency is simply the ratio of the count of a word present in a sentence, to the length of the sentence.\n\nTherefore, we can generalize term frequency as:\n\nTF = (Number of times term T appears in the particular row) / (number of terms in that row)"
    },
    {
      "metadata": {
        "trusted": false
      },
      "cell_type": "code",
      "source": "tf1 = (data['Text'][1:2]).apply(lambda x: pd.value_counts(x.split(\" \"))).sum(axis = 0).reset_index()\ntf1.columns = ['words','tf']\ntf1",
      "execution_count": 29,
      "outputs": [
        {
          "data": {
            "text/html": "<div>\n<style scoped>\n    .dataframe tbody tr th:only-of-type {\n        vertical-align: middle;\n    }\n\n    .dataframe tbody tr th {\n        vertical-align: top;\n    }\n\n    .dataframe thead th {\n        text-align: right;\n    }\n</style>\n<table border=\"1\" class=\"dataframe\">\n  <thead>\n    <tr style=\"text-align: right;\">\n      <th></th>\n      <th>words</th>\n      <th>tf</th>\n    </tr>\n  </thead>\n  <tbody>\n    <tr>\n      <th>0</th>\n      <td>ray</td>\n      <td>1</td>\n    </tr>\n    <tr>\n      <th>1</th>\n      <td>tried</td>\n      <td>1</td>\n    </tr>\n    <tr>\n      <th>2</th>\n      <td>cyberpunk</td>\n      <td>1</td>\n    </tr>\n    <tr>\n      <th>3</th>\n      <td>tracing</td>\n      <td>1</td>\n    </tr>\n    <tr>\n      <th>4</th>\n      <td>nextlevel</td>\n      <td>1</td>\n    </tr>\n    <tr>\n      <th>5</th>\n      <td>id_aa_carmack</td>\n      <td>1</td>\n    </tr>\n    <tr>\n      <th>6</th>\n      <td>hdr</td>\n      <td>1</td>\n    </tr>\n  </tbody>\n</table>\n</div>",
            "text/plain": "           words  tf\n0            ray   1\n1          tried   1\n2      cyberpunk   1\n3        tracing   1\n4      nextlevel   1\n5  id_aa_carmack   1\n6            hdr   1"
          },
          "execution_count": 29,
          "metadata": {},
          "output_type": "execute_result"
        }
      ]
    },
    {
      "metadata": {},
      "cell_type": "markdown",
      "source": "## 3.3 Inverse Document Frequency\nThe intuition behind inverse document frequency (IDF) is that a word is not of much use to us if it’s appearing in all the documents.\n\nTherefore, the IDF of each word is the log of the ratio of the total number of rows to the number of rows in which that word is present.\n\nIDF = log(N/n), where, N is the total number of rows and n is the number of rows in which the word was present."
    },
    {
      "metadata": {
        "trusted": false
      },
      "cell_type": "code",
      "source": "for i,word in enumerate(tf1['words']):\n  tf1.loc[i, 'idf'] = np.log(data.shape[0]/(len(data[data['Text'].str.contains(word)])))\n\ntf1",
      "execution_count": 30,
      "outputs": [
        {
          "data": {
            "text/html": "<div>\n<style scoped>\n    .dataframe tbody tr th:only-of-type {\n        vertical-align: middle;\n    }\n\n    .dataframe tbody tr th {\n        vertical-align: top;\n    }\n\n    .dataframe thead th {\n        text-align: right;\n    }\n</style>\n<table border=\"1\" class=\"dataframe\">\n  <thead>\n    <tr style=\"text-align: right;\">\n      <th></th>\n      <th>words</th>\n      <th>tf</th>\n      <th>idf</th>\n    </tr>\n  </thead>\n  <tbody>\n    <tr>\n      <th>0</th>\n      <td>ray</td>\n      <td>1</td>\n      <td>5.035453</td>\n    </tr>\n    <tr>\n      <th>1</th>\n      <td>tried</td>\n      <td>1</td>\n      <td>5.808643</td>\n    </tr>\n    <tr>\n      <th>2</th>\n      <td>cyberpunk</td>\n      <td>1</td>\n      <td>5.115496</td>\n    </tr>\n    <tr>\n      <th>3</th>\n      <td>tracing</td>\n      <td>1</td>\n      <td>7.600402</td>\n    </tr>\n    <tr>\n      <th>4</th>\n      <td>nextlevel</td>\n      <td>1</td>\n      <td>6.907255</td>\n    </tr>\n    <tr>\n      <th>5</th>\n      <td>id_aa_carmack</td>\n      <td>1</td>\n      <td>4.166415</td>\n    </tr>\n    <tr>\n      <th>6</th>\n      <td>hdr</td>\n      <td>1</td>\n      <td>6.907255</td>\n    </tr>\n  </tbody>\n</table>\n</div>",
            "text/plain": "           words  tf       idf\n0            ray   1  5.035453\n1          tried   1  5.808643\n2      cyberpunk   1  5.115496\n3        tracing   1  7.600402\n4      nextlevel   1  6.907255\n5  id_aa_carmack   1  4.166415\n6            hdr   1  6.907255"
          },
          "execution_count": 30,
          "metadata": {},
          "output_type": "execute_result"
        }
      ]
    },
    {
      "metadata": {},
      "cell_type": "markdown",
      "source": "## 3.4 Term Frequency – Inverse Document Frequency (TF-IDF)"
    },
    {
      "metadata": {
        "trusted": false
      },
      "cell_type": "code",
      "source": "tf1['tfidf'] = tf1['tf'] * tf1['idf']\ntf1",
      "execution_count": 31,
      "outputs": [
        {
          "data": {
            "text/html": "<div>\n<style scoped>\n    .dataframe tbody tr th:only-of-type {\n        vertical-align: middle;\n    }\n\n    .dataframe tbody tr th {\n        vertical-align: top;\n    }\n\n    .dataframe thead th {\n        text-align: right;\n    }\n</style>\n<table border=\"1\" class=\"dataframe\">\n  <thead>\n    <tr style=\"text-align: right;\">\n      <th></th>\n      <th>words</th>\n      <th>tf</th>\n      <th>idf</th>\n      <th>tfidf</th>\n    </tr>\n  </thead>\n  <tbody>\n    <tr>\n      <th>0</th>\n      <td>ray</td>\n      <td>1</td>\n      <td>5.035453</td>\n      <td>5.035453</td>\n    </tr>\n    <tr>\n      <th>1</th>\n      <td>tried</td>\n      <td>1</td>\n      <td>5.808643</td>\n      <td>5.808643</td>\n    </tr>\n    <tr>\n      <th>2</th>\n      <td>cyberpunk</td>\n      <td>1</td>\n      <td>5.115496</td>\n      <td>5.115496</td>\n    </tr>\n    <tr>\n      <th>3</th>\n      <td>tracing</td>\n      <td>1</td>\n      <td>7.600402</td>\n      <td>7.600402</td>\n    </tr>\n    <tr>\n      <th>4</th>\n      <td>nextlevel</td>\n      <td>1</td>\n      <td>6.907255</td>\n      <td>6.907255</td>\n    </tr>\n    <tr>\n      <th>5</th>\n      <td>id_aa_carmack</td>\n      <td>1</td>\n      <td>4.166415</td>\n      <td>4.166415</td>\n    </tr>\n    <tr>\n      <th>6</th>\n      <td>hdr</td>\n      <td>1</td>\n      <td>6.907255</td>\n      <td>6.907255</td>\n    </tr>\n  </tbody>\n</table>\n</div>",
            "text/plain": "           words  tf       idf     tfidf\n0            ray   1  5.035453  5.035453\n1          tried   1  5.808643  5.808643\n2      cyberpunk   1  5.115496  5.115496\n3        tracing   1  7.600402  7.600402\n4      nextlevel   1  6.907255  6.907255\n5  id_aa_carmack   1  4.166415  4.166415\n6            hdr   1  6.907255  6.907255"
          },
          "execution_count": 31,
          "metadata": {},
          "output_type": "execute_result"
        }
      ]
    },
    {
      "metadata": {
        "trusted": false
      },
      "cell_type": "code",
      "source": "from sklearn.feature_extraction.text import TfidfVectorizer\ntfidf = TfidfVectorizer(max_features=1000, lowercase=True, analyzer='word',\n stop_words= 'english',ngram_range=(1,1))\nvect = tfidf.fit_transform(data['Text'])\nvect",
      "execution_count": 32,
      "outputs": [
        {
          "data": {
            "text/plain": "<1999x1000 sparse matrix of type '<class 'numpy.float64'>'\n\twith 7374 stored elements in Compressed Sparse Row format>"
          },
          "execution_count": 32,
          "metadata": {},
          "output_type": "execute_result"
        }
      ]
    },
    {
      "metadata": {},
      "cell_type": "markdown",
      "source": "## 3.5 Bag of Words"
    },
    {
      "metadata": {
        "trusted": false
      },
      "cell_type": "code",
      "source": "from sklearn.feature_extraction.text import CountVectorizer\nbow = CountVectorizer(max_features=1000, lowercase=True, ngram_range=(1,1),analyzer = \"word\")\ndata_bow = bow.fit_transform(data['Text'])\ndata_bow",
      "execution_count": 33,
      "outputs": [
        {
          "data": {
            "text/plain": "<1999x1000 sparse matrix of type '<class 'numpy.int64'>'\n\twith 8016 stored elements in Compressed Sparse Row format>"
          },
          "execution_count": 33,
          "metadata": {},
          "output_type": "execute_result"
        }
      ]
    },
    {
      "metadata": {},
      "cell_type": "markdown",
      "source": "## 3.6 Sentiment Analysis"
    },
    {
      "metadata": {
        "trusted": false
      },
      "cell_type": "code",
      "source": "data['Text'][:5].apply(lambda x: TextBlob(x).sentiment)",
      "execution_count": 34,
      "outputs": [
        {
          "data": {
            "text/plain": "0                                 (-0.25, 0.75)\n1                                    (0.0, 0.0)\n2                                    (0.0, 0.0)\n3                                    (0.0, 0.0)\n4    (0.20000000000000004, 0.32222222222222224)\nName: Text, dtype: object"
          },
          "execution_count": 34,
          "metadata": {},
          "output_type": "execute_result"
        }
      ]
    },
    {
      "metadata": {
        "trusted": false
      },
      "cell_type": "code",
      "source": "data['sentiment'] = data['Text'].apply(lambda x: TextBlob(x).sentiment[0] )\ndata[['Text','sentiment']].head()",
      "execution_count": 35,
      "outputs": [
        {
          "data": {
            "text/html": "<div>\n<style scoped>\n    .dataframe tbody tr th:only-of-type {\n        vertical-align: middle;\n    }\n\n    .dataframe tbody tr th {\n        vertical-align: top;\n    }\n\n    .dataframe thead th {\n        text-align: right;\n    }\n</style>\n<table border=\"1\" class=\"dataframe\">\n  <thead>\n    <tr style=\"text-align: right;\">\n      <th></th>\n      <th>Text</th>\n      <th>sentiment</th>\n    </tr>\n  </thead>\n  <tbody>\n    <tr>\n      <th>0</th>\n      <td>kunalb11 im alien</td>\n      <td>-0.25</td>\n    </tr>\n    <tr>\n      <th>1</th>\n      <td>id_aa_carmack ray tracing cyberpunk hdr nextle...</td>\n      <td>0.00</td>\n    </tr>\n    <tr>\n      <th>2</th>\n      <td>joerogan spotify interview</td>\n      <td>0.00</td>\n    </tr>\n    <tr>\n      <th>3</th>\n      <td>gtera27 doge underestimated</td>\n      <td>0.00</td>\n    </tr>\n    <tr>\n      <th>4</th>\n      <td>teslacn congratulation china amazing execution...</td>\n      <td>0.20</td>\n    </tr>\n  </tbody>\n</table>\n</div>",
            "text/plain": "                                                Text  sentiment\n0                                  kunalb11 im alien      -0.25\n1  id_aa_carmack ray tracing cyberpunk hdr nextle...       0.00\n2                         joerogan spotify interview       0.00\n3                        gtera27 doge underestimated       0.00\n4  teslacn congratulation china amazing execution...       0.20"
          },
          "execution_count": 35,
          "metadata": {},
          "output_type": "execute_result"
        }
      ]
    },
    {
      "metadata": {},
      "cell_type": "markdown",
      "source": "# Perform emotion mining"
    },
    {
      "metadata": {},
      "cell_type": "markdown",
      "source": "# Read Data"
    },
    {
      "metadata": {
        "trusted": false
      },
      "cell_type": "code",
      "source": "! pip install future",
      "execution_count": 57,
      "outputs": [
        {
          "name": "stdout",
          "output_type": "stream",
          "text": "Requirement already satisfied: future in c:\\programdata\\anaconda3\\lib\\site-packages (0.18.2)\n"
        }
      ]
    },
    {
      "metadata": {
        "trusted": false
      },
      "cell_type": "code",
      "source": "pip install -U future ",
      "execution_count": 59,
      "outputs": [
        {
          "name": "stdout",
          "output_type": "stream",
          "text": "Requirement already up-to-date: future in c:\\programdata\\anaconda3\\lib\\site-packages (0.18.2)\nNote: you may need to restart the kernel to use updated packages.\n"
        }
      ]
    },
    {
      "metadata": {
        "trusted": false
      },
      "cell_type": "code",
      "source": "import codecs\nimport re\nimport copy\nimport collections\nimport pandas as pd\nimport numpy as np\nimport nltk\nfrom nltk.stem import PorterStemmer\nfrom nltk.tokenize import WordPunctTokenizer\nimport matplotlib\n    \n%matplotlib inline\n",
      "execution_count": 2,
      "outputs": []
    },
    {
      "metadata": {
        "trusted": false
      },
      "cell_type": "code",
      "source": "from __future__ import division\nimport os\nfrom nltk.corpus import twitter_samples",
      "execution_count": 34,
      "outputs": []
    },
    {
      "metadata": {
        "trusted": false
      },
      "cell_type": "code",
      "source": "nltk.download('stopwords')",
      "execution_count": 4,
      "outputs": [
        {
          "name": "stderr",
          "output_type": "stream",
          "text": "[nltk_data] Downloading package stopwords to\n[nltk_data]     C:\\Users\\perline.anisha\\AppData\\Roaming\\nltk_data...\n[nltk_data]   Package stopwords is already up-to-date!\n"
        },
        {
          "data": {
            "text/plain": "True"
          },
          "execution_count": 4,
          "metadata": {},
          "output_type": "execute_result"
        }
      ]
    },
    {
      "metadata": {
        "trusted": false
      },
      "cell_type": "code",
      "source": "from nltk.corpus import stopwords",
      "execution_count": 5,
      "outputs": []
    },
    {
      "metadata": {
        "trusted": false
      },
      "cell_type": "code",
      "source": "with codecs.open(\"positive-words (1).txt\", \"r\", encoding=\"utf-8\") as p:\n    pos = p.read()\n    print(pos)",
      "execution_count": 35,
      "outputs": [
        {
          "name": "stdout",
          "output_type": "stream",
          "text": ";;;;;;;;;;;;;;;;;;;;;;;;;;;;;;;;;;;;;;;;;;;;;;;;;;;;;;;;;;;;;;;;;;;;;;;;;;;;\n; \n; Opinion Lexicon: Positive\n;\n; This file contains a list of POSITIVE opinion words (or sentiment words).\n;\n; This file and the papers can all be downloaded from \n;    http://www.cs.uic.edu/~liub/FBS/sentiment-analysis.html\n;\n; If you use this list, please cite one of the following two papers:\n;\n;   Minqing Hu and Bing Liu. \"Mining and Summarizing Customer Reviews.\" \n;       Proceedings of the ACM SIGKDD International Conference on Knowledge \n;       Discovery and Data Mining (KDD-2004), Aug 22-25, 2004, Seattle, \n;       Washington, USA, \n;   Bing Liu, Minqing Hu and Junsheng Cheng. \"Opinion Observer: Analyzing \n;       and Comparing Opinions on the Web.\" Proceedings of the 14th \n;       International World Wide Web conference (WWW-2005), May 10-14, \n;       2005, Chiba, Japan.\n;\n; Notes: \n;    1. The appearance of an opinion word in a sentence does not necessarily  \n;       mean that the sentence expresses a positive or negative opinion. \n;       See the paper below:\n;\n;       Bing Liu. \"Sentiment Analysis and Subjectivity.\" An chapter in \n;          Handbook of Natural Language Processing, Second Edition, \n;          (editors: N. Indurkhya and F. J. Damerau), 2010.\n;\n;    2. You will notice many misspelled words in the list. They are not \n;       mistakes. They are included as these misspelled words appear \n;       frequently in social media content. \n;\n;;;;;;;;;;;;;;;;;;;;;;;;;;;;;;;;;;;;;;;;;;;;;;;;;;;;;;;;;;;;;;;;;;;;;;;;;;;;\n\na+\nabound\nabounds\nabundance\nabundant\naccessable\naccessible\nacclaim\nacclaimed\nacclamation\naccolade\naccolades\naccommodative\naccomodative\naccomplish\naccomplished\naccomplishment\naccomplishments\naccurate\naccurately\nachievable\nachievement\nachievements\nachievible\nacumen\nadaptable\nadaptive\nadequate\nadjustable\nadmirable\nadmirably\nadmiration\nadmire\nadmirer\nadmiring\nadmiringly\nadorable\nadore\nadored\nadorer\nadoring\nadoringly\nadroit\nadroitly\nadulate\nadulation\nadulatory\nadvanced\nadvantage\nadvantageous\nadvantageously\nadvantages\nadventuresome\nadventurous\nadvocate\nadvocated\nadvocates\naffability\naffable\naffably\naffectation\naffection\naffectionate\naffinity\naffirm\naffirmation\naffirmative\naffluence\naffluent\nafford\naffordable\naffordably\nafordable\nagile\nagilely\nagility\nagreeable\nagreeableness\nagreeably\nall-around\nalluring\nalluringly\naltruistic\naltruistically\namaze\namazed\namazement\namazes\namazing\namazingly\nambitious\nambitiously\nameliorate\namenable\namenity\namiability\namiabily\namiable\namicability\namicable\namicably\namity\nample\namply\namuse\namusing\namusingly\nangel\nangelic\napotheosis\nappeal\nappealing\napplaud\nappreciable\nappreciate\nappreciated\nappreciates\nappreciative\nappreciatively\nappropriate\napproval\napprove\nardent\nardently\nardor\narticulate\naspiration\naspirations\naspire\nassurance\nassurances\nassure\nassuredly\nassuring\nastonish\nastonished\nastonishing\nastonishingly\nastonishment\nastound\nastounded\nastounding\nastoundingly\nastutely\nattentive\nattraction\nattractive\nattractively\nattune\naudible\naudibly\nauspicious\nauthentic\nauthoritative\nautonomous\navailable\naver\navid\navidly\naward\nawarded\nawards\nawe\nawed\nawesome\nawesomely\nawesomeness\nawestruck\nawsome\nbackbone\nbalanced\nbargain\nbeauteous\nbeautiful\nbeautifullly\nbeautifully\nbeautify\nbeauty\nbeckon\nbeckoned\nbeckoning\nbeckons\nbelievable\nbelieveable\nbeloved\nbenefactor\nbeneficent\nbeneficial\nbeneficially\nbeneficiary\nbenefit\nbenefits\nbenevolence\nbenevolent\nbenifits\nbest\nbest-known\nbest-performing\nbest-selling\nbetter\nbetter-known\nbetter-than-expected\nbeutifully\nblameless\nbless\nblessing\nbliss\nblissful\nblissfully\nblithe\nblockbuster\nbloom\nblossom\nbolster\nbonny\nbonus\nbonuses\nboom\nbooming\nboost\nboundless\nbountiful\nbrainiest\nbrainy\nbrand-new\nbrave\nbravery\nbravo\nbreakthrough\nbreakthroughs\nbreathlessness\nbreathtaking\nbreathtakingly\nbreeze\nbright\nbrighten\nbrighter\nbrightest\nbrilliance\nbrilliances\nbrilliant\nbrilliantly\nbrisk\nbrotherly\nbullish\nbuoyant\ncajole\ncalm\ncalming\ncalmness\ncapability\ncapable\ncapably\ncaptivate\ncaptivating\ncarefree\ncashback\ncashbacks\ncatchy\ncelebrate\ncelebrated\ncelebration\ncelebratory\nchamp\nchampion\ncharisma\ncharismatic\ncharitable\ncharm\ncharming\ncharmingly\nchaste\ncheaper\ncheapest\ncheer\ncheerful\ncheery\ncherish\ncherished\ncherub\nchic\nchivalrous\nchivalry\ncivility\ncivilize\nclarity\nclassic\nclassy\nclean\ncleaner\ncleanest\ncleanliness\ncleanly\nclear\nclear-cut\ncleared\nclearer\nclearly\nclears\nclever\ncleverly\ncohere\ncoherence\ncoherent\ncohesive\ncolorful\ncomely\ncomfort\ncomfortable\ncomfortably\ncomforting\ncomfy\ncommend\ncommendable\ncommendably\ncommitment\ncommodious\ncompact\ncompactly\ncompassion\ncompassionate\ncompatible\ncompetitive\ncomplement\ncomplementary\ncomplemented\ncomplements\ncompliant\ncompliment\ncomplimentary\ncomprehensive\nconciliate\nconciliatory\nconcise\nconfidence\nconfident\ncongenial\ncongratulate\ncongratulation\ncongratulations\ncongratulatory\nconscientious\nconsiderate\nconsistent\nconsistently\nconstructive\nconsummate\ncontentment\ncontinuity\ncontrasty\ncontribution\nconvenience\nconvenient\nconveniently\nconvience\nconvienient\nconvient\nconvincing\nconvincingly\ncool\ncoolest\ncooperative\ncooperatively\ncornerstone\ncorrect\ncorrectly\ncost-effective\ncost-saving\ncounter-attack\ncounter-attacks\ncourage\ncourageous\ncourageously\ncourageousness\ncourteous\ncourtly\ncovenant\ncozy\ncreative\ncredence\ncredible\ncrisp\ncrisper\ncure\ncure-all\ncushy\ncute\ncuteness\ndanke\ndanken\ndaring\ndaringly\ndarling\ndashing\ndauntless\ndawn\ndazzle\ndazzled\ndazzling\ndead-cheap\ndead-on\ndecency\ndecent\ndecisive\ndecisiveness\ndedicated\ndefeat\ndefeated\ndefeating\ndefeats\ndefender\ndeference\ndeft\ndeginified\ndelectable\ndelicacy\ndelicate\ndelicious\ndelight\ndelighted\ndelightful\ndelightfully\ndelightfulness\ndependable\ndependably\ndeservedly\ndeserving\ndesirable\ndesiring\ndesirous\ndestiny\ndetachable\ndevout\ndexterous\ndexterously\ndextrous\ndignified\ndignify\ndignity\ndiligence\ndiligent\ndiligently\ndiplomatic\ndirt-cheap\ndistinction\ndistinctive\ndistinguished\ndiversified\ndivine\ndivinely\ndominate\ndominated\ndominates\ndote\ndotingly\ndoubtless\ndreamland\ndumbfounded\ndumbfounding\ndummy-proof\ndurable\ndynamic\neager\neagerly\neagerness\nearnest\nearnestly\nearnestness\nease\neased\neases\neasier\neasiest\neasiness\neasing\neasy\neasy-to-use\neasygoing\nebullience\nebullient\nebulliently\necenomical\neconomical\necstasies\necstasy\necstatic\necstatically\nedify\neducated\neffective\neffectively\neffectiveness\neffectual\nefficacious\nefficient\nefficiently\neffortless\neffortlessly\neffusion\neffusive\neffusively\neffusiveness\nelan\nelate\nelated\nelatedly\nelation\nelectrify\nelegance\nelegant\nelegantly\nelevate\nelite\neloquence\neloquent\neloquently\nembolden\neminence\neminent\nempathize\nempathy\nempower\nempowerment\nenchant\nenchanted\nenchanting\nenchantingly\nencourage\nencouragement\nencouraging\nencouragingly\nendear\nendearing\nendorse\nendorsed\nendorsement\nendorses\nendorsing\nenergetic\nenergize\nenergy-efficient\nenergy-saving\nengaging\nengrossing\nenhance\nenhanced\nenhancement\nenhances\nenjoy\nenjoyable\nenjoyably\nenjoyed\nenjoying\nenjoyment\nenjoys\nenlighten\nenlightenment\nenliven\nennoble\nenough\nenrapt\nenrapture\nenraptured\nenrich\nenrichment\nenterprising\nentertain\nentertaining\nentertains\nenthral\nenthrall\nenthralled\nenthuse\nenthusiasm\nenthusiast\nenthusiastic\nenthusiastically\nentice\nenticed\nenticing\nenticingly\nentranced\nentrancing\nentrust\nenviable\nenviably\nenvious\nenviously\nenviousness\nenvy\nequitable\nergonomical\nerr-free\nerudite\nethical\neulogize\neuphoria\neuphoric\neuphorically\nevaluative\nevenly\neventful\neverlasting\nevocative\nexalt\nexaltation\nexalted\nexaltedly\nexalting\nexaltingly\nexamplar\nexamplary\nexcallent\nexceed\nexceeded\nexceeding\nexceedingly\nexceeds\nexcel\nexceled\nexcelent\nexcellant\nexcelled\nexcellence\nexcellency\nexcellent\nexcellently\nexcels\nexceptional\nexceptionally\nexcite\nexcited\nexcitedly\nexcitedness\nexcitement\nexcites\nexciting\nexcitingly\nexellent\nexemplar\nexemplary\nexhilarate\nexhilarating\nexhilaratingly\nexhilaration\nexonerate\nexpansive\nexpeditiously\nexpertly\nexquisite\nexquisitely\nextol\nextoll\nextraordinarily\nextraordinary\nexuberance\nexuberant\nexuberantly\nexult\nexultant\nexultation\nexultingly\neye-catch\neye-catching\neyecatch\neyecatching\nfabulous\nfabulously\nfacilitate\nfair\nfairly\nfairness\nfaith\nfaithful\nfaithfully\nfaithfulness\nfame\nfamed\nfamous\nfamously\nfancier\nfancinating\nfancy\nfanfare\nfans\nfantastic\nfantastically\nfascinate\nfascinating\nfascinatingly\nfascination\nfashionable\nfashionably\nfast\nfast-growing\nfast-paced\nfaster\nfastest\nfastest-growing\nfaultless\nfav\nfave\nfavor\nfavorable\nfavored\nfavorite\nfavorited\nfavour\nfearless\nfearlessly\nfeasible\nfeasibly\nfeat\nfeature-rich\nfecilitous\nfeisty\nfelicitate\nfelicitous\nfelicity\nfertile\nfervent\nfervently\nfervid\nfervidly\nfervor\nfestive\nfidelity\nfiery\nfine\nfine-looking\nfinely\nfiner\nfinest\nfirmer\nfirst-class\nfirst-in-class\nfirst-rate\nflashy\nflatter\nflattering\nflatteringly\nflawless\nflawlessly\nflexibility\nflexible\nflourish\nflourishing\nfluent\nflutter\nfond\nfondly\nfondness\nfoolproof\nforemost\nforesight\nformidable\nfortitude\nfortuitous\nfortuitously\nfortunate\nfortunately\nfortune\nfragrant\nfree\nfreed\nfreedom\nfreedoms\nfresh\nfresher\nfreshest\nfriendliness\nfriendly\nfrolic\nfrugal\nfruitful\nftw\nfulfillment\nfun\nfuturestic\nfuturistic\ngaiety\ngaily\ngain\ngained\ngainful\ngainfully\ngaining\ngains\ngallant\ngallantly\ngalore\ngeekier\ngeeky\ngem\ngems\ngenerosity\ngenerous\ngenerously\ngenial\ngenius\ngentle\ngentlest\ngenuine\ngifted\nglad\ngladden\ngladly\ngladness\nglamorous\nglee\ngleeful\ngleefully\nglimmer\nglimmering\nglisten\nglistening\nglitter\nglitz\nglorify\nglorious\ngloriously\nglory\nglow\nglowing\nglowingly\ngod-given\ngod-send\ngodlike\ngodsend\ngold\ngolden\ngood\ngoodly\ngoodness\ngoodwill\ngoood\ngooood\ngorgeous\ngorgeously\ngrace\ngraceful\ngracefully\ngracious\ngraciously\ngraciousness\ngrand\ngrandeur\ngrateful\ngratefully\ngratification\ngratified\ngratifies\ngratify\ngratifying\ngratifyingly\ngratitude\ngreat\ngreatest\ngreatness\ngrin\ngroundbreaking\nguarantee\nguidance\nguiltless\ngumption\ngush\ngusto\ngutsy\nhail\nhalcyon\nhale\nhallmark\nhallmarks\nhallowed\nhandier\nhandily\nhands-down\nhandsome\nhandsomely\nhandy\nhappier\nhappily\nhappiness\nhappy\nhard-working\nhardier\nhardy\nharmless\nharmonious\nharmoniously\nharmonize\nharmony\nheadway\nheal\nhealthful\nhealthy\nhearten\nheartening\nheartfelt\nheartily\nheartwarming\nheaven\nheavenly\nhelped\nhelpful\nhelping\nhero\nheroic\nheroically\nheroine\nheroize\nheros\nhigh-quality\nhigh-spirited\nhilarious\nholy\nhomage\nhonest\nhonesty\nhonor\nhonorable\nhonored\nhonoring\nhooray\nhopeful\nhospitable\nhot\nhotcake\nhotcakes\nhottest\nhug\nhumane\nhumble\nhumility\nhumor\nhumorous\nhumorously\nhumour\nhumourous\nideal\nidealize\nideally\nidol\nidolize\nidolized\nidyllic\nilluminate\nilluminati\nilluminating\nillumine\nillustrious\nilu\nimaculate\nimaginative\nimmaculate\nimmaculately\nimmense\nimpartial\nimpartiality\nimpartially\nimpassioned\nimpeccable\nimpeccably\nimportant\nimpress\nimpressed\nimpresses\nimpressive\nimpressively\nimpressiveness\nimprove\nimproved\nimprovement\nimprovements\nimproves\nimproving\nincredible\nincredibly\nindebted\nindividualized\nindulgence\nindulgent\nindustrious\ninestimable\ninestimably\ninexpensive\ninfallibility\ninfallible\ninfallibly\ninfluential\ningenious\ningeniously\ningenuity\ningenuous\ningenuously\ninnocuous\ninnovation\ninnovative\ninpressed\ninsightful\ninsightfully\ninspiration\ninspirational\ninspire\ninspiring\ninstantly\ninstructive\ninstrumental\nintegral\nintegrated\nintelligence\nintelligent\nintelligible\ninteresting\ninterests\nintimacy\nintimate\nintricate\nintrigue\nintriguing\nintriguingly\nintuitive\ninvaluable\ninvaluablely\ninventive\ninvigorate\ninvigorating\ninvincibility\ninvincible\ninviolable\ninviolate\ninvulnerable\nirreplaceable\nirreproachable\nirresistible\nirresistibly\nissue-free\njaw-droping\njaw-dropping\njollify\njolly\njovial\njoy\njoyful\njoyfully\njoyous\njoyously\njubilant\njubilantly\njubilate\njubilation\njubiliant\njudicious\njustly\nkeen\nkeenly\nkeenness\nkid-friendly\nkindliness\nkindly\nkindness\nknowledgeable\nkudos\nlarge-capacity\nlaud\nlaudable\nlaudably\nlavish\nlavishly\nlaw-abiding\nlawful\nlawfully\nlead\nleading\nleads\nlean\nled\nlegendary\nleverage\nlevity\nliberate\nliberation\nliberty\nlifesaver\nlight-hearted\nlighter\nlikable\nlike\nliked\nlikes\nliking\nlionhearted\nlively\nlogical\nlong-lasting\nlovable\nlovably\nlove\nloved\nloveliness\nlovely\nlover\nloves\nloving\nlow-cost\nlow-price\nlow-priced\nlow-risk\nlower-priced\nloyal\nloyalty\nlucid\nlucidly\nluck\nluckier\nluckiest\nluckiness\nlucky\nlucrative\nluminous\nlush\nluster\nlustrous\nluxuriant\nluxuriate\nluxurious\nluxuriously\nluxury\nlyrical\nmagic\nmagical\nmagnanimous\nmagnanimously\nmagnificence\nmagnificent\nmagnificently\nmajestic\nmajesty\nmanageable\nmaneuverable\nmarvel\nmarveled\nmarvelled\nmarvellous\nmarvelous\nmarvelously\nmarvelousness\nmarvels\nmaster\nmasterful\nmasterfully\nmasterpiece\nmasterpieces\nmasters\nmastery\nmatchless\nmature\nmaturely\nmaturity\nmeaningful\nmemorable\nmerciful\nmercifully\nmercy\nmerit\nmeritorious\nmerrily\nmerriment\nmerriness\nmerry\nmesmerize\nmesmerized\nmesmerizes\nmesmerizing\nmesmerizingly\nmeticulous\nmeticulously\nmightily\nmighty\nmind-blowing\nmiracle\nmiracles\nmiraculous\nmiraculously\nmiraculousness\nmodern\nmodest\nmodesty\nmomentous\nmonumental\nmonumentally\nmorality\nmotivated\nmulti-purpose\nnavigable\nneat\nneatest\nneatly\nnice\nnicely\nnicer\nnicest\nnifty\nnimble\nnoble\nnobly\nnoiseless\nnon-violence\nnon-violent\nnotably\nnoteworthy\nnourish\nnourishing\nnourishment\nnovelty\nnurturing\noasis\nobsession\nobsessions\nobtainable\nopenly\nopenness\noptimal\noptimism\noptimistic\nopulent\norderly\noriginality\noutdo\noutdone\noutperform\noutperformed\noutperforming\noutperforms\noutshine\noutshone\noutsmart\noutstanding\noutstandingly\noutstrip\noutwit\novation\noverjoyed\novertake\novertaken\novertakes\novertaking\novertook\noverture\npain-free\npainless\npainlessly\npalatial\npamper\npampered\npamperedly\npamperedness\npampers\npanoramic\nparadise\nparamount\npardon\npassion\npassionate\npassionately\npatience\npatient\npatiently\npatriot\npatriotic\npeace\npeaceable\npeaceful\npeacefully\npeacekeepers\npeach\npeerless\npep\npepped\npepping\npeppy\npeps\nperfect\nperfection\nperfectly\npermissible\nperseverance\npersevere\npersonages\npersonalized\nphenomenal\nphenomenally\npicturesque\npiety\npinnacle\nplayful\nplayfully\npleasant\npleasantly\npleased\npleases\npleasing\npleasingly\npleasurable\npleasurably\npleasure\nplentiful\npluses\nplush\nplusses\npoetic\npoeticize\npoignant\npoise\npoised\npolished\npolite\npoliteness\npopular\nportable\nposh\npositive\npositively\npositives\npowerful\npowerfully\npraise\npraiseworthy\npraising\npre-eminent\nprecious\nprecise\nprecisely\npreeminent\nprefer\npreferable\npreferably\nprefered\npreferes\npreferring\nprefers\npremier\nprestige\nprestigious\nprettily\npretty\npriceless\npride\nprincipled\nprivilege\nprivileged\nprize\nproactive\nproblem-free\nproblem-solver\nprodigious\nprodigiously\nprodigy\nproductive\nproductively\nproficient\nproficiently\nprofound\nprofoundly\nprofuse\nprofusion\nprogress\nprogressive\nprolific\nprominence\nprominent\npromise\npromised\npromises\npromising\npromoter\nprompt\npromptly\nproper\nproperly\npropitious\npropitiously\npros\nprosper\nprosperity\nprosperous\nprospros\nprotect\nprotection\nprotective\nproud\nproven\nproves\nprovidence\nproving\nprowess\nprudence\nprudent\nprudently\npunctual\npure\npurify\npurposeful\nquaint\nqualified\nqualify\nquicker\nquiet\nquieter\nradiance\nradiant\nrapid\nrapport\nrapt\nrapture\nraptureous\nraptureously\nrapturous\nrapturously\nrational\nrazor-sharp\nreachable\nreadable\nreadily\nready\nreaffirm\nreaffirmation\nrealistic\nrealizable\nreasonable\nreasonably\nreasoned\nreassurance\nreassure\nreceptive\nreclaim\nrecomend\nrecommend\nrecommendation\nrecommendations\nrecommended\nreconcile\nreconciliation\nrecord-setting\nrecover\nrecovery\nrectification\nrectify\nrectifying\nredeem\nredeeming\nredemption\nrefine\nrefined\nrefinement\nreform\nreformed\nreforming\nreforms\nrefresh\nrefreshed\nrefreshing\nrefund\nrefunded\nregal\nregally\nregard\nrejoice\nrejoicing\nrejoicingly\nrejuvenate\nrejuvenated\nrejuvenating\nrelaxed\nrelent\nreliable\nreliably\nrelief\nrelish\nremarkable\nremarkably\nremedy\nremission\nremunerate\nrenaissance\nrenewed\nrenown\nrenowned\nreplaceable\nreputable\nreputation\nresilient\nresolute\nresound\nresounding\nresourceful\nresourcefulness\nrespect\nrespectable\nrespectful\nrespectfully\nrespite\nresplendent\nresponsibly\nresponsive\nrestful\nrestored\nrestructure\nrestructured\nrestructuring\nretractable\nrevel\nrevelation\nrevere\nreverence\nreverent\nreverently\nrevitalize\nrevival\nrevive\nrevives\nrevolutionary\nrevolutionize\nrevolutionized\nrevolutionizes\nreward\nrewarding\nrewardingly\nrich\nricher\nrichly\nrichness\nright\nrighten\nrighteous\nrighteously\nrighteousness\nrightful\nrightfully\nrightly\nrightness\nrisk-free\nrobust\nrock-star\nrock-stars\nrockstar\nrockstars\nromantic\nromantically\nromanticize\nroomier\nroomy\nrosy\nsafe\nsafely\nsagacity\nsagely\nsaint\nsaintliness\nsaintly\nsalutary\nsalute\nsane\nsatisfactorily\nsatisfactory\nsatisfied\nsatisfies\nsatisfy\nsatisfying\nsatisified\nsaver\nsavings\nsavior\nsavvy\nscenic\nseamless\nseasoned\nsecure\nsecurely\nselective\nself-determination\nself-respect\nself-satisfaction\nself-sufficiency\nself-sufficient\nsensation\nsensational\nsensationally\nsensations\nsensible\nsensibly\nsensitive\nserene\nserenity\nsexy\nsharp\nsharper\nsharpest\nshimmering\nshimmeringly\nshine\nshiny\nsignificant\nsilent\nsimpler\nsimplest\nsimplified\nsimplifies\nsimplify\nsimplifying\nsincere\nsincerely\nsincerity\nskill\nskilled\nskillful\nskillfully\nslammin\nsleek\nslick\nsmart\nsmarter\nsmartest\nsmartly\nsmile\nsmiles\nsmiling\nsmilingly\nsmitten\nsmooth\nsmoother\nsmoothes\nsmoothest\nsmoothly\nsnappy\nsnazzy\nsociable\nsoft\nsofter\nsolace\nsolicitous\nsolicitously\nsolid\nsolidarity\nsoothe\nsoothingly\nsophisticated\nsoulful\nsoundly\nsoundness\nspacious\nsparkle\nsparkling\nspectacular\nspectacularly\nspeedily\nspeedy\nspellbind\nspellbinding\nspellbindingly\nspellbound\nspirited\nspiritual\nsplendid\nsplendidly\nsplendor\nspontaneous\nsporty\nspotless\nsprightly\nstability\nstabilize\nstable\nstainless\nstandout\nstate-of-the-art\nstately\nstatuesque\nstaunch\nstaunchly\nstaunchness\nsteadfast\nsteadfastly\nsteadfastness\nsteadiest\nsteadiness\nsteady\nstellar\nstellarly\nstimulate\nstimulates\nstimulating\nstimulative\nstirringly\nstraighten\nstraightforward\nstreamlined\nstriking\nstrikingly\nstriving\nstrong\nstronger\nstrongest\nstunned\nstunning\nstunningly\nstupendous\nstupendously\nsturdier\nsturdy\nstylish\nstylishly\nstylized\nsuave\nsuavely\nsublime\nsubsidize\nsubsidized\nsubsidizes\nsubsidizing\nsubstantive\nsucceed\nsucceeded\nsucceeding\nsucceeds\nsucces\nsuccess\nsuccesses\nsuccessful\nsuccessfully\nsuffice\nsufficed\nsuffices\nsufficient\nsufficiently\nsuitable\nsumptuous\nsumptuously\nsumptuousness\nsuper\nsuperb\nsuperbly\nsuperior\nsuperiority\nsupple\nsupport\nsupported\nsupporter\nsupporting\nsupportive\nsupports\nsupremacy\nsupreme\nsupremely\nsupurb\nsupurbly\nsurmount\nsurpass\nsurreal\nsurvival\nsurvivor\nsustainability\nsustainable\nswank\nswankier\nswankiest\nswanky\nsweeping\nsweet\nsweeten\nsweetheart\nsweetly\nsweetness\nswift\nswiftness\ntalent\ntalented\ntalents\ntantalize\ntantalizing\ntantalizingly\ntempt\ntempting\ntemptingly\ntenacious\ntenaciously\ntenacity\ntender\ntenderly\nterrific\nterrifically\nthank\nthankful\nthinner\nthoughtful\nthoughtfully\nthoughtfulness\nthrift\nthrifty\nthrill\nthrilled\nthrilling\nthrillingly\nthrills\nthrive\nthriving\nthumb-up\nthumbs-up\ntickle\ntidy\ntime-honored\ntimely\ntingle\ntitillate\ntitillating\ntitillatingly\ntogetherness\ntolerable\ntoll-free\ntop\ntop-notch\ntop-quality\ntopnotch\ntops\ntough\ntougher\ntoughest\ntraction\ntranquil\ntranquility\ntransparent\ntreasure\ntremendously\ntrendy\ntriumph\ntriumphal\ntriumphant\ntriumphantly\ntrivially\ntrophy\ntrouble-free\ntrump\ntrumpet\ntrust\ntrusted\ntrusting\ntrustingly\ntrustworthiness\ntrustworthy\ntrusty\ntruthful\ntruthfully\ntruthfulness\ntwinkly\nultra-crisp\nunabashed\nunabashedly\nunaffected\nunassailable\nunbeatable\nunbiased\nunbound\nuncomplicated\nunconditional\nundamaged\nundaunted\nunderstandable\nundisputable\nundisputably\nundisputed\nunencumbered\nunequivocal\nunequivocally\nunfazed\nunfettered\nunforgettable\nunity\nunlimited\nunmatched\nunparalleled\nunquestionable\nunquestionably\nunreal\nunrestricted\nunrivaled\nunselfish\nunwavering\nupbeat\nupgradable\nupgradeable\nupgraded\nupheld\nuphold\nuplift\nuplifting\nupliftingly\nupliftment\nupscale\nusable\nuseable\nuseful\nuser-friendly\nuser-replaceable\nvaliant\nvaliantly\nvalor\nvaluable\nvariety\nvenerate\nverifiable\nveritable\nversatile\nversatility\nvibrant\nvibrantly\nvictorious\nvictory\nviewable\nvigilance\nvigilant\nvirtue\nvirtuous\nvirtuously\nvisionary\nvivacious\nvivid\nvouch\nvouchsafe\nwarm\nwarmer\nwarmhearted\nwarmly\nwarmth\nwealthy\nwelcome\nwell\nwell-backlit\nwell-balanced\nwell-behaved\nwell-being\nwell-bred\nwell-connected\nwell-educated\nwell-established\nwell-informed\nwell-intentioned\nwell-known\nwell-made\nwell-managed\nwell-mannered\nwell-positioned\nwell-received\nwell-regarded\nwell-rounded\nwell-run\nwell-wishers\nwellbeing\nwhoa\nwholeheartedly\nwholesome\nwhooa\nwhoooa\nwieldy\nwilling\nwillingly\nwillingness\nwin\nwindfall\nwinnable\nwinner\nwinners\nwinning\nwins\nwisdom\nwise\nwisely\nwitty\nwon\nwonder\nwonderful\nwonderfully\nwonderous\nwonderously\nwonders\nwondrous\nwoo\nwork\nworkable\nworked\nworks\nworld-famous\nworth\nworth-while\nworthiness\nworthwhile\nworthy\nwow\nwowed\nwowing\nwows\nyay\nyouthful\nzeal\nzenith\nzest\nzippy\n\n"
        }
      ]
    },
    {
      "metadata": {
        "trusted": false
      },
      "cell_type": "code",
      "source": "with codecs.open(\"negative-words.txt\", \"r\", encoding=\"ISO-8859-1\") as n:\n    neg = n.read()\n    print(neg)",
      "execution_count": 38,
      "outputs": [
        {
          "name": "stdout",
          "output_type": "stream",
          "text": ";;;;;;;;;;;;;;;;;;;;;;;;;;;;;;;;;;;;;;;;;;;;;;;;;;;;;;;;;;;;;;;;;;;;;;;;;;;;;;\n; \n; Opinion Lexicon: Negative\n;\n; This file contains a list of NEGATIVE opinion words (or sentiment words).\n;\n; This file and the papers can all be downloaded from \n;    http://www.cs.uic.edu/~liub/FBS/sentiment-analysis.html\n;\n; If you use this list, please cite one of the following two papers:\n;\n;   Minqing Hu and Bing Liu. \"Mining and Summarizing Customer Reviews.\" \n;       Proceedings of the ACM SIGKDD International Conference on Knowledge \n;       Discovery and Data Mining (KDD-2004), Aug 22-25, 2004, Seattle, \n;       Washington, USA, \n;   Bing Liu, Minqing Hu and Junsheng Cheng. \"Opinion Observer: Analyzing \n;       and Comparing Opinions on the Web.\" Proceedings of the 14th \n;       International World Wide Web conference (WWW-2005), May 10-14, \n;       2005, Chiba, Japan.\n;\n; Notes: \n;    1. The appearance of an opinion word in a sentence does not necessarily  \n;       mean that the sentence expresses a positive or negative opinion. \n;       See the paper below:\n;\n;       Bing Liu. \"Sentiment Analysis and Subjectivity.\" An chapter in \n;          Handbook of Natural Language Processing, Second Edition, \n;          (editors: N. Indurkhya and F. J. Damerau), 2010.\n;\n;    2. You will notice many misspelled words in the list. They are not \n;       mistakes. They are included as these misspelled words appear \n;       frequently in social media content. \n;\n;;;;;;;;;;;;;;;;;;;;;;;;;;;;;;;;;;;;;;;;;;;;;;;;;;;;;;;;;;;;;;;;;;;;;;;;;;;;;;\n\n2-faced\n2-faces\nabnormal\nabolish\nabominable\nabominably\nabominate\nabomination\nabort\naborted\naborts\nabrade\nabrasive\nabrupt\nabruptly\nabscond\nabsence\nabsent-minded\nabsentee\nabsurd\nabsurdity\nabsurdly\nabsurdness\nabuse\nabused\nabuses\nabusive\nabysmal\nabysmally\nabyss\naccidental\naccost\naccursed\naccusation\naccusations\naccuse\naccuses\naccusing\naccusingly\nacerbate\nacerbic\nacerbically\nache\nached\naches\nachey\naching\nacrid\nacridly\nacridness\nacrimonious\nacrimoniously\nacrimony\nadamant\nadamantly\naddict\naddicted\naddicting\naddicts\nadmonish\nadmonisher\nadmonishingly\nadmonishment\nadmonition\nadulterate\nadulterated\nadulteration\nadulterier\nadversarial\nadversary\nadverse\nadversity\nafflict\naffliction\nafflictive\naffront\nafraid\naggravate\naggravating\naggravation\naggression\naggressive\naggressiveness\naggressor\naggrieve\naggrieved\naggrivation\naghast\nagonies\nagonize\nagonizing\nagonizingly\nagony\naground\nail\nailing\nailment\naimless\nalarm\nalarmed\nalarming\nalarmingly\nalienate\nalienated\nalienation\nallegation\nallegations\nallege\nallergic\nallergies\nallergy\naloof\naltercation\nambiguity\nambiguous\nambivalence\nambivalent\nambush\namiss\namputate\nanarchism\nanarchist\nanarchistic\nanarchy\nanemic\nanger\nangrily\nangriness\nangry\nanguish\nanimosity\nannihilate\nannihilation\nannoy\nannoyance\nannoyances\nannoyed\nannoying\nannoyingly\nannoys\nanomalous\nanomaly\nantagonism\nantagonist\nantagonistic\nantagonize\nanti-\nanti-american\nanti-israeli\nanti-occupation\nanti-proliferation\nanti-semites\nanti-social\nanti-us\nanti-white\nantipathy\nantiquated\nantithetical\nanxieties\nanxiety\nanxious\nanxiously\nanxiousness\napathetic\napathetically\napathy\napocalypse\napocalyptic\napologist\napologists\nappal\nappall\nappalled\nappalling\nappallingly\napprehension\napprehensions\napprehensive\napprehensively\narbitrary\narcane\narchaic\narduous\narduously\nargumentative\narrogance\narrogant\narrogantly\nashamed\nasinine\nasininely\nasinininity\naskance\nasperse\naspersion\naspersions\nassail\nassassin\nassassinate\nassault\nassult\nastray\nasunder\natrocious\natrocities\natrocity\natrophy\nattack\nattacks\naudacious\naudaciously\naudaciousness\naudacity\naudiciously\naustere\nauthoritarian\nautocrat\nautocratic\navalanche\navarice\navaricious\navariciously\navenge\naverse\naversion\naweful\nawful\nawfully\nawfulness\nawkward\nawkwardness\nax\nbabble\nback-logged\nback-wood\nback-woods\nbackache\nbackaches\nbackaching\nbackbite\nbackbiting\nbackward\nbackwardness\nbackwood\nbackwoods\nbad\nbadly\nbaffle\nbaffled\nbafflement\nbaffling\nbait\nbalk\nbanal\nbanalize\nbane\nbanish\nbanishment\nbankrupt\nbarbarian\nbarbaric\nbarbarically\nbarbarity\nbarbarous\nbarbarously\nbarren\nbaseless\nbash\nbashed\nbashful\nbashing\nbastard\nbastards\nbattered\nbattering\nbatty\nbearish\nbeastly\nbedlam\nbedlamite\nbefoul\nbeg\nbeggar\nbeggarly\nbegging\nbeguile\nbelabor\nbelated\nbeleaguer\nbelie\nbelittle\nbelittled\nbelittling\nbellicose\nbelligerence\nbelligerent\nbelligerently\nbemoan\nbemoaning\nbemused\nbent\nberate\nbereave\nbereavement\nbereft\nberserk\nbeseech\nbeset\nbesiege\nbesmirch\nbestial\nbetray\nbetrayal\nbetrayals\nbetrayer\nbetraying\nbetrays\nbewail\nbeware\nbewilder\nbewildered\nbewildering\nbewilderingly\nbewilderment\nbewitch\nbias\nbiased\nbiases\nbicker\nbickering\nbid-rigging\nbigotries\nbigotry\nbitch\nbitchy\nbiting\nbitingly\nbitter\nbitterly\nbitterness\nbizarre\nblab\nblabber\nblackmail\nblah\nblame\nblameworthy\nbland\nblandish\nblaspheme\nblasphemous\nblasphemy\nblasted\nblatant\nblatantly\nblather\nbleak\nbleakly\nbleakness\nbleed\nbleeding\nbleeds\nblemish\nblind\nblinding\nblindingly\nblindside\nblister\nblistering\nbloated\nblockage\nblockhead\nbloodshed\nbloodthirsty\nbloody\nblotchy\nblow\nblunder\nblundering\nblunders\nblunt\nblur\nbluring\nblurred\nblurring\nblurry\nblurs\nblurt\nboastful\nboggle\nbogus\nboil\nboiling\nboisterous\nbomb\nbombard\nbombardment\nbombastic\nbondage\nbonkers\nbore\nbored\nboredom\nbores\nboring\nbotch\nbother\nbothered\nbothering\nbothers\nbothersome\nbowdlerize\nboycott\nbraggart\nbragger\nbrainless\nbrainwash\nbrash\nbrashly\nbrashness\nbrat\nbravado\nbrazen\nbrazenly\nbrazenness\nbreach\nbreak\nbreak-up\nbreak-ups\nbreakdown\nbreaking\nbreaks\nbreakup\nbreakups\nbribery\nbrimstone\nbristle\nbrittle\nbroke\nbroken\nbroken-hearted\nbrood\nbrowbeat\nbruise\nbruised\nbruises\nbruising\nbrusque\nbrutal\nbrutalising\nbrutalities\nbrutality\nbrutalize\nbrutalizing\nbrutally\nbrute\nbrutish\nbs\nbuckle\nbug\nbugging\nbuggy\nbugs\nbulkier\nbulkiness\nbulky\nbulkyness\nbull****\nbull----\nbullies\nbullshit\nbullshyt\nbully\nbullying\nbullyingly\nbum\nbump\nbumped\nbumping\nbumpping\nbumps\nbumpy\nbungle\nbungler\nbungling\nbunk\nburden\nburdensome\nburdensomely\nburn\nburned\nburning\nburns\nbust\nbusts\nbusybody\nbutcher\nbutchery\nbuzzing\nbyzantine\ncackle\ncalamities\ncalamitous\ncalamitously\ncalamity\ncallous\ncalumniate\ncalumniation\ncalumnies\ncalumnious\ncalumniously\ncalumny\ncancer\ncancerous\ncannibal\ncannibalize\ncapitulate\ncapricious\ncapriciously\ncapriciousness\ncapsize\ncareless\ncarelessness\ncaricature\ncarnage\ncarp\ncartoonish\ncash-strapped\ncastigate\ncastrated\ncasualty\ncataclysm\ncataclysmal\ncataclysmic\ncataclysmically\ncatastrophe\ncatastrophes\ncatastrophic\ncatastrophically\ncatastrophies\ncaustic\ncaustically\ncautionary\ncave\ncensure\nchafe\nchaff\nchagrin\nchallenging\nchaos\nchaotic\nchasten\nchastise\nchastisement\nchatter\nchatterbox\ncheap\ncheapen\ncheaply\ncheat\ncheated\ncheater\ncheating\ncheats\ncheckered\ncheerless\ncheesy\nchide\nchildish\nchill\nchilly\nchintzy\nchoke\ncholeric\nchoppy\nchore\nchronic\nchunky\nclamor\nclamorous\nclash\ncliche\ncliched\nclique\nclog\nclogged\nclogs\ncloud\nclouding\ncloudy\nclueless\nclumsy\nclunky\ncoarse\ncocky\ncoerce\ncoercion\ncoercive\ncold\ncoldly\ncollapse\ncollude\ncollusion\ncombative\ncombust\ncomical\ncommiserate\ncommonplace\ncommotion\ncommotions\ncomplacent\ncomplain\ncomplained\ncomplaining\ncomplains\ncomplaint\ncomplaints\ncomplex\ncomplicated\ncomplication\ncomplicit\ncompulsion\ncompulsive\nconcede\nconceded\nconceit\nconceited\nconcen\nconcens\nconcern\nconcerned\nconcerns\nconcession\nconcessions\ncondemn\ncondemnable\ncondemnation\ncondemned\ncondemns\ncondescend\ncondescending\ncondescendingly\ncondescension\nconfess\nconfession\nconfessions\nconfined\nconflict\nconflicted\nconflicting\nconflicts\nconfound\nconfounded\nconfounding\nconfront\nconfrontation\nconfrontational\nconfuse\nconfused\nconfuses\nconfusing\nconfusion\nconfusions\ncongested\ncongestion\ncons\nconscons\nconservative\nconspicuous\nconspicuously\nconspiracies\nconspiracy\nconspirator\nconspiratorial\nconspire\nconsternation\ncontagious\ncontaminate\ncontaminated\ncontaminates\ncontaminating\ncontamination\ncontempt\ncontemptible\ncontemptuous\ncontemptuously\ncontend\ncontention\ncontentious\ncontort\ncontortions\ncontradict\ncontradiction\ncontradictory\ncontrariness\ncontravene\ncontrive\ncontrived\ncontroversial\ncontroversy\nconvoluted\ncorrode\ncorrosion\ncorrosions\ncorrosive\ncorrupt\ncorrupted\ncorrupting\ncorruption\ncorrupts\ncorruptted\ncostlier\ncostly\ncounter-productive\ncounterproductive\ncoupists\ncovetous\ncoward\ncowardly\ncrabby\ncrack\ncracked\ncracks\ncraftily\ncraftly\ncrafty\ncramp\ncramped\ncramping\ncranky\ncrap\ncrappy\ncraps\ncrash\ncrashed\ncrashes\ncrashing\ncrass\ncraven\ncravenly\ncraze\ncrazily\ncraziness\ncrazy\ncreak\ncreaking\ncreaks\ncredulous\ncreep\ncreeping\ncreeps\ncreepy\ncrept\ncrime\ncriminal\ncringe\ncringed\ncringes\ncripple\ncrippled\ncripples\ncrippling\ncrisis\ncritic\ncritical\ncriticism\ncriticisms\ncriticize\ncriticized\ncriticizing\ncritics\ncronyism\ncrook\ncrooked\ncrooks\ncrowded\ncrowdedness\ncrude\ncruel\ncrueler\ncruelest\ncruelly\ncruelness\ncruelties\ncruelty\ncrumble\ncrumbling\ncrummy\ncrumple\ncrumpled\ncrumples\ncrush\ncrushed\ncrushing\ncry\nculpable\nculprit\ncumbersome\ncunt\ncunts\ncuplrit\ncurse\ncursed\ncurses\ncurt\ncuss\ncussed\ncutthroat\ncynical\ncynicism\nd*mn\ndamage\ndamaged\ndamages\ndamaging\ndamn\ndamnable\ndamnably\ndamnation\ndamned\ndamning\ndamper\ndanger\ndangerous\ndangerousness\ndark\ndarken\ndarkened\ndarker\ndarkness\ndastard\ndastardly\ndaunt\ndaunting\ndauntingly\ndawdle\ndaze\ndazed\ndead\ndeadbeat\ndeadlock\ndeadly\ndeadweight\ndeaf\ndearth\ndeath\ndebacle\ndebase\ndebasement\ndebaser\ndebatable\ndebauch\ndebaucher\ndebauchery\ndebilitate\ndebilitating\ndebility\ndebt\ndebts\ndecadence\ndecadent\ndecay\ndecayed\ndeceit\ndeceitful\ndeceitfully\ndeceitfulness\ndeceive\ndeceiver\ndeceivers\ndeceiving\ndeception\ndeceptive\ndeceptively\ndeclaim\ndecline\ndeclines\ndeclining\ndecrement\ndecrepit\ndecrepitude\ndecry\ndefamation\ndefamations\ndefamatory\ndefame\ndefect\ndefective\ndefects\ndefensive\ndefiance\ndefiant\ndefiantly\ndeficiencies\ndeficiency\ndeficient\ndefile\ndefiler\ndeform\ndeformed\ndefrauding\ndefunct\ndefy\ndegenerate\ndegenerately\ndegeneration\ndegradation\ndegrade\ndegrading\ndegradingly\ndehumanization\ndehumanize\ndeign\ndeject\ndejected\ndejectedly\ndejection\ndelay\ndelayed\ndelaying\ndelays\ndelinquency\ndelinquent\ndelirious\ndelirium\ndelude\ndeluded\ndeluge\ndelusion\ndelusional\ndelusions\ndemean\ndemeaning\ndemise\ndemolish\ndemolisher\ndemon\ndemonic\ndemonize\ndemonized\ndemonizes\ndemonizing\ndemoralize\ndemoralizing\ndemoralizingly\ndenial\ndenied\ndenies\ndenigrate\ndenounce\ndense\ndent\ndented\ndents\ndenunciate\ndenunciation\ndenunciations\ndeny\ndenying\ndeplete\ndeplorable\ndeplorably\ndeplore\ndeploring\ndeploringly\ndeprave\ndepraved\ndepravedly\ndeprecate\ndepress\ndepressed\ndepressing\ndepressingly\ndepression\ndepressions\ndeprive\ndeprived\nderide\nderision\nderisive\nderisively\nderisiveness\nderogatory\ndesecrate\ndesert\ndesertion\ndesiccate\ndesiccated\ndesititute\ndesolate\ndesolately\ndesolation\ndespair\ndespairing\ndespairingly\ndesperate\ndesperately\ndesperation\ndespicable\ndespicably\ndespise\ndespised\ndespoil\ndespoiler\ndespondence\ndespondency\ndespondent\ndespondently\ndespot\ndespotic\ndespotism\ndestabilisation\ndestains\ndestitute\ndestitution\ndestroy\ndestroyer\ndestruction\ndestructive\ndesultory\ndeter\ndeteriorate\ndeteriorating\ndeterioration\ndeterrent\ndetest\ndetestable\ndetestably\ndetested\ndetesting\ndetests\ndetract\ndetracted\ndetracting\ndetraction\ndetracts\ndetriment\ndetrimental\ndevastate\ndevastated\ndevastates\ndevastating\ndevastatingly\ndevastation\ndeviate\ndeviation\ndevil\ndevilish\ndevilishly\ndevilment\ndevilry\ndevious\ndeviously\ndeviousness\ndevoid\ndiabolic\ndiabolical\ndiabolically\ndiametrically\ndiappointed\ndiatribe\ndiatribes\ndick\ndictator\ndictatorial\ndie\ndie-hard\ndied\ndies\ndifficult\ndifficulties\ndifficulty\ndiffidence\ndilapidated\ndilemma\ndilly-dally\ndim\ndimmer\ndin\nding\ndings\ndinky\ndire\ndirely\ndireness\ndirt\ndirtbag\ndirtbags\ndirts\ndirty\ndisable\ndisabled\ndisaccord\ndisadvantage\ndisadvantaged\ndisadvantageous\ndisadvantages\ndisaffect\ndisaffected\ndisaffirm\ndisagree\ndisagreeable\ndisagreeably\ndisagreed\ndisagreeing\ndisagreement\ndisagrees\ndisallow\ndisapointed\ndisapointing\ndisapointment\ndisappoint\ndisappointed\ndisappointing\ndisappointingly\ndisappointment\ndisappointments\ndisappoints\ndisapprobation\ndisapproval\ndisapprove\ndisapproving\ndisarm\ndisarray\ndisaster\ndisasterous\ndisastrous\ndisastrously\ndisavow\ndisavowal\ndisbelief\ndisbelieve\ndisbeliever\ndisclaim\ndiscombobulate\ndiscomfit\ndiscomfititure\ndiscomfort\ndiscompose\ndisconcert\ndisconcerted\ndisconcerting\ndisconcertingly\ndisconsolate\ndisconsolately\ndisconsolation\ndiscontent\ndiscontented\ndiscontentedly\ndiscontinued\ndiscontinuity\ndiscontinuous\ndiscord\ndiscordance\ndiscordant\ndiscountenance\ndiscourage\ndiscouragement\ndiscouraging\ndiscouragingly\ndiscourteous\ndiscourteously\ndiscoutinous\ndiscredit\ndiscrepant\ndiscriminate\ndiscrimination\ndiscriminatory\ndisdain\ndisdained\ndisdainful\ndisdainfully\ndisfavor\ndisgrace\ndisgraced\ndisgraceful\ndisgracefully\ndisgruntle\ndisgruntled\ndisgust\ndisgusted\ndisgustedly\ndisgustful\ndisgustfully\ndisgusting\ndisgustingly\ndishearten\ndisheartening\ndishearteningly\ndishonest\ndishonestly\ndishonesty\ndishonor\ndishonorable\ndishonorablely\ndisillusion\ndisillusioned\ndisillusionment\ndisillusions\ndisinclination\ndisinclined\ndisingenuous\ndisingenuously\ndisintegrate\ndisintegrated\ndisintegrates\ndisintegration\ndisinterest\ndisinterested\ndislike\ndisliked\ndislikes\ndisliking\ndislocated\ndisloyal\ndisloyalty\ndismal\ndismally\ndismalness\ndismay\ndismayed\ndismaying\ndismayingly\ndismissive\ndismissively\ndisobedience\ndisobedient\ndisobey\ndisoobedient\ndisorder\ndisordered\ndisorderly\ndisorganized\ndisorient\ndisoriented\ndisown\ndisparage\ndisparaging\ndisparagingly\ndispensable\ndispirit\ndispirited\ndispiritedly\ndispiriting\ndisplace\ndisplaced\ndisplease\ndispleased\ndispleasing\ndispleasure\ndisproportionate\ndisprove\ndisputable\ndispute\ndisputed\ndisquiet\ndisquieting\ndisquietingly\ndisquietude\ndisregard\ndisregardful\ndisreputable\ndisrepute\ndisrespect\ndisrespectable\ndisrespectablity\ndisrespectful\ndisrespectfully\ndisrespectfulness\ndisrespecting\ndisrupt\ndisruption\ndisruptive\ndiss\ndissapointed\ndissappointed\ndissappointing\ndissatisfaction\ndissatisfactory\ndissatisfied\ndissatisfies\ndissatisfy\ndissatisfying\ndissed\ndissemble\ndissembler\ndissension\ndissent\ndissenter\ndissention\ndisservice\ndisses\ndissidence\ndissident\ndissidents\ndissing\ndissocial\ndissolute\ndissolution\ndissonance\ndissonant\ndissonantly\ndissuade\ndissuasive\ndistains\ndistaste\ndistasteful\ndistastefully\ndistort\ndistorted\ndistortion\ndistorts\ndistract\ndistracting\ndistraction\ndistraught\ndistraughtly\ndistraughtness\ndistress\ndistressed\ndistressing\ndistressingly\ndistrust\ndistrustful\ndistrusting\ndisturb\ndisturbance\ndisturbed\ndisturbing\ndisturbingly\ndisunity\ndisvalue\ndivergent\ndivisive\ndivisively\ndivisiveness\ndizzing\ndizzingly\ndizzy\ndoddering\ndodgey\ndogged\ndoggedly\ndogmatic\ndoldrums\ndomineer\ndomineering\ndonside\ndoom\ndoomed\ndoomsday\ndope\ndoubt\ndoubtful\ndoubtfully\ndoubts\ndouchbag\ndouchebag\ndouchebags\ndownbeat\ndowncast\ndowner\ndownfall\ndownfallen\ndowngrade\ndownhearted\ndownheartedly\ndownhill\ndownside\ndownsides\ndownturn\ndownturns\ndrab\ndraconian\ndraconic\ndrag\ndragged\ndragging\ndragoon\ndrags\ndrain\ndrained\ndraining\ndrains\ndrastic\ndrastically\ndrawback\ndrawbacks\ndread\ndreadful\ndreadfully\ndreadfulness\ndreary\ndripped\ndripping\ndrippy\ndrips\ndrones\ndroop\ndroops\ndrop-out\ndrop-outs\ndropout\ndropouts\ndrought\ndrowning\ndrunk\ndrunkard\ndrunken\ndubious\ndubiously\ndubitable\ndud\ndull\ndullard\ndumb\ndumbfound\ndump\ndumped\ndumping\ndumps\ndunce\ndungeon\ndungeons\ndupe\ndust\ndusty\ndwindling\ndying\nearsplitting\neccentric\neccentricity\neffigy\neffrontery\negocentric\negomania\negotism\negotistical\negotistically\negregious\negregiously\nelection-rigger\nelimination\nemaciated\nemasculate\nembarrass\nembarrassing\nembarrassingly\nembarrassment\nembattled\nembroil\nembroiled\nembroilment\nemergency\nemphatic\nemphatically\nemptiness\nencroach\nencroachment\nendanger\nenemies\nenemy\nenervate\nenfeeble\nenflame\nengulf\nenjoin\nenmity\nenrage\nenraged\nenraging\nenslave\nentangle\nentanglement\nentrap\nentrapment\nenvious\nenviously\nenviousness\nepidemic\nequivocal\nerase\nerode\nerodes\nerosion\nerr\nerrant\nerratic\nerratically\nerroneous\nerroneously\nerror\nerrors\neruptions\nescapade\neschew\nestranged\nevade\nevasion\nevasive\nevil\nevildoer\nevils\neviscerate\nexacerbate\nexagerate\nexagerated\nexagerates\nexaggerate\nexaggeration\nexasperate\nexasperated\nexasperating\nexasperatingly\nexasperation\nexcessive\nexcessively\nexclusion\nexcoriate\nexcruciating\nexcruciatingly\nexcuse\nexcuses\nexecrate\nexhaust\nexhausted\nexhaustion\nexhausts\nexhorbitant\nexhort\nexile\nexorbitant\nexorbitantance\nexorbitantly\nexpel\nexpensive\nexpire\nexpired\nexplode\nexploit\nexploitation\nexplosive\nexpropriate\nexpropriation\nexpulse\nexpunge\nexterminate\nextermination\nextinguish\nextort\nextortion\nextraneous\nextravagance\nextravagant\nextravagantly\nextremism\nextremist\nextremists\neyesore\nf**k\nfabricate\nfabrication\nfacetious\nfacetiously\nfail\nfailed\nfailing\nfails\nfailure\nfailures\nfaint\nfainthearted\nfaithless\nfake\nfall\nfallacies\nfallacious\nfallaciously\nfallaciousness\nfallacy\nfallen\nfalling\nfallout\nfalls\nfalse\nfalsehood\nfalsely\nfalsify\nfalter\nfaltered\nfamine\nfamished\nfanatic\nfanatical\nfanatically\nfanaticism\nfanatics\nfanciful\nfar-fetched\nfarce\nfarcical\nfarcical-yet-provocative\nfarcically\nfarfetched\nfascism\nfascist\nfastidious\nfastidiously\nfastuous\nfat\nfat-cat\nfat-cats\nfatal\nfatalistic\nfatalistically\nfatally\nfatcat\nfatcats\nfateful\nfatefully\nfathomless\nfatigue\nfatigued\nfatique\nfatty\nfatuity\nfatuous\nfatuously\nfault\nfaults\nfaulty\nfawningly\nfaze\nfear\nfearful\nfearfully\nfears\nfearsome\nfeckless\nfeeble\nfeeblely\nfeebleminded\nfeign\nfeint\nfell\nfelon\nfelonious\nferociously\nferocity\nfetid\nfever\nfeverish\nfevers\nfiasco\nfib\nfibber\nfickle\nfiction\nfictional\nfictitious\nfidget\nfidgety\nfiend\nfiendish\nfierce\nfigurehead\nfilth\nfilthy\nfinagle\nfinicky\nfissures\nfist\nflabbergast\nflabbergasted\nflagging\nflagrant\nflagrantly\nflair\nflairs\nflak\nflake\nflakey\nflakieness\nflaking\nflaky\nflare\nflares\nflareup\nflareups\nflat-out\nflaunt\nflaw\nflawed\nflaws\nflee\nfleed\nfleeing\nfleer\nflees\nfleeting\nflicering\nflicker\nflickering\nflickers\nflighty\nflimflam\nflimsy\nflirt\nflirty\nfloored\nflounder\nfloundering\nflout\nfluster\nfoe\nfool\nfooled\nfoolhardy\nfoolish\nfoolishly\nfoolishness\nforbid\nforbidden\nforbidding\nforceful\nforeboding\nforebodingly\nforfeit\nforged\nforgetful\nforgetfully\nforgetfulness\nforlorn\nforlornly\nforsake\nforsaken\nforswear\nfoul\nfoully\nfoulness\nfractious\nfractiously\nfracture\nfragile\nfragmented\nfrail\nfrantic\nfrantically\nfranticly\nfraud\nfraudulent\nfraught\nfrazzle\nfrazzled\nfreak\nfreaking\nfreakish\nfreakishly\nfreaks\nfreeze\nfreezes\nfreezing\nfrenetic\nfrenetically\nfrenzied\nfrenzy\nfret\nfretful\nfrets\nfriction\nfrictions\nfried\nfriggin\nfrigging\nfright\nfrighten\nfrightening\nfrighteningly\nfrightful\nfrightfully\nfrigid\nfrost\nfrown\nfroze\nfrozen\nfruitless\nfruitlessly\nfrustrate\nfrustrated\nfrustrates\nfrustrating\nfrustratingly\nfrustration\nfrustrations\nfuck\nfucking\nfudge\nfugitive\nfull-blown\nfulminate\nfumble\nfume\nfumes\nfundamentalism\nfunky\nfunnily\nfunny\nfurious\nfuriously\nfuror\nfury\nfuss\nfussy\nfustigate\nfusty\nfutile\nfutilely\nfutility\nfuzzy\ngabble\ngaff\ngaffe\ngainsay\ngainsayer\ngall\ngalling\ngallingly\ngalls\ngangster\ngape\ngarbage\ngarish\ngasp\ngauche\ngaudy\ngawk\ngawky\ngeezer\ngenocide\nget-rich\nghastly\nghetto\nghosting\ngibber\ngibberish\ngibe\ngiddy\ngimmick\ngimmicked\ngimmicking\ngimmicks\ngimmicky\nglare\nglaringly\nglib\nglibly\nglitch\nglitches\ngloatingly\ngloom\ngloomy\nglower\nglum\nglut\ngnawing\ngoad\ngoading\ngod-awful\ngoof\ngoofy\ngoon\ngossip\ngraceless\ngracelessly\ngraft\ngrainy\ngrapple\ngrate\ngrating\ngravely\ngreasy\ngreed\ngreedy\ngrief\ngrievance\ngrievances\ngrieve\ngrieving\ngrievous\ngrievously\ngrim\ngrimace\ngrind\ngripe\ngripes\ngrisly\ngritty\ngross\ngrossly\ngrotesque\ngrouch\ngrouchy\ngroundless\ngrouse\ngrowl\ngrudge\ngrudges\ngrudging\ngrudgingly\ngruesome\ngruesomely\ngruff\ngrumble\ngrumpier\ngrumpiest\ngrumpily\ngrumpish\ngrumpy\nguile\nguilt\nguiltily\nguilty\ngullible\ngutless\ngutter\nhack\nhacks\nhaggard\nhaggle\nhairloss\nhalfhearted\nhalfheartedly\nhallucinate\nhallucination\nhamper\nhampered\nhandicapped\nhang\nhangs\nhaphazard\nhapless\nharangue\nharass\nharassed\nharasses\nharassment\nharboring\nharbors\nhard\nhard-hit\nhard-line\nhard-liner\nhardball\nharden\nhardened\nhardheaded\nhardhearted\nhardliner\nhardliners\nhardship\nhardships\nharm\nharmed\nharmful\nharms\nharpy\nharridan\nharried\nharrow\nharsh\nharshly\nhasseling\nhassle\nhassled\nhassles\nhaste\nhastily\nhasty\nhate\nhated\nhateful\nhatefully\nhatefulness\nhater\nhaters\nhates\nhating\nhatred\nhaughtily\nhaughty\nhaunt\nhaunting\nhavoc\nhawkish\nhaywire\nhazard\nhazardous\nhaze\nhazy\nhead-aches\nheadache\nheadaches\nheartbreaker\nheartbreaking\nheartbreakingly\nheartless\nheathen\nheavy-handed\nheavyhearted\nheck\nheckle\nheckled\nheckles\nhectic\nhedge\nhedonistic\nheedless\nhefty\nhegemonism\nhegemonistic\nhegemony\nheinous\nhell\nhell-bent\nhellion\nhells\nhelpless\nhelplessly\nhelplessness\nheresy\nheretic\nheretical\nhesitant\nhestitant\nhideous\nhideously\nhideousness\nhigh-priced\nhiliarious\nhinder\nhindrance\nhiss\nhissed\nhissing\nho-hum\nhoard\nhoax\nhobble\nhogs\nhollow\nhoodium\nhoodwink\nhooligan\nhopeless\nhopelessly\nhopelessness\nhorde\nhorrendous\nhorrendously\nhorrible\nhorrid\nhorrific\nhorrified\nhorrifies\nhorrify\nhorrifying\nhorrifys\nhostage\nhostile\nhostilities\nhostility\nhotbeds\nhothead\nhotheaded\nhothouse\nhubris\nhuckster\nhum\nhumid\nhumiliate\nhumiliating\nhumiliation\nhumming\nhung\nhurt\nhurted\nhurtful\nhurting\nhurts\nhustler\nhype\nhypocricy\nhypocrisy\nhypocrite\nhypocrites\nhypocritical\nhypocritically\nhysteria\nhysteric\nhysterical\nhysterically\nhysterics\nidiocies\nidiocy\nidiot\nidiotic\nidiotically\nidiots\nidle\nignoble\nignominious\nignominiously\nignominy\nignorance\nignorant\nignore\nill-advised\nill-conceived\nill-defined\nill-designed\nill-fated\nill-favored\nill-formed\nill-mannered\nill-natured\nill-sorted\nill-tempered\nill-treated\nill-treatment\nill-usage\nill-used\nillegal\nillegally\nillegitimate\nillicit\nilliterate\nillness\nillogic\nillogical\nillogically\nillusion\nillusions\nillusory\nimaginary\nimbalance\nimbecile\nimbroglio\nimmaterial\nimmature\nimminence\nimminently\nimmobilized\nimmoderate\nimmoderately\nimmodest\nimmoral\nimmorality\nimmorally\nimmovable\nimpair\nimpaired\nimpasse\nimpatience\nimpatient\nimpatiently\nimpeach\nimpedance\nimpede\nimpediment\nimpending\nimpenitent\nimperfect\nimperfection\nimperfections\nimperfectly\nimperialist\nimperil\nimperious\nimperiously\nimpermissible\nimpersonal\nimpertinent\nimpetuous\nimpetuously\nimpiety\nimpinge\nimpious\nimplacable\nimplausible\nimplausibly\nimplicate\nimplication\nimplode\nimpolite\nimpolitely\nimpolitic\nimportunate\nimportune\nimpose\nimposers\nimposing\nimposition\nimpossible\nimpossiblity\nimpossibly\nimpotent\nimpoverish\nimpoverished\nimpractical\nimprecate\nimprecise\nimprecisely\nimprecision\nimprison\nimprisonment\nimprobability\nimprobable\nimprobably\nimproper\nimproperly\nimpropriety\nimprudence\nimprudent\nimpudence\nimpudent\nimpudently\nimpugn\nimpulsive\nimpulsively\nimpunity\nimpure\nimpurity\ninability\ninaccuracies\ninaccuracy\ninaccurate\ninaccurately\ninaction\ninactive\ninadequacy\ninadequate\ninadequately\ninadverent\ninadverently\ninadvisable\ninadvisably\ninane\ninanely\ninappropriate\ninappropriately\ninapt\ninaptitude\ninarticulate\ninattentive\ninaudible\nincapable\nincapably\nincautious\nincendiary\nincense\nincessant\nincessantly\nincite\nincitement\nincivility\ninclement\nincognizant\nincoherence\nincoherent\nincoherently\nincommensurate\nincomparable\nincomparably\nincompatability\nincompatibility\nincompatible\nincompetence\nincompetent\nincompetently\nincomplete\nincompliant\nincomprehensible\nincomprehension\ninconceivable\ninconceivably\nincongruous\nincongruously\ninconsequent\ninconsequential\ninconsequentially\ninconsequently\ninconsiderate\ninconsiderately\ninconsistence\ninconsistencies\ninconsistency\ninconsistent\ninconsolable\ninconsolably\ninconstant\ninconvenience\ninconveniently\nincorrect\nincorrectly\nincorrigible\nincorrigibly\nincredulous\nincredulously\ninculcate\nindecency\nindecent\nindecently\nindecision\nindecisive\nindecisively\nindecorum\nindefensible\nindelicate\nindeterminable\nindeterminably\nindeterminate\nindifference\nindifferent\nindigent\nindignant\nindignantly\nindignation\nindignity\nindiscernible\nindiscreet\nindiscreetly\nindiscretion\nindiscriminate\nindiscriminately\nindiscriminating\nindistinguishable\nindoctrinate\nindoctrination\nindolent\nindulge\nineffective\nineffectively\nineffectiveness\nineffectual\nineffectually\nineffectualness\ninefficacious\ninefficacy\ninefficiency\ninefficient\ninefficiently\ninelegance\ninelegant\nineligible\nineloquent\nineloquently\ninept\nineptitude\nineptly\ninequalities\ninequality\ninequitable\ninequitably\ninequities\ninescapable\ninescapably\ninessential\ninevitable\ninevitably\ninexcusable\ninexcusably\ninexorable\ninexorably\ninexperience\ninexperienced\ninexpert\ninexpertly\ninexpiable\ninexplainable\ninextricable\ninextricably\ninfamous\ninfamously\ninfamy\ninfected\ninfection\ninfections\ninferior\ninferiority\ninfernal\ninfest\ninfested\ninfidel\ninfidels\ninfiltrator\ninfiltrators\ninfirm\ninflame\ninflammation\ninflammatory\ninflammed\ninflated\ninflationary\ninflexible\ninflict\ninfraction\ninfringe\ninfringement\ninfringements\ninfuriate\ninfuriated\ninfuriating\ninfuriatingly\ninglorious\ningrate\ningratitude\ninhibit\ninhibition\ninhospitable\ninhospitality\ninhuman\ninhumane\ninhumanity\ninimical\ninimically\niniquitous\niniquity\ninjudicious\ninjure\ninjurious\ninjury\ninjustice\ninjustices\ninnuendo\ninoperable\ninopportune\ninordinate\ninordinately\ninsane\ninsanely\ninsanity\ninsatiable\ninsecure\ninsecurity\ninsensible\ninsensitive\ninsensitively\ninsensitivity\ninsidious\ninsidiously\ninsignificance\ninsignificant\ninsignificantly\ninsincere\ninsincerely\ninsincerity\ninsinuate\ninsinuating\ninsinuation\ninsociable\ninsolence\ninsolent\ninsolently\ninsolvent\ninsouciance\ninstability\ninstable\ninstigate\ninstigator\ninstigators\ninsubordinate\ninsubstantial\ninsubstantially\ninsufferable\ninsufferably\ninsufficiency\ninsufficient\ninsufficiently\ninsular\ninsult\ninsulted\ninsulting\ninsultingly\ninsults\ninsupportable\ninsupportably\ninsurmountable\ninsurmountably\ninsurrection\nintefere\ninteferes\nintense\ninterfere\ninterference\ninterferes\nintermittent\ninterrupt\ninterruption\ninterruptions\nintimidate\nintimidating\nintimidatingly\nintimidation\nintolerable\nintolerablely\nintolerance\nintoxicate\nintractable\nintransigence\nintransigent\nintrude\nintrusion\nintrusive\ninundate\ninundated\ninvader\ninvalid\ninvalidate\ninvalidity\ninvasive\ninvective\ninveigle\ninvidious\ninvidiously\ninvidiousness\ninvisible\ninvoluntarily\ninvoluntary\nirascible\nirate\nirately\nire\nirk\nirked\nirking\nirks\nirksome\nirksomely\nirksomeness\nirksomenesses\nironic\nironical\nironically\nironies\nirony\nirragularity\nirrational\nirrationalities\nirrationality\nirrationally\nirrationals\nirreconcilable\nirrecoverable\nirrecoverableness\nirrecoverablenesses\nirrecoverably\nirredeemable\nirredeemably\nirreformable\nirregular\nirregularity\nirrelevance\nirrelevant\nirreparable\nirreplacible\nirrepressible\nirresolute\nirresolvable\nirresponsible\nirresponsibly\nirretating\nirretrievable\nirreversible\nirritable\nirritably\nirritant\nirritate\nirritated\nirritating\nirritation\nirritations\nisolate\nisolated\nisolation\nissue\nissues\nitch\nitching\nitchy\njabber\njaded\njagged\njam\njarring\njaundiced\njealous\njealously\njealousness\njealousy\njeer\njeering\njeeringly\njeers\njeopardize\njeopardy\njerk\njerky\njitter\njitters\njittery\njob-killing\njobless\njoke\njoker\njolt\njudder\njuddering\njudders\njumpy\njunk\njunky\njunkyard\njutter\njutters\nkaput\nkill\nkilled\nkiller\nkilling\nkilljoy\nkills\nknave\nknife\nknock\nknotted\nkook\nkooky\nlack\nlackadaisical\nlacked\nlackey\nlackeys\nlacking\nlackluster\nlacks\nlaconic\nlag\nlagged\nlagging\nlaggy\nlags\nlaid-off\nlambast\nlambaste\nlame\nlame-duck\nlament\nlamentable\nlamentably\nlanguid\nlanguish\nlanguor\nlanguorous\nlanguorously\nlanky\nlapse\nlapsed\nlapses\nlascivious\nlast-ditch\nlatency\nlaughable\nlaughably\nlaughingstock\nlawbreaker\nlawbreaking\nlawless\nlawlessness\nlayoff\nlayoff-happy\nlazy\nleak\nleakage\nleakages\nleaking\nleaks\nleaky\nlech\nlecher\nlecherous\nlechery\nleech\nleer\nleery\nleft-leaning\nlemon\nlengthy\nless-developed\nlesser-known\nletch\nlethal\nlethargic\nlethargy\nlewd\nlewdly\nlewdness\nliability\nliable\nliar\nliars\nlicentious\nlicentiously\nlicentiousness\nlie\nlied\nlier\nlies\nlife-threatening\nlifeless\nlimit\nlimitation\nlimitations\nlimited\nlimits\nlimp\nlistless\nlitigious\nlittle-known\nlivid\nlividly\nloath\nloathe\nloathing\nloathly\nloathsome\nloathsomely\nlone\nloneliness\nlonely\nloner\nlonesome\nlong-time\nlong-winded\nlonging\nlongingly\nloophole\nloopholes\nloose\nloot\nlorn\nlose\nloser\nlosers\nloses\nlosing\nloss\nlosses\nlost\nloud\nlouder\nlousy\nloveless\nlovelorn\nlow-rated\nlowly\nludicrous\nludicrously\nlugubrious\nlukewarm\nlull\nlumpy\nlunatic\nlunaticism\nlurch\nlure\nlurid\nlurk\nlurking\nlying\nmacabre\nmad\nmadden\nmaddening\nmaddeningly\nmadder\nmadly\nmadman\nmadness\nmaladjusted\nmaladjustment\nmalady\nmalaise\nmalcontent\nmalcontented\nmaledict\nmalevolence\nmalevolent\nmalevolently\nmalice\nmalicious\nmaliciously\nmaliciousness\nmalign\nmalignant\nmalodorous\nmaltreatment\nmangle\nmangled\nmangles\nmangling\nmania\nmaniac\nmaniacal\nmanic\nmanipulate\nmanipulation\nmanipulative\nmanipulators\nmar\nmarginal\nmarginally\nmartyrdom\nmartyrdom-seeking\nmashed\nmassacre\nmassacres\nmatte\nmawkish\nmawkishly\nmawkishness\nmeager\nmeaningless\nmeanness\nmeasly\nmeddle\nmeddlesome\nmediocre\nmediocrity\nmelancholy\nmelodramatic\nmelodramatically\nmeltdown\nmenace\nmenacing\nmenacingly\nmendacious\nmendacity\nmenial\nmerciless\nmercilessly\nmess\nmessed\nmesses\nmessing\nmessy\nmidget\nmiff\nmilitancy\nmindless\nmindlessly\nmirage\nmire\nmisalign\nmisaligned\nmisaligns\nmisapprehend\nmisbecome\nmisbecoming\nmisbegotten\nmisbehave\nmisbehavior\nmiscalculate\nmiscalculation\nmiscellaneous\nmischief\nmischievous\nmischievously\nmisconception\nmisconceptions\nmiscreant\nmiscreants\nmisdirection\nmiser\nmiserable\nmiserableness\nmiserably\nmiseries\nmiserly\nmisery\nmisfit\nmisfortune\nmisgiving\nmisgivings\nmisguidance\nmisguide\nmisguided\nmishandle\nmishap\nmisinform\nmisinformed\nmisinterpret\nmisjudge\nmisjudgment\nmislead\nmisleading\nmisleadingly\nmislike\nmismanage\nmispronounce\nmispronounced\nmispronounces\nmisread\nmisreading\nmisrepresent\nmisrepresentation\nmiss\nmissed\nmisses\nmisstatement\nmist\nmistake\nmistaken\nmistakenly\nmistakes\nmistified\nmistress\nmistrust\nmistrustful\nmistrustfully\nmists\nmisunderstand\nmisunderstanding\nmisunderstandings\nmisunderstood\nmisuse\nmoan\nmobster\nmock\nmocked\nmockeries\nmockery\nmocking\nmockingly\nmocks\nmolest\nmolestation\nmonotonous\nmonotony\nmonster\nmonstrosities\nmonstrosity\nmonstrous\nmonstrously\nmoody\nmoot\nmope\nmorbid\nmorbidly\nmordant\nmordantly\nmoribund\nmoron\nmoronic\nmorons\nmortification\nmortified\nmortify\nmortifying\nmotionless\nmotley\nmourn\nmourner\nmournful\nmournfully\nmuddle\nmuddy\nmudslinger\nmudslinging\nmulish\nmulti-polarization\nmundane\nmurder\nmurderer\nmurderous\nmurderously\nmurky\nmuscle-flexing\nmushy\nmusty\nmysterious\nmysteriously\nmystery\nmystify\nmyth\nnag\nnagging\nnaive\nnaively\nnarrower\nnastily\nnastiness\nnasty\nnaughty\nnauseate\nnauseates\nnauseating\nnauseatingly\nnaïve\nnebulous\nnebulously\nneedless\nneedlessly\nneedy\nnefarious\nnefariously\nnegate\nnegation\nnegative\nnegatives\nnegativity\nneglect\nneglected\nnegligence\nnegligent\nnemesis\nnepotism\nnervous\nnervously\nnervousness\nnettle\nnettlesome\nneurotic\nneurotically\nniggle\nniggles\nnightmare\nnightmarish\nnightmarishly\nnitpick\nnitpicking\nnoise\nnoises\nnoisier\nnoisy\nnon-confidence\nnonexistent\nnonresponsive\nnonsense\nnosey\nnotoriety\nnotorious\nnotoriously\nnoxious\nnuisance\nnumb\nobese\nobject\nobjection\nobjectionable\nobjections\noblique\nobliterate\nobliterated\noblivious\nobnoxious\nobnoxiously\nobscene\nobscenely\nobscenity\nobscure\nobscured\nobscures\nobscurity\nobsess\nobsessive\nobsessively\nobsessiveness\nobsolete\nobstacle\nobstinate\nobstinately\nobstruct\nobstructed\nobstructing\nobstruction\nobstructs\nobtrusive\nobtuse\nocclude\noccluded\noccludes\noccluding\nodd\nodder\noddest\noddities\noddity\noddly\nodor\noffence\noffend\noffender\noffending\noffenses\noffensive\noffensively\noffensiveness\nofficious\nominous\nominously\nomission\nomit\none-sided\nonerous\nonerously\nonslaught\nopinionated\nopponent\nopportunistic\noppose\nopposition\noppositions\noppress\noppression\noppressive\noppressively\noppressiveness\noppressors\nordeal\norphan\nostracize\noutbreak\noutburst\noutbursts\noutcast\noutcry\noutlaw\noutmoded\noutrage\noutraged\noutrageous\noutrageously\noutrageousness\noutrages\noutsider\nover-acted\nover-awe\nover-balanced\nover-hyped\nover-priced\nover-valuation\noveract\noveracted\noverawe\noverbalance\noverbalanced\noverbearing\noverbearingly\noverblown\noverdo\noverdone\noverdue\noveremphasize\noverheat\noverkill\noverloaded\noverlook\noverpaid\noverpayed\noverplay\noverpower\noverpriced\noverrated\noverreach\noverrun\novershadow\noversight\noversights\noversimplification\noversimplified\noversimplify\noversize\noverstate\noverstated\noverstatement\noverstatements\noverstates\novertaxed\noverthrow\noverthrows\noverturn\noverweight\noverwhelm\noverwhelmed\noverwhelming\noverwhelmingly\noverwhelms\noverzealous\noverzealously\noverzelous\npain\npainful\npainfull\npainfully\npains\npale\npales\npaltry\npan\npandemonium\npander\npandering\npanders\npanic\npanick\npanicked\npanicking\npanicky\nparadoxical\nparadoxically\nparalize\nparalyzed\nparanoia\nparanoid\nparasite\npariah\nparody\npartiality\npartisan\npartisans\npasse\npassive\npassiveness\npathetic\npathetically\npatronize\npaucity\npauper\npaupers\npayback\npeculiar\npeculiarly\npedantic\npeeled\npeeve\npeeved\npeevish\npeevishly\npenalize\npenalty\nperfidious\nperfidity\nperfunctory\nperil\nperilous\nperilously\nperish\npernicious\nperplex\nperplexed\nperplexing\nperplexity\npersecute\npersecution\npertinacious\npertinaciously\npertinacity\nperturb\nperturbed\npervasive\nperverse\nperversely\nperversion\nperversity\npervert\nperverted\nperverts\npessimism\npessimistic\npessimistically\npest\npestilent\npetrified\npetrify\npettifog\npetty\nphobia\nphobic\nphony\npicket\npicketed\npicketing\npickets\npicky\npig\npigs\npillage\npillory\npimple\npinch\npique\npitiable\npitiful\npitifully\npitiless\npitilessly\npittance\npity\nplagiarize\nplague\nplasticky\nplaything\nplea\npleas\nplebeian\nplight\nplot\nplotters\nploy\nplunder\nplunderer\npointless\npointlessly\npoison\npoisonous\npoisonously\npokey\npoky\npolarisation\npolemize\npollute\npolluter\npolluters\npolution\npompous\npoor\npoorer\npoorest\npoorly\nposturing\npout\npoverty\npowerless\nprate\npratfall\nprattle\nprecarious\nprecariously\nprecipitate\nprecipitous\npredatory\npredicament\nprejudge\nprejudice\nprejudices\nprejudicial\npremeditated\npreoccupy\npreposterous\npreposterously\npresumptuous\npresumptuously\npretence\npretend\npretense\npretentious\npretentiously\nprevaricate\npricey\npricier\nprick\nprickle\nprickles\nprideful\nprik\nprimitive\nprison\nprisoner\nproblem\nproblematic\nproblems\nprocrastinate\nprocrastinates\nprocrastination\nprofane\nprofanity\nprohibit\nprohibitive\nprohibitively\npropaganda\npropagandize\nproprietary\nprosecute\nprotest\nprotested\nprotesting\nprotests\nprotracted\nprovocation\nprovocative\nprovoke\npry\npugnacious\npugnaciously\npugnacity\npunch\npunish\npunishable\npunitive\npunk\npuny\npuppet\npuppets\npuzzled\npuzzlement\npuzzling\nquack\nqualm\nqualms\nquandary\nquarrel\nquarrellous\nquarrellously\nquarrels\nquarrelsome\nquash\nqueer\nquestionable\nquibble\nquibbles\nquitter\nrabid\nracism\nracist\nracists\nracy\nradical\nradicalization\nradically\nradicals\nrage\nragged\nraging\nrail\nraked\nrampage\nrampant\nramshackle\nrancor\nrandomly\nrankle\nrant\nranted\nranting\nrantingly\nrants\nrape\nraped\nraping\nrascal\nrascals\nrash\nrattle\nrattled\nrattles\nravage\nraving\nreactionary\nrebellious\nrebuff\nrebuke\nrecalcitrant\nrecant\nrecession\nrecessionary\nreckless\nrecklessly\nrecklessness\nrecoil\nrecourses\nredundancy\nredundant\nrefusal\nrefuse\nrefused\nrefuses\nrefusing\nrefutation\nrefute\nrefuted\nrefutes\nrefuting\nregress\nregression\nregressive\nregret\nregreted\nregretful\nregretfully\nregrets\nregrettable\nregrettably\nregretted\nreject\nrejected\nrejecting\nrejection\nrejects\nrelapse\nrelentless\nrelentlessly\nrelentlessness\nreluctance\nreluctant\nreluctantly\nremorse\nremorseful\nremorsefully\nremorseless\nremorselessly\nremorselessness\nrenounce\nrenunciation\nrepel\nrepetitive\nreprehensible\nreprehensibly\nreprehension\nreprehensive\nrepress\nrepression\nrepressive\nreprimand\nreproach\nreproachful\nreprove\nreprovingly\nrepudiate\nrepudiation\nrepugn\nrepugnance\nrepugnant\nrepugnantly\nrepulse\nrepulsed\nrepulsing\nrepulsive\nrepulsively\nrepulsiveness\nresent\nresentful\nresentment\nresignation\nresigned\nresistance\nrestless\nrestlessness\nrestrict\nrestricted\nrestriction\nrestrictive\nresurgent\nretaliate\nretaliatory\nretard\nretarded\nretardedness\nretards\nreticent\nretract\nretreat\nretreated\nrevenge\nrevengeful\nrevengefully\nrevert\nrevile\nreviled\nrevoke\nrevolt\nrevolting\nrevoltingly\nrevulsion\nrevulsive\nrhapsodize\nrhetoric\nrhetorical\nricer\nridicule\nridicules\nridiculous\nridiculously\nrife\nrift\nrifts\nrigid\nrigidity\nrigidness\nrile\nriled\nrip\nrip-off\nripoff\nripped\nrisk\nrisks\nrisky\nrival\nrivalry\nroadblocks\nrocky\nrogue\nrollercoaster\nrot\nrotten\nrough\nrremediable\nrubbish\nrude\nrue\nruffian\nruffle\nruin\nruined\nruining\nruinous\nruins\nrumbling\nrumor\nrumors\nrumours\nrumple\nrun-down\nrunaway\nrupture\nrust\nrusts\nrusty\nrut\nruthless\nruthlessly\nruthlessness\nruts\nsabotage\nsack\nsacrificed\nsad\nsadden\nsadly\nsadness\nsag\nsagged\nsagging\nsaggy\nsags\nsalacious\nsanctimonious\nsap\nsarcasm\nsarcastic\nsarcastically\nsardonic\nsardonically\nsass\nsatirical\nsatirize\nsavage\nsavaged\nsavagery\nsavages\nscaly\nscam\nscams\nscandal\nscandalize\nscandalized\nscandalous\nscandalously\nscandals\nscandel\nscandels\nscant\nscapegoat\nscar\nscarce\nscarcely\nscarcity\nscare\nscared\nscarier\nscariest\nscarily\nscarred\nscars\nscary\nscathing\nscathingly\nsceptical\nscoff\nscoffingly\nscold\nscolded\nscolding\nscoldingly\nscorching\nscorchingly\nscorn\nscornful\nscornfully\nscoundrel\nscourge\nscowl\nscramble\nscrambled\nscrambles\nscrambling\nscrap\nscratch\nscratched\nscratches\nscratchy\nscream\nscreech\nscrew-up\nscrewed\nscrewed-up\nscrewy\nscuff\nscuffs\nscum\nscummy\nsecond-class\nsecond-tier\nsecretive\nsedentary\nseedy\nseethe\nseething\nself-coup\nself-criticism\nself-defeating\nself-destructive\nself-humiliation\nself-interest\nself-interested\nself-serving\nselfinterested\nselfish\nselfishly\nselfishness\nsemi-retarded\nsenile\nsensationalize\nsenseless\nsenselessly\nseriousness\nsermonize\nservitude\nset-up\nsetback\nsetbacks\nsever\nsevere\nseverity\nsh*t\nshabby\nshadowy\nshady\nshake\nshaky\nshallow\nsham\nshambles\nshame\nshameful\nshamefully\nshamefulness\nshameless\nshamelessly\nshamelessness\nshark\nsharply\nshatter\nshemale\nshimmer\nshimmy\nshipwreck\nshirk\nshirker\nshit\nshiver\nshock\nshocked\nshocking\nshockingly\nshoddy\nshort-lived\nshortage\nshortchange\nshortcoming\nshortcomings\nshortness\nshortsighted\nshortsightedness\nshowdown\nshrew\nshriek\nshrill\nshrilly\nshrivel\nshroud\nshrouded\nshrug\nshun\nshunned\nsick\nsicken\nsickening\nsickeningly\nsickly\nsickness\nsidetrack\nsidetracked\nsiege\nsillily\nsilly\nsimplistic\nsimplistically\nsin\nsinful\nsinfully\nsinister\nsinisterly\nsink\nsinking\nskeletons\nskeptic\nskeptical\nskeptically\nskepticism\nsketchy\nskimpy\nskinny\nskittish\nskittishly\nskulk\nslack\nslander\nslanderer\nslanderous\nslanderously\nslanders\nslap\nslashing\nslaughter\nslaughtered\nslave\nslaves\nsleazy\nslime\nslog\nslogged\nslogging\nslogs\nsloooooooooooooow\nsloooow\nslooow\nsloow\nsloppily\nsloppy\nsloth\nslothful\nslow\nslow-moving\nslowed\nslower\nslowest\nslowly\nsloww\nslowww\nslowwww\nslug\nsluggish\nslump\nslumping\nslumpping\nslur\nslut\nsluts\nsly\nsmack\nsmallish\nsmash\nsmear\nsmell\nsmelled\nsmelling\nsmells\nsmelly\nsmelt\nsmoke\nsmokescreen\nsmolder\nsmoldering\nsmother\nsmoulder\nsmouldering\nsmudge\nsmudged\nsmudges\nsmudging\nsmug\nsmugly\nsmut\nsmuttier\nsmuttiest\nsmutty\nsnag\nsnagged\nsnagging\nsnags\nsnappish\nsnappishly\nsnare\nsnarky\nsnarl\nsneak\nsneakily\nsneaky\nsneer\nsneering\nsneeringly\nsnob\nsnobbish\nsnobby\nsnobish\nsnobs\nsnub\nso-cal\nsoapy\nsob\nsober\nsobering\nsolemn\nsolicitude\nsomber\nsore\nsorely\nsoreness\nsorrow\nsorrowful\nsorrowfully\nsorry\nsour\nsourly\nspade\nspank\nspendy\nspew\nspewed\nspewing\nspews\nspilling\nspinster\nspiritless\nspite\nspiteful\nspitefully\nspitefulness\nsplatter\nsplit\nsplitting\nspoil\nspoilage\nspoilages\nspoiled\nspoilled\nspoils\nspook\nspookier\nspookiest\nspookily\nspooky\nspoon-fed\nspoon-feed\nspoonfed\nsporadic\nspotty\nspurious\nspurn\nsputter\nsquabble\nsquabbling\nsquander\nsquash\nsqueak\nsqueaks\nsqueaky\nsqueal\nsquealing\nsqueals\nsquirm\nstab\nstagnant\nstagnate\nstagnation\nstaid\nstain\nstains\nstale\nstalemate\nstall\nstalls\nstammer\nstampede\nstandstill\nstark\nstarkly\nstartle\nstartling\nstartlingly\nstarvation\nstarve\nstatic\nsteal\nstealing\nsteals\nsteep\nsteeply\nstench\nstereotype\nstereotypical\nstereotypically\nstern\nstew\nsticky\nstiff\nstiffness\nstifle\nstifling\nstiflingly\nstigma\nstigmatize\nsting\nstinging\nstingingly\nstingy\nstink\nstinks\nstodgy\nstole\nstolen\nstooge\nstooges\nstormy\nstraggle\nstraggler\nstrain\nstrained\nstraining\nstrange\nstrangely\nstranger\nstrangest\nstrangle\nstreaky\nstrenuous\nstress\nstresses\nstressful\nstressfully\nstricken\nstrict\nstrictly\nstrident\nstridently\nstrife\nstrike\nstringent\nstringently\nstruck\nstruggle\nstruggled\nstruggles\nstruggling\nstrut\nstubborn\nstubbornly\nstubbornness\nstuck\nstuffy\nstumble\nstumbled\nstumbles\nstump\nstumped\nstumps\nstun\nstunt\nstunted\nstupid\nstupidest\nstupidity\nstupidly\nstupified\nstupify\nstupor\nstutter\nstuttered\nstuttering\nstutters\nsty\nstymied\nsub-par\nsubdued\nsubjected\nsubjection\nsubjugate\nsubjugation\nsubmissive\nsubordinate\nsubpoena\nsubpoenas\nsubservience\nsubservient\nsubstandard\nsubtract\nsubversion\nsubversive\nsubversively\nsubvert\nsuccumb\nsuck\nsucked\nsucker\nsucks\nsucky\nsue\nsued\nsueing\nsues\nsuffer\nsuffered\nsufferer\nsufferers\nsuffering\nsuffers\nsuffocate\nsugar-coat\nsugar-coated\nsugarcoated\nsuicidal\nsuicide\nsulk\nsullen\nsully\nsunder\nsunk\nsunken\nsuperficial\nsuperficiality\nsuperficially\nsuperfluous\nsuperstition\nsuperstitious\nsuppress\nsuppression\nsurrender\nsusceptible\nsuspect\nsuspicion\nsuspicions\nsuspicious\nsuspiciously\nswagger\nswamped\nsweaty\nswelled\nswelling\nswindle\nswipe\nswollen\nsymptom\nsymptoms\nsyndrome\ntaboo\ntacky\ntaint\ntainted\ntamper\ntangle\ntangled\ntangles\ntank\ntanked\ntanks\ntantrum\ntardy\ntarnish\ntarnished\ntarnishes\ntarnishing\ntattered\ntaunt\ntaunting\ntauntingly\ntaunts\ntaut\ntawdry\ntaxing\ntease\nteasingly\ntedious\ntediously\ntemerity\ntemper\ntempest\ntemptation\ntenderness\ntense\ntension\ntentative\ntentatively\ntenuous\ntenuously\ntepid\nterrible\nterribleness\nterribly\nterror\nterror-genic\nterrorism\nterrorize\ntestily\ntesty\ntetchily\ntetchy\nthankless\nthicker\nthirst\nthorny\nthoughtless\nthoughtlessly\nthoughtlessness\nthrash\nthreat\nthreaten\nthreatening\nthreats\nthreesome\nthrob\nthrobbed\nthrobbing\nthrobs\nthrottle\nthug\nthumb-down\nthumbs-down\nthwart\ntime-consuming\ntimid\ntimidity\ntimidly\ntimidness\ntin-y\ntingled\ntingling\ntired\ntiresome\ntiring\ntiringly\ntoil\ntoll\ntop-heavy\ntopple\ntorment\ntormented\ntorrent\ntortuous\ntorture\ntortured\ntortures\ntorturing\ntorturous\ntorturously\ntotalitarian\ntouchy\ntoughness\ntout\ntouted\ntouts\ntoxic\ntraduce\ntragedy\ntragic\ntragically\ntraitor\ntraitorous\ntraitorously\ntramp\ntrample\ntransgress\ntransgression\ntrap\ntraped\ntrapped\ntrash\ntrashed\ntrashy\ntrauma\ntraumatic\ntraumatically\ntraumatize\ntraumatized\ntravesties\ntravesty\ntreacherous\ntreacherously\ntreachery\ntreason\ntreasonous\ntrick\ntricked\ntrickery\ntricky\ntrivial\ntrivialize\ntrouble\ntroubled\ntroublemaker\ntroubles\ntroublesome\ntroublesomely\ntroubling\ntroublingly\ntruant\ntumble\ntumbled\ntumbles\ntumultuous\nturbulent\nturmoil\ntwist\ntwisted\ntwists\ntwo-faced\ntwo-faces\ntyrannical\ntyrannically\ntyranny\ntyrant\nugh\nuglier\nugliest\nugliness\nugly\nulterior\nultimatum\nultimatums\nultra-hardline\nun-viewable\nunable\nunacceptable\nunacceptablely\nunacceptably\nunaccessible\nunaccustomed\nunachievable\nunaffordable\nunappealing\nunattractive\nunauthentic\nunavailable\nunavoidably\nunbearable\nunbearablely\nunbelievable\nunbelievably\nuncaring\nuncertain\nuncivil\nuncivilized\nunclean\nunclear\nuncollectible\nuncomfortable\nuncomfortably\nuncomfy\nuncompetitive\nuncompromising\nuncompromisingly\nunconfirmed\nunconstitutional\nuncontrolled\nunconvincing\nunconvincingly\nuncooperative\nuncouth\nuncreative\nundecided\nundefined\nundependability\nundependable\nundercut\nundercuts\nundercutting\nunderdog\nunderestimate\nunderlings\nundermine\nundermined\nundermines\nundermining\nunderpaid\nunderpowered\nundersized\nundesirable\nundetermined\nundid\nundignified\nundissolved\nundocumented\nundone\nundue\nunease\nuneasily\nuneasiness\nuneasy\nuneconomical\nunemployed\nunequal\nunethical\nuneven\nuneventful\nunexpected\nunexpectedly\nunexplained\nunfairly\nunfaithful\nunfaithfully\nunfamiliar\nunfavorable\nunfeeling\nunfinished\nunfit\nunforeseen\nunforgiving\nunfortunate\nunfortunately\nunfounded\nunfriendly\nunfulfilled\nunfunded\nungovernable\nungrateful\nunhappily\nunhappiness\nunhappy\nunhealthy\nunhelpful\nunilateralism\nunimaginable\nunimaginably\nunimportant\nuninformed\nuninsured\nunintelligible\nunintelligile\nunipolar\nunjust\nunjustifiable\nunjustifiably\nunjustified\nunjustly\nunkind\nunkindly\nunknown\nunlamentable\nunlamentably\nunlawful\nunlawfully\nunlawfulness\nunleash\nunlicensed\nunlikely\nunlucky\nunmoved\nunnatural\nunnaturally\nunnecessary\nunneeded\nunnerve\nunnerved\nunnerving\nunnervingly\nunnoticed\nunobserved\nunorthodox\nunorthodoxy\nunpleasant\nunpleasantries\nunpopular\nunpredictable\nunprepared\nunproductive\nunprofitable\nunprove\nunproved\nunproven\nunproves\nunproving\nunqualified\nunravel\nunraveled\nunreachable\nunreadable\nunrealistic\nunreasonable\nunreasonably\nunrelenting\nunrelentingly\nunreliability\nunreliable\nunresolved\nunresponsive\nunrest\nunruly\nunsafe\nunsatisfactory\nunsavory\nunscrupulous\nunscrupulously\nunsecure\nunseemly\nunsettle\nunsettled\nunsettling\nunsettlingly\nunskilled\nunsophisticated\nunsound\nunspeakable\nunspeakablely\nunspecified\nunstable\nunsteadily\nunsteadiness\nunsteady\nunsuccessful\nunsuccessfully\nunsupported\nunsupportive\nunsure\nunsuspecting\nunsustainable\nuntenable\nuntested\nunthinkable\nunthinkably\nuntimely\nuntouched\nuntrue\nuntrustworthy\nuntruthful\nunusable\nunusably\nunuseable\nunuseably\nunusual\nunusually\nunviewable\nunwanted\nunwarranted\nunwatchable\nunwelcome\nunwell\nunwieldy\nunwilling\nunwillingly\nunwillingness\nunwise\nunwisely\nunworkable\nunworthy\nunyielding\nupbraid\nupheaval\nuprising\nuproar\nuproarious\nuproariously\nuproarous\nuproarously\nuproot\nupset\nupseting\nupsets\nupsetting\nupsettingly\nurgent\nuseless\nusurp\nusurper\nutterly\nvagrant\nvague\nvagueness\nvain\nvainly\nvanity\nvehement\nvehemently\nvengeance\nvengeful\nvengefully\nvengefulness\nvenom\nvenomous\nvenomously\nvent\nvestiges\nvex\nvexation\nvexing\nvexingly\nvibrate\nvibrated\nvibrates\nvibrating\nvibration\nvice\nvicious\nviciously\nviciousness\nvictimize\nvile\nvileness\nvilify\nvillainous\nvillainously\nvillains\nvillian\nvillianous\nvillianously\nvillify\nvindictive\nvindictively\nvindictiveness\nviolate\nviolation\nviolator\nviolators\nviolent\nviolently\nviper\nvirulence\nvirulent\nvirulently\nvirus\nvociferous\nvociferously\nvolatile\nvolatility\nvomit\nvomited\nvomiting\nvomits\nvulgar\nvulnerable\nwack\nwail\nwallow\nwane\nwaning\nwanton\nwar-like\nwarily\nwariness\nwarlike\nwarned\nwarning\nwarp\nwarped\nwary\nwashed-out\nwaste\nwasted\nwasteful\nwastefulness\nwasting\nwater-down\nwatered-down\nwayward\nweak\nweaken\nweakening\nweaker\nweakness\nweaknesses\nweariness\nwearisome\nweary\nwedge\nweed\nweep\nweird\nweirdly\nwheedle\nwhimper\nwhine\nwhining\nwhiny\nwhips\nwhore\nwhores\nwicked\nwickedly\nwickedness\nwild\nwildly\nwiles\nwilt\nwily\nwimpy\nwince\nwobble\nwobbled\nwobbles\nwoe\nwoebegone\nwoeful\nwoefully\nwomanizer\nwomanizing\nworn\nworried\nworriedly\nworrier\nworries\nworrisome\nworry\nworrying\nworryingly\nworse\nworsen\nworsening\nworst\nworthless\nworthlessly\nworthlessness\nwound\nwounds\nwrangle\nwrath\nwreak\nwreaked\nwreaks\nwreck\nwrest\nwrestle\nwretch\nwretched\nwretchedly\nwretchedness\nwrinkle\nwrinkled\nwrinkles\nwrip\nwripped\nwripping\nwrithe\nwrong\nwrongful\nwrongly\nwrought\nyawn\nzap\nzapped\nzaps\nzealot\nzealous\nzealously\nzombie\n\n"
        }
      ]
    },
    {
      "metadata": {
        "trusted": false
      },
      "cell_type": "code",
      "source": "with codecs.open(\"stop.txt\", \"r\", encoding=\"ISO-8859-1\") as s:\n    stop = s.read()\n    print(stop)",
      "execution_count": 39,
      "outputs": [
        {
          "name": "stdout",
          "output_type": "stream",
          "text": "a\r\na's\r\nable\r\nabout\r\nabove\r\naccording\r\naccordingly\r\nacross\r\nactually\r\nafter\r\nafterwards\r\nagain\r\nagainst\r\nain't\r\nall\r\nallow\r\nallows\r\nalmost\r\nalone\r\nalong\r\nalready\r\nalso\r\nalthough\r\nalways\r\nam\r\namong\r\namongst\r\nan\r\nand\r\nanother\r\nany\r\nanybody\r\nanyhow\r\nanyone\r\nanything\r\nanyway\r\nanyways\r\nanywhere\r\napart\r\nappear\r\nappreciate\r\nappropriate\r\nare\r\naren't\r\naround\r\nas\r\naside\r\nask\r\nasking\r\nassociated\r\nat\r\navailable\r\naway\r\nawfully\r\nb\r\nbe\r\nbecame\r\nbecause\r\nbecome\r\nbecomes\r\nbecoming\r\nbeen\r\nbefore\r\nbeforehand\r\nbehind\r\nbeing\r\nbelieve\r\nbelow\r\nbeside\r\nbesides\r\nbest\r\nbetter\r\nbetween\r\nbeyond\r\nboth\r\nbrief\r\nbut\r\nby\r\nc\r\nc'mon\r\nc's\r\ncame\r\ncan\r\ncan't\r\ncannot\r\ncant\r\ncause\r\ncauses\r\ncertain\r\ncertainly\r\nchanges\r\nclearly\r\nco\r\ncom\r\ncome\r\ncomes\r\nconcerning\r\nconsequently\r\nconsider\r\nconsidering\r\ncontain\r\ncontaining\r\ncontains\r\ncorresponding\r\ncould\r\ncouldn't\r\ncourse\r\ncurrently\r\nd\r\ndefinitely\r\ndescribed\r\ndespite\r\ndid\r\ndidn't\r\ndifferent\r\ndo\r\ndoes\r\ndoesn't\r\ndoing\r\ndon't\r\ndone\r\ndown\r\ndownwards\r\nduring\r\ne\r\neach\r\nedu\r\neg\r\neight\r\neither\r\nelse\r\nelsewhere\r\nenough\r\nentirely\r\nespecially\r\net\r\netc\r\neven\r\never\r\nevery\r\neverybody\r\neveryone\r\neverything\r\neverywhere\r\nex\r\nexactly\r\nexample\r\nexcept\r\nf\r\nfar\r\nfew\r\nfifth\r\nfirst\r\nfive\r\nfollowed\r\nfollowing\r\nfollows\r\nfor\r\nformer\r\nformerly\r\nforth\r\nfour\r\nfrom\r\nfurther\r\nfurthermore\r\ng\r\nget\r\ngets\r\ngetting\r\ngiven\r\ngives\r\ngo\r\ngoes\r\ngoing\r\ngone\r\ngot\r\ngotten\r\ngreetings\r\nh\r\nhad\r\nhadn't\r\nhappens\r\nhardly\r\nhas\r\nhasn't\r\nhave\r\nhaven't\r\nhaving\r\nhe\r\nhe's\r\nhello\r\nhelp\r\nhence\r\nher\r\nhere\r\nhere's\r\nhereafter\r\nhereby\r\nherein\r\nhereupon\r\nhers\r\nherself\r\nhi\r\nhim\r\nhimself\r\nhis\r\nhither\r\nhopefully\r\nhow\r\nhowbeit\r\nhowever\r\ni\r\ni'd\r\ni'll\r\ni'm\r\ni've\r\nie\r\nif\r\nignored\r\nimmediate\r\nin\r\ninasmuch\r\ninc\r\nindeed\r\nindicate\r\nindicated\r\nindicates\r\ninner\r\ninsofar\r\ninstead\r\ninto\r\ninward\r\nis\r\nisn't\r\nit\r\nit'd\r\nit'll\r\nit's\r\nits\r\nitself\r\nj\r\njust\r\nk\r\nkeep\r\nkeeps\r\nkept\r\nknow\r\nknows\r\nknown\r\nl\r\nlast\r\nlately\r\nlater\r\nlatter\r\nlatterly\r\nleast\r\nless\r\nlest\r\nlet\r\nlet's\r\nlike\r\nliked\r\nlikely\r\nlittle\r\nlook\r\nlooking\r\nlooks\r\nltd\r\nm\r\nmainly\r\nmany\r\nmay\r\nmaybe\r\nme\r\nmean\r\nmeanwhile\r\nmerely\r\nmight\r\nmore\r\nmoreover\r\nmost\r\nmostly\r\nmuch\r\nmust\r\nmy\r\nmyself\r\nn\r\nname\r\nnamely\r\nnd\r\nnear\r\nnearly\r\nnecessary\r\nneed\r\nneeds\r\nneither\r\nnever\r\nnevertheless\r\nnew\r\nnext\r\nnine\r\nno\r\nnobody\r\nnon\r\nnone\r\nnoone\r\nnor\r\nnormally\r\nnot\r\nnothing\r\nnovel\r\nnow\r\nnowhere\r\no\r\nobviously\r\nof\r\noff\r\noften\r\noh\r\nok\r\nokay\r\nold\r\non\r\nonce\r\none\r\nones\r\nonly\r\nonto\r\nor\r\nother\r\nothers\r\notherwise\r\nought\r\nour\r\nours\r\nourselves\r\nout\r\noutside\r\nover\r\noverall\r\nown\r\np\r\nparticular\r\nparticularly\r\nper\r\nperhaps\r\nplaced\r\nplease\r\nplus\r\npossible\r\npresumably\r\nprobably\r\nprovides\r\nq\r\nque\r\nquite\r\nqv\r\nr\r\nrather\r\nrd\r\nre\r\nreally\r\nreasonably\r\nregarding\r\nregardless\r\nregards\r\nrelatively\r\nrespectively\r\nright\r\ns\r\nsaid\r\nsame\r\nsaw\r\nsay\r\nsaying\r\nsays\r\nsecond\r\nsecondly\r\nsee\r\nseeing\r\nseem\r\nseemed\r\nseeming\r\nseems\r\nseen\r\nself\r\nselves\r\nsensible\r\nsent\r\nserious\r\nseriously\r\nseven\r\nseveral\r\nshall\r\nshe\r\nshould\r\nshouldn't\r\nsince\r\nsix\r\nso\r\nsome\r\nsomebody\r\nsomehow\r\nsomeone\r\nsomething\r\nsometime\r\nsometimes\r\nsomewhat\r\nsomewhere\r\nsoon\r\nsorry\r\nspecified\r\nspecify\r\nspecifying\r\nstill\r\nsub\r\nsuch\r\nsup\r\nsure\r\nt\r\nt's\r\ntake\r\ntaken\r\ntell\r\ntends\r\nth\r\nthan\r\nthank\r\nthanks\r\nthanx\r\nthat\r\nthat's\r\nthats\r\nthe\r\ntheir\r\ntheirs\r\nthem\r\nthemselves\r\nthen\r\nthence\r\nthere\r\nthere's\r\nthereafter\r\nthereby\r\ntherefore\r\ntherein\r\ntheres\r\nthereupon\r\nthese\r\nthey\r\nthey'd\r\nthey'll\r\nthey're\r\nthey've\r\nthink\r\nthird\r\nthis\r\nthorough\r\nthoroughly\r\nthose\r\nthough\r\nthree\r\nthrough\r\nthroughout\r\nthru\r\nthus\r\nto\r\ntogether\r\ntoo\r\ntook\r\ntoward\r\ntowards\r\ntried\r\ntries\r\ntruly\r\ntry\r\ntrying\r\ntwice\r\ntwo\r\nu\r\nun\r\nunder\r\nunfortunately\r\nunless\r\nunlikely\r\nuntil\r\nunto\r\nup\r\nupon\r\nus\r\nuse\r\nused\r\nuseful\r\nuses\r\nusing\r\nusually\r\nuucp\r\nv\r\nvalue\r\nvarious\r\nvery\r\nvia\r\nviz\r\nvs\r\nw\r\nwant\r\nwants\r\nwas\r\nwasn't\r\nway\r\nwe\r\nwe'd\r\nwe'll\r\nwe're\r\nwe've\r\nwelcome\r\nwell\r\nwent\r\nwere\r\nweren't\r\nwhat\r\nwhat's\r\nwhatever\r\nwhen\r\nwhence\r\nwhenever\r\nwhere\r\nwhere's\r\nwhereafter\r\nwhereas\r\nwhereby\r\nwherein\r\nwhereupon\r\nwherever\r\nwhether\r\nwhich\r\nwhile\r\nwhither\r\nwho\r\nwho's\r\nwhoever\r\nwhole\r\nwhom\r\nwhose\r\nwhy\r\nwill\r\nwilling\r\nwish\r\nwith\r\nwithin\r\nwithout\r\nwon't\r\nwonder\r\nwould\r\nwould\r\nwouldn't\r\nx\r\ny\r\nyes\r\nyet\r\nyou\r\nyou'd\r\nyou'll\r\nyou're\r\nyou've\r\nyour\r\nyours\r\nyourself\r\nyourselves\r\nz\r\nzero\n"
        }
      ]
    },
    {
      "metadata": {
        "trusted": false
      },
      "cell_type": "code",
      "source": "from nltk.corpus import twitter_samples\n\npositive_tweets = twitter_samples.strings('positive_tweets.json')\nnegative_tweets = twitter_samples.strings('negative_tweets.json')\ntext = twitter_samples.strings('tweets.20150430-223406.json')",
      "execution_count": 41,
      "outputs": []
    },
    {
      "metadata": {
        "trusted": false
      },
      "cell_type": "code",
      "source": "import nltk\nnltk.download('punkt')",
      "execution_count": 42,
      "outputs": [
        {
          "name": "stderr",
          "output_type": "stream",
          "text": "[nltk_data] Downloading package punkt to\n[nltk_data]     C:\\Users\\perline.anisha\\AppData\\Roaming\\nltk_data...\n[nltk_data]   Package punkt is already up-to-date!\n"
        },
        {
          "data": {
            "text/plain": "True"
          },
          "execution_count": 42,
          "metadata": {},
          "output_type": "execute_result"
        }
      ]
    },
    {
      "metadata": {
        "trusted": false
      },
      "cell_type": "code",
      "source": "from nltk.corpus import twitter_samples\n\npositive_tweets = twitter_samples.strings('positive_tweets.json')\nnegative_tweets = twitter_samples.strings('negative_tweets.json')\ntext = twitter_samples.strings('tweets.20150430-223406.json')\ntweet_tokens = twitter_samples.tokenized('positive_tweets.json')",
      "execution_count": 43,
      "outputs": []
    },
    {
      "metadata": {
        "trusted": false
      },
      "cell_type": "code",
      "source": "from nltk.corpus import twitter_samples\n\npositive_tweets = twitter_samples.strings('positive_tweets.json')\nnegative_tweets = twitter_samples.strings('negative_tweets.json')\ntext = twitter_samples.strings('tweets.20150430-223406.json')\ntweet_tokens = twitter_samples.tokenized('positive_tweets.json')[0]\n\nprint(tweet_tokens[0])",
      "execution_count": 44,
      "outputs": [
        {
          "name": "stdout",
          "output_type": "stream",
          "text": "#FollowFriday\n"
        }
      ]
    },
    {
      "metadata": {
        "trusted": true
      },
      "cell_type": "code",
      "source": "!pip3 install beautifulsoup4",
      "execution_count": 9,
      "outputs": [
        {
          "output_type": "stream",
          "text": "Requirement already satisfied: beautifulsoup4 in c:\\programdata\\anaconda3\\lib\\site-packages (4.9.1)\nRequirement already satisfied: soupsieve>1.2 in c:\\programdata\\anaconda3\\lib\\site-packages (from beautifulsoup4) (2.0.1)\n",
          "name": "stdout"
        }
      ]
    },
    {
      "metadata": {
        "trusted": true
      },
      "cell_type": "code",
      "source": "import pandas as pd\nimport numpy as np\nimport matplotlib.pyplot as plt\nimport seaborn as sns\n%matplotlib inline\nimport re\nimport time\nfrom datetime import datetime\nimport matplotlib.dates as mdates\nimport matplotlib.ticker as ticker\nfrom urllib.request import urlopen\nfrom bs4 import BeautifulSoup\nimport requests",
      "execution_count": 10,
      "outputs": []
    },
    {
      "metadata": {
        "trusted": true
      },
      "cell_type": "code",
      "source": "no_pages = 2\n\ndef get_data(pageNo):  \n    headers = {\"User-Agent\":\"Mozilla/5.0 (Windows NT 10.0; Win64; x64; rv:66.0) Gecko/20100101 Firefox/66.0\", \"Accept-Encoding\":\"gzip, deflate\", \"Accept\":\"text/html,application/xhtml+xml,application/xml;q=0.9,*/*;q=0.8\", \"DNT\":\"1\",\"Connection\":\"close\", \"Upgrade-Insecure-Requests\":\"1\"}\n\n    r = requests.get('https://www.amazon.in/gp/bestsellers/books/ref=zg_bs_pg_'+str(pageNo)+'?ie=UTF8&pg='+str(pageNo), headers=headers)#, proxies=proxies)\n    content = r.content\n    soup = BeautifulSoup(content)\n    #print(soup)\n\n    alls = []\n    for d in soup.findAll('div', attrs={'class':'a-section a-spacing-none aok-relative'}):\n        #print(d)\n        name = d.find('span', attrs={'class':'zg-text-center-align'})\n        n = name.find_all('img', alt=True)\n        #print(n[0]['alt'])\n        author = d.find('a', attrs={'class':'a-size-small a-link-child'})\n        rating = d.find('span', attrs={'class':'a-icon-alt'})\n        users_rated = d.find('a', attrs={'class':'a-size-small a-link-normal'})\n        price = d.find('span', attrs={'class':'p13n-sc-price'})\n\n        all1=[]\n\n        if name is not None:\n            #print(n[0]['alt'])\n            all1.append(n[0]['alt'])\n        else:\n            all1.append(\"unknown-product\")\n\n        if author is not None:\n            #print(author.text)\n            all1.append(author.text)\n        elif author is None:\n            author = d.find('span', attrs={'class':'a-size-small a-color-base'})\n            if author is not None:\n                all1.append(author.text)\n            else:    \n                all1.append('0')\n\n        if rating is not None:\n            #print(rating.text)\n            all1.append(rating.text)\n        else:\n            all1.append('-1')\n\n        if users_rated is not None:\n            #print(price.text)\n            all1.append(users_rated.text)\n        else:\n            all1.append('0')     \n\n        if price is not None:\n            #print(price.text)\n            all1.append(price.text)\n        else:\n            all1.append('0')\n        alls.append(all1)    \n    return alls",
      "execution_count": 11,
      "outputs": []
    },
    {
      "metadata": {
        "trusted": true
      },
      "cell_type": "code",
      "source": "results = []\nfor i in range(1, no_pages+1):\n    results.append(get_data(i))\nflatten = lambda l: [item for sublist in l for item in sublist]\ndf = pd.DataFrame(flatten(results),columns=['Book Name','Author','Rating','Customers_Rated', 'Price'])\ndf.to_csv('amazon_products.csv', index=False, encoding='utf-8')",
      "execution_count": 12,
      "outputs": []
    },
    {
      "metadata": {
        "trusted": true
      },
      "cell_type": "code",
      "source": "df = pd.read_csv(\"amazon_products.csv\")",
      "execution_count": 13,
      "outputs": []
    },
    {
      "metadata": {
        "trusted": true
      },
      "cell_type": "code",
      "source": "df.head()",
      "execution_count": 14,
      "outputs": [
        {
          "output_type": "execute_result",
          "execution_count": 14,
          "data": {
            "text/plain": "                                           Book Name              Author  \\\n0                            The Psychology of Money       Morgan Housel   \n1  My First Library: Boxset of 10 Board Books for...  Wonder House Books   \n2  Ikigai: The Japanese secret to a long and happ...       Héctor García   \n3  My First Book of Patterns Pencil Control: Patt...  Wonder House Books   \n4  Grandma's Bag of Stories: Collection of 20+ Il...         Sudha Murty   \n\n               Rating Customers_Rated     Price  \n0  4.5 out of 5 stars           7,444  ₹ 290.00  \n1  4.5 out of 5 stars          19,845  ₹ 399.00  \n2  4.6 out of 5 stars          12,180  ₹ 380.00  \n3  4.4 out of 5 stars           4,354   ₹ 89.00  \n4  4.6 out of 5 stars           4,410  ₹ 191.00  ",
            "text/html": "<div>\n<style scoped>\n    .dataframe tbody tr th:only-of-type {\n        vertical-align: middle;\n    }\n\n    .dataframe tbody tr th {\n        vertical-align: top;\n    }\n\n    .dataframe thead th {\n        text-align: right;\n    }\n</style>\n<table border=\"1\" class=\"dataframe\">\n  <thead>\n    <tr style=\"text-align: right;\">\n      <th></th>\n      <th>Book Name</th>\n      <th>Author</th>\n      <th>Rating</th>\n      <th>Customers_Rated</th>\n      <th>Price</th>\n    </tr>\n  </thead>\n  <tbody>\n    <tr>\n      <th>0</th>\n      <td>The Psychology of Money</td>\n      <td>Morgan Housel</td>\n      <td>4.5 out of 5 stars</td>\n      <td>7,444</td>\n      <td>₹ 290.00</td>\n    </tr>\n    <tr>\n      <th>1</th>\n      <td>My First Library: Boxset of 10 Board Books for...</td>\n      <td>Wonder House Books</td>\n      <td>4.5 out of 5 stars</td>\n      <td>19,845</td>\n      <td>₹ 399.00</td>\n    </tr>\n    <tr>\n      <th>2</th>\n      <td>Ikigai: The Japanese secret to a long and happ...</td>\n      <td>Héctor García</td>\n      <td>4.6 out of 5 stars</td>\n      <td>12,180</td>\n      <td>₹ 380.00</td>\n    </tr>\n    <tr>\n      <th>3</th>\n      <td>My First Book of Patterns Pencil Control: Patt...</td>\n      <td>Wonder House Books</td>\n      <td>4.4 out of 5 stars</td>\n      <td>4,354</td>\n      <td>₹ 89.00</td>\n    </tr>\n    <tr>\n      <th>4</th>\n      <td>Grandma's Bag of Stories: Collection of 20+ Il...</td>\n      <td>Sudha Murty</td>\n      <td>4.6 out of 5 stars</td>\n      <td>4,410</td>\n      <td>₹ 191.00</td>\n    </tr>\n  </tbody>\n</table>\n</div>"
          },
          "metadata": {}
        }
      ]
    },
    {
      "metadata": {
        "trusted": true
      },
      "cell_type": "code",
      "source": "df.shape",
      "execution_count": 15,
      "outputs": [
        {
          "output_type": "execute_result",
          "execution_count": 15,
          "data": {
            "text/plain": "(100, 5)"
          },
          "metadata": {}
        }
      ]
    },
    {
      "metadata": {
        "trusted": true
      },
      "cell_type": "code",
      "source": "df.head(61)",
      "execution_count": 16,
      "outputs": [
        {
          "output_type": "execute_result",
          "execution_count": 16,
          "data": {
            "text/plain": "                                            Book Name                  Author  \\\n0                             The Psychology of Money           Morgan Housel   \n1   My First Library: Boxset of 10 Board Books for...      Wonder House Books   \n2   Ikigai: The Japanese secret to a long and happ...           Héctor García   \n3   My First Book of Patterns Pencil Control: Patt...      Wonder House Books   \n4   Grandma's Bag of Stories: Collection of 20+ Il...             Sudha Murty   \n..                                                ...                     ...   \n56  Ruskin Bond - Best Selling Children Story Book...             Ruskin Bond   \n57  NTA UGC NET/ SET/ JRF : Paper 1 Teaching and R...            K V S Madaan   \n58  Oswaal CBSE Question Bank Class 12 Physics Cha...  Oswaal Editorial Board   \n59                                  As a Man Thinketh             James Allen   \n60  Death; An Inside Story: A book for all those w...                Sadhguru   \n\n                Rating Customers_Rated     Price  \n0   4.5 out of 5 stars           7,444  ₹ 290.00  \n1   4.5 out of 5 stars          19,845  ₹ 399.00  \n2   4.6 out of 5 stars          12,180  ₹ 380.00  \n3   4.4 out of 5 stars           4,354   ₹ 89.00  \n4   4.6 out of 5 stars           4,410  ₹ 191.00  \n..                 ...             ...       ...  \n56  4.5 out of 5 stars             780  ₹ 389.00  \n57  4.5 out of 5 stars              62  ₹ 353.00  \n58  4.6 out of 5 stars             511  ₹ 365.00  \n59  4.4 out of 5 stars           1,890   ₹ 59.00  \n60  4.7 out of 5 stars           4,102  ₹ 199.00  \n\n[61 rows x 5 columns]",
            "text/html": "<div>\n<style scoped>\n    .dataframe tbody tr th:only-of-type {\n        vertical-align: middle;\n    }\n\n    .dataframe tbody tr th {\n        vertical-align: top;\n    }\n\n    .dataframe thead th {\n        text-align: right;\n    }\n</style>\n<table border=\"1\" class=\"dataframe\">\n  <thead>\n    <tr style=\"text-align: right;\">\n      <th></th>\n      <th>Book Name</th>\n      <th>Author</th>\n      <th>Rating</th>\n      <th>Customers_Rated</th>\n      <th>Price</th>\n    </tr>\n  </thead>\n  <tbody>\n    <tr>\n      <th>0</th>\n      <td>The Psychology of Money</td>\n      <td>Morgan Housel</td>\n      <td>4.5 out of 5 stars</td>\n      <td>7,444</td>\n      <td>₹ 290.00</td>\n    </tr>\n    <tr>\n      <th>1</th>\n      <td>My First Library: Boxset of 10 Board Books for...</td>\n      <td>Wonder House Books</td>\n      <td>4.5 out of 5 stars</td>\n      <td>19,845</td>\n      <td>₹ 399.00</td>\n    </tr>\n    <tr>\n      <th>2</th>\n      <td>Ikigai: The Japanese secret to a long and happ...</td>\n      <td>Héctor García</td>\n      <td>4.6 out of 5 stars</td>\n      <td>12,180</td>\n      <td>₹ 380.00</td>\n    </tr>\n    <tr>\n      <th>3</th>\n      <td>My First Book of Patterns Pencil Control: Patt...</td>\n      <td>Wonder House Books</td>\n      <td>4.4 out of 5 stars</td>\n      <td>4,354</td>\n      <td>₹ 89.00</td>\n    </tr>\n    <tr>\n      <th>4</th>\n      <td>Grandma's Bag of Stories: Collection of 20+ Il...</td>\n      <td>Sudha Murty</td>\n      <td>4.6 out of 5 stars</td>\n      <td>4,410</td>\n      <td>₹ 191.00</td>\n    </tr>\n    <tr>\n      <th>...</th>\n      <td>...</td>\n      <td>...</td>\n      <td>...</td>\n      <td>...</td>\n      <td>...</td>\n    </tr>\n    <tr>\n      <th>56</th>\n      <td>Ruskin Bond - Best Selling Children Story Book...</td>\n      <td>Ruskin Bond</td>\n      <td>4.5 out of 5 stars</td>\n      <td>780</td>\n      <td>₹ 389.00</td>\n    </tr>\n    <tr>\n      <th>57</th>\n      <td>NTA UGC NET/ SET/ JRF : Paper 1 Teaching and R...</td>\n      <td>K V S Madaan</td>\n      <td>4.5 out of 5 stars</td>\n      <td>62</td>\n      <td>₹ 353.00</td>\n    </tr>\n    <tr>\n      <th>58</th>\n      <td>Oswaal CBSE Question Bank Class 12 Physics Cha...</td>\n      <td>Oswaal Editorial Board</td>\n      <td>4.6 out of 5 stars</td>\n      <td>511</td>\n      <td>₹ 365.00</td>\n    </tr>\n    <tr>\n      <th>59</th>\n      <td>As a Man Thinketh</td>\n      <td>James Allen</td>\n      <td>4.4 out of 5 stars</td>\n      <td>1,890</td>\n      <td>₹ 59.00</td>\n    </tr>\n    <tr>\n      <th>60</th>\n      <td>Death; An Inside Story: A book for all those w...</td>\n      <td>Sadhguru</td>\n      <td>4.7 out of 5 stars</td>\n      <td>4,102</td>\n      <td>₹ 199.00</td>\n    </tr>\n  </tbody>\n</table>\n<p>61 rows × 5 columns</p>\n</div>"
          },
          "metadata": {}
        }
      ]
    },
    {
      "metadata": {
        "trusted": true
      },
      "cell_type": "code",
      "source": "df['Rating'] = df['Rating'].apply(lambda x: x.split()[0])",
      "execution_count": 17,
      "outputs": []
    },
    {
      "metadata": {
        "trusted": true
      },
      "cell_type": "code",
      "source": "df['Rating'] = pd.to_numeric(df['Rating'])",
      "execution_count": 18,
      "outputs": []
    },
    {
      "metadata": {
        "trusted": true
      },
      "cell_type": "code",
      "source": "df[\"Price\"] = df[\"Price\"].str.replace('₹', '')",
      "execution_count": 19,
      "outputs": []
    },
    {
      "metadata": {
        "trusted": true
      },
      "cell_type": "code",
      "source": "df[\"Price\"] = df[\"Price\"].str.replace(',', '')",
      "execution_count": 20,
      "outputs": []
    },
    {
      "metadata": {
        "trusted": true
      },
      "cell_type": "code",
      "source": "df['Price'] = df['Price'].apply(lambda x: x.split('.')[0])",
      "execution_count": 21,
      "outputs": []
    },
    {
      "metadata": {
        "trusted": true
      },
      "cell_type": "code",
      "source": "df['Price'] = df['Price'].astype(int)",
      "execution_count": 22,
      "outputs": []
    },
    {
      "metadata": {
        "trusted": true
      },
      "cell_type": "code",
      "source": "df[\"Customers_Rated\"] = df[\"Customers_Rated\"].str.replace(',', '')",
      "execution_count": 23,
      "outputs": []
    },
    {
      "metadata": {
        "trusted": true
      },
      "cell_type": "code",
      "source": "df['Customers_Rated'] = pd.to_numeric(df['Customers_Rated'], errors='ignore')",
      "execution_count": 24,
      "outputs": []
    },
    {
      "metadata": {
        "trusted": true
      },
      "cell_type": "code",
      "source": "df.head()",
      "execution_count": 25,
      "outputs": [
        {
          "output_type": "execute_result",
          "execution_count": 25,
          "data": {
            "text/plain": "                                           Book Name              Author  \\\n0                            The Psychology of Money       Morgan Housel   \n1  My First Library: Boxset of 10 Board Books for...  Wonder House Books   \n2  Ikigai: The Japanese secret to a long and happ...       Héctor García   \n3  My First Book of Patterns Pencil Control: Patt...  Wonder House Books   \n4  Grandma's Bag of Stories: Collection of 20+ Il...         Sudha Murty   \n\n   Rating  Customers_Rated  Price  \n0     4.5             7444    290  \n1     4.5            19845    399  \n2     4.6            12180    380  \n3     4.4             4354     89  \n4     4.6             4410    191  ",
            "text/html": "<div>\n<style scoped>\n    .dataframe tbody tr th:only-of-type {\n        vertical-align: middle;\n    }\n\n    .dataframe tbody tr th {\n        vertical-align: top;\n    }\n\n    .dataframe thead th {\n        text-align: right;\n    }\n</style>\n<table border=\"1\" class=\"dataframe\">\n  <thead>\n    <tr style=\"text-align: right;\">\n      <th></th>\n      <th>Book Name</th>\n      <th>Author</th>\n      <th>Rating</th>\n      <th>Customers_Rated</th>\n      <th>Price</th>\n    </tr>\n  </thead>\n  <tbody>\n    <tr>\n      <th>0</th>\n      <td>The Psychology of Money</td>\n      <td>Morgan Housel</td>\n      <td>4.5</td>\n      <td>7444</td>\n      <td>290</td>\n    </tr>\n    <tr>\n      <th>1</th>\n      <td>My First Library: Boxset of 10 Board Books for...</td>\n      <td>Wonder House Books</td>\n      <td>4.5</td>\n      <td>19845</td>\n      <td>399</td>\n    </tr>\n    <tr>\n      <th>2</th>\n      <td>Ikigai: The Japanese secret to a long and happ...</td>\n      <td>Héctor García</td>\n      <td>4.6</td>\n      <td>12180</td>\n      <td>380</td>\n    </tr>\n    <tr>\n      <th>3</th>\n      <td>My First Book of Patterns Pencil Control: Patt...</td>\n      <td>Wonder House Books</td>\n      <td>4.4</td>\n      <td>4354</td>\n      <td>89</td>\n    </tr>\n    <tr>\n      <th>4</th>\n      <td>Grandma's Bag of Stories: Collection of 20+ Il...</td>\n      <td>Sudha Murty</td>\n      <td>4.6</td>\n      <td>4410</td>\n      <td>191</td>\n    </tr>\n  </tbody>\n</table>\n</div>"
          },
          "metadata": {}
        }
      ]
    },
    {
      "metadata": {
        "trusted": true
      },
      "cell_type": "code",
      "source": "df.dtypes\n",
      "execution_count": 26,
      "outputs": [
        {
          "output_type": "execute_result",
          "execution_count": 26,
          "data": {
            "text/plain": "Book Name           object\nAuthor              object\nRating             float64\nCustomers_Rated      int64\nPrice                int32\ndtype: object"
          },
          "metadata": {}
        }
      ]
    },
    {
      "metadata": {
        "trusted": true
      },
      "cell_type": "code",
      "source": "df.replace(str(0), np.nan, inplace=True)\ndf.replace(0, np.nan, inplace=True)",
      "execution_count": 27,
      "outputs": []
    },
    {
      "metadata": {
        "trusted": true
      },
      "cell_type": "code",
      "source": "count_nan = len(df) - df.count()",
      "execution_count": 28,
      "outputs": []
    },
    {
      "metadata": {
        "trusted": true
      },
      "cell_type": "code",
      "source": "count_nan",
      "execution_count": 29,
      "outputs": [
        {
          "output_type": "execute_result",
          "execution_count": 29,
          "data": {
            "text/plain": "Book Name          0\nAuthor             0\nRating             0\nCustomers_Rated    2\nPrice              0\ndtype: int64"
          },
          "metadata": {}
        }
      ]
    },
    {
      "metadata": {
        "trusted": true
      },
      "cell_type": "code",
      "source": "df = df.dropna()",
      "execution_count": 30,
      "outputs": []
    },
    {
      "metadata": {
        "trusted": true
      },
      "cell_type": "code",
      "source": "data = df.sort_values([\"Price\"], axis=0, ascending=False)[:15]",
      "execution_count": 31,
      "outputs": []
    },
    {
      "metadata": {
        "trusted": true
      },
      "cell_type": "code",
      "source": "data",
      "execution_count": 32,
      "outputs": [
        {
          "output_type": "execute_result",
          "execution_count": 32,
          "data": {
            "text/plain": "                                            Book Name  \\\n29  Combo Pack: Lakhmir Singh Class 10 Science (Bi...   \n75  My First Complete Learning Library: Boxset of ...   \n62  Computer Science with Python Textbook and Prac...   \n6   Indian Polity - For Civil Services and Other S...   \n40  Objective NCERT at your FINGERTIPS for NEET-AI...   \n23  Mathematics for Class 10 by R D Sharma (Examin...   \n51  A Modern Approach to Verbal & Non-Verbal Reaso...   \n77  Indian Art and Culture for Civil Services and ...   \n41  Best of Children’s Classics (Set of 5 Books): ...   \n12  The Intelligent Investor (English) Paperback –...   \n96  Business Studies Class-12 Poonam Gandhi (Sessi...   \n14  Quantitative Aptitude for Competitive Examinat...   \n45  T.S. Grewal's Double Entry Book Keeping: Accou...   \n69                               Unfinished: A Memoir   \n9   Atomic Habits: The life-changing million copy ...   \n\n                                Author  Rating  Customers_Rated  Price  \n29           Manjit Kaur Lakhmir Singh     4.4            405.0   1198  \n75                  Wonder House Books     4.6           3716.0    799  \n62                        Sumita Arora     4.5            528.0    595  \n6                        M. Laxmikanth     4.6           7300.0    580  \n40                 MTG Editorial Board     4.7           1071.0    561  \n23                         R.D. Sharma     4.6           1120.0    545  \n51                       R.S. Aggarwal     4.4           4430.0    540  \n77                     Nitin Singhania     4.6           2139.0    501  \n41            Antoine de Saint-Exupéry     4.5            416.0    499  \n12                     Benjamin Graham     4.5          21526.0    499  \n96                       Poonam Gandhi     4.4            222.0    475  \n14                        R S Aggarwal     4.4          10246.0    470  \n45  CA. Dr. G.S. Grewal & R.K. Khosla\n     4.7             30.0    460  \n69               Priyanka Chopra Jonas     4.4           1701.0    452  \n9                          James Clear     4.6          16898.0    445  ",
            "text/html": "<div>\n<style scoped>\n    .dataframe tbody tr th:only-of-type {\n        vertical-align: middle;\n    }\n\n    .dataframe tbody tr th {\n        vertical-align: top;\n    }\n\n    .dataframe thead th {\n        text-align: right;\n    }\n</style>\n<table border=\"1\" class=\"dataframe\">\n  <thead>\n    <tr style=\"text-align: right;\">\n      <th></th>\n      <th>Book Name</th>\n      <th>Author</th>\n      <th>Rating</th>\n      <th>Customers_Rated</th>\n      <th>Price</th>\n    </tr>\n  </thead>\n  <tbody>\n    <tr>\n      <th>29</th>\n      <td>Combo Pack: Lakhmir Singh Class 10 Science (Bi...</td>\n      <td>Manjit Kaur Lakhmir Singh</td>\n      <td>4.4</td>\n      <td>405.0</td>\n      <td>1198</td>\n    </tr>\n    <tr>\n      <th>75</th>\n      <td>My First Complete Learning Library: Boxset of ...</td>\n      <td>Wonder House Books</td>\n      <td>4.6</td>\n      <td>3716.0</td>\n      <td>799</td>\n    </tr>\n    <tr>\n      <th>62</th>\n      <td>Computer Science with Python Textbook and Prac...</td>\n      <td>Sumita Arora</td>\n      <td>4.5</td>\n      <td>528.0</td>\n      <td>595</td>\n    </tr>\n    <tr>\n      <th>6</th>\n      <td>Indian Polity - For Civil Services and Other S...</td>\n      <td>M. Laxmikanth</td>\n      <td>4.6</td>\n      <td>7300.0</td>\n      <td>580</td>\n    </tr>\n    <tr>\n      <th>40</th>\n      <td>Objective NCERT at your FINGERTIPS for NEET-AI...</td>\n      <td>MTG Editorial Board</td>\n      <td>4.7</td>\n      <td>1071.0</td>\n      <td>561</td>\n    </tr>\n    <tr>\n      <th>23</th>\n      <td>Mathematics for Class 10 by R D Sharma (Examin...</td>\n      <td>R.D. Sharma</td>\n      <td>4.6</td>\n      <td>1120.0</td>\n      <td>545</td>\n    </tr>\n    <tr>\n      <th>51</th>\n      <td>A Modern Approach to Verbal &amp; Non-Verbal Reaso...</td>\n      <td>R.S. Aggarwal</td>\n      <td>4.4</td>\n      <td>4430.0</td>\n      <td>540</td>\n    </tr>\n    <tr>\n      <th>77</th>\n      <td>Indian Art and Culture for Civil Services and ...</td>\n      <td>Nitin Singhania</td>\n      <td>4.6</td>\n      <td>2139.0</td>\n      <td>501</td>\n    </tr>\n    <tr>\n      <th>41</th>\n      <td>Best of Children’s Classics (Set of 5 Books): ...</td>\n      <td>Antoine de Saint-Exupéry</td>\n      <td>4.5</td>\n      <td>416.0</td>\n      <td>499</td>\n    </tr>\n    <tr>\n      <th>12</th>\n      <td>The Intelligent Investor (English) Paperback –...</td>\n      <td>Benjamin Graham</td>\n      <td>4.5</td>\n      <td>21526.0</td>\n      <td>499</td>\n    </tr>\n    <tr>\n      <th>96</th>\n      <td>Business Studies Class-12 Poonam Gandhi (Sessi...</td>\n      <td>Poonam Gandhi</td>\n      <td>4.4</td>\n      <td>222.0</td>\n      <td>475</td>\n    </tr>\n    <tr>\n      <th>14</th>\n      <td>Quantitative Aptitude for Competitive Examinat...</td>\n      <td>R S Aggarwal</td>\n      <td>4.4</td>\n      <td>10246.0</td>\n      <td>470</td>\n    </tr>\n    <tr>\n      <th>45</th>\n      <td>T.S. Grewal's Double Entry Book Keeping: Accou...</td>\n      <td>CA. Dr. G.S. Grewal &amp; R.K. Khosla</td>\n      <td>4.7</td>\n      <td>30.0</td>\n      <td>460</td>\n    </tr>\n    <tr>\n      <th>69</th>\n      <td>Unfinished: A Memoir</td>\n      <td>Priyanka Chopra Jonas</td>\n      <td>4.4</td>\n      <td>1701.0</td>\n      <td>452</td>\n    </tr>\n    <tr>\n      <th>9</th>\n      <td>Atomic Habits: The life-changing million copy ...</td>\n      <td>James Clear</td>\n      <td>4.6</td>\n      <td>16898.0</td>\n      <td>445</td>\n    </tr>\n  </tbody>\n</table>\n</div>"
          },
          "metadata": {}
        }
      ]
    },
    {
      "metadata": {
        "trusted": true
      },
      "cell_type": "code",
      "source": "from bokeh.models import ColumnDataSource\nfrom bokeh.transform import dodge\nimport math\nfrom bokeh.io import curdoc\ncurdoc().clear()\nfrom bokeh.io import push_notebook, show, output_notebook\nfrom bokeh.layouts import row\nfrom bokeh.plotting import figure\nfrom bokeh.transform import factor_cmap\nfrom bokeh.models import Legend\noutput_notebook()",
      "execution_count": 33,
      "outputs": [
        {
          "output_type": "display_data",
          "data": {
            "text/html": "\n    <div class=\"bk-root\">\n        <a href=\"https://bokeh.org\" target=\"_blank\" class=\"bk-logo bk-logo-small bk-logo-notebook\"></a>\n        <span id=\"1001\">Loading BokehJS ...</span>\n    </div>"
          },
          "metadata": {}
        },
        {
          "output_type": "display_data",
          "data": {
            "application/javascript": "\n(function(root) {\n  function now() {\n    return new Date();\n  }\n\n  var force = true;\n\n  if (typeof root._bokeh_onload_callbacks === \"undefined\" || force === true) {\n    root._bokeh_onload_callbacks = [];\n    root._bokeh_is_loading = undefined;\n  }\n\n  var JS_MIME_TYPE = 'application/javascript';\n  var HTML_MIME_TYPE = 'text/html';\n  var EXEC_MIME_TYPE = 'application/vnd.bokehjs_exec.v0+json';\n  var CLASS_NAME = 'output_bokeh rendered_html';\n\n  /**\n   * Render data to the DOM node\n   */\n  function render(props, node) {\n    var script = document.createElement(\"script\");\n    node.appendChild(script);\n  }\n\n  /**\n   * Handle when an output is cleared or removed\n   */\n  function handleClearOutput(event, handle) {\n    var cell = handle.cell;\n\n    var id = cell.output_area._bokeh_element_id;\n    var server_id = cell.output_area._bokeh_server_id;\n    // Clean up Bokeh references\n    if (id != null && id in Bokeh.index) {\n      Bokeh.index[id].model.document.clear();\n      delete Bokeh.index[id];\n    }\n\n    if (server_id !== undefined) {\n      // Clean up Bokeh references\n      var cmd = \"from bokeh.io.state import curstate; print(curstate().uuid_to_server['\" + server_id + \"'].get_sessions()[0].document.roots[0]._id)\";\n      cell.notebook.kernel.execute(cmd, {\n        iopub: {\n          output: function(msg) {\n            var id = msg.content.text.trim();\n            if (id in Bokeh.index) {\n              Bokeh.index[id].model.document.clear();\n              delete Bokeh.index[id];\n            }\n          }\n        }\n      });\n      // Destroy server and session\n      var cmd = \"import bokeh.io.notebook as ion; ion.destroy_server('\" + server_id + \"')\";\n      cell.notebook.kernel.execute(cmd);\n    }\n  }\n\n  /**\n   * Handle when a new output is added\n   */\n  function handleAddOutput(event, handle) {\n    var output_area = handle.output_area;\n    var output = handle.output;\n\n    // limit handleAddOutput to display_data with EXEC_MIME_TYPE content only\n    if ((output.output_type != \"display_data\") || (!output.data.hasOwnProperty(EXEC_MIME_TYPE))) {\n      return\n    }\n\n    var toinsert = output_area.element.find(\".\" + CLASS_NAME.split(' ')[0]);\n\n    if (output.metadata[EXEC_MIME_TYPE][\"id\"] !== undefined) {\n      toinsert[toinsert.length - 1].firstChild.textContent = output.data[JS_MIME_TYPE];\n      // store reference to embed id on output_area\n      output_area._bokeh_element_id = output.metadata[EXEC_MIME_TYPE][\"id\"];\n    }\n    if (output.metadata[EXEC_MIME_TYPE][\"server_id\"] !== undefined) {\n      var bk_div = document.createElement(\"div\");\n      bk_div.innerHTML = output.data[HTML_MIME_TYPE];\n      var script_attrs = bk_div.children[0].attributes;\n      for (var i = 0; i < script_attrs.length; i++) {\n        toinsert[toinsert.length - 1].firstChild.setAttribute(script_attrs[i].name, script_attrs[i].value);\n        toinsert[toinsert.length - 1].firstChild.textContent = bk_div.children[0].textContent\n      }\n      // store reference to server id on output_area\n      output_area._bokeh_server_id = output.metadata[EXEC_MIME_TYPE][\"server_id\"];\n    }\n  }\n\n  function register_renderer(events, OutputArea) {\n\n    function append_mime(data, metadata, element) {\n      // create a DOM node to render to\n      var toinsert = this.create_output_subarea(\n        metadata,\n        CLASS_NAME,\n        EXEC_MIME_TYPE\n      );\n      this.keyboard_manager.register_events(toinsert);\n      // Render to node\n      var props = {data: data, metadata: metadata[EXEC_MIME_TYPE]};\n      render(props, toinsert[toinsert.length - 1]);\n      element.append(toinsert);\n      return toinsert\n    }\n\n    /* Handle when an output is cleared or removed */\n    events.on('clear_output.CodeCell', handleClearOutput);\n    events.on('delete.Cell', handleClearOutput);\n\n    /* Handle when a new output is added */\n    events.on('output_added.OutputArea', handleAddOutput);\n\n    /**\n     * Register the mime type and append_mime function with output_area\n     */\n    OutputArea.prototype.register_mime_type(EXEC_MIME_TYPE, append_mime, {\n      /* Is output safe? */\n      safe: true,\n      /* Index of renderer in `output_area.display_order` */\n      index: 0\n    });\n  }\n\n  // register the mime type if in Jupyter Notebook environment and previously unregistered\n  if (root.Jupyter !== undefined) {\n    var events = require('base/js/events');\n    var OutputArea = require('notebook/js/outputarea').OutputArea;\n\n    if (OutputArea.prototype.mime_types().indexOf(EXEC_MIME_TYPE) == -1) {\n      register_renderer(events, OutputArea);\n    }\n  }\n\n  \n  if (typeof (root._bokeh_timeout) === \"undefined\" || force === true) {\n    root._bokeh_timeout = Date.now() + 5000;\n    root._bokeh_failed_load = false;\n  }\n\n  var NB_LOAD_WARNING = {'data': {'text/html':\n     \"<div style='background-color: #fdd'>\\n\"+\n     \"<p>\\n\"+\n     \"BokehJS does not appear to have successfully loaded. If loading BokehJS from CDN, this \\n\"+\n     \"may be due to a slow or bad network connection. Possible fixes:\\n\"+\n     \"</p>\\n\"+\n     \"<ul>\\n\"+\n     \"<li>re-rerun `output_notebook()` to attempt to load from CDN again, or</li>\\n\"+\n     \"<li>use INLINE resources instead, as so:</li>\\n\"+\n     \"</ul>\\n\"+\n     \"<code>\\n\"+\n     \"from bokeh.resources import INLINE\\n\"+\n     \"output_notebook(resources=INLINE)\\n\"+\n     \"</code>\\n\"+\n     \"</div>\"}};\n\n  function display_loaded() {\n    var el = document.getElementById(\"1001\");\n    if (el != null) {\n      el.textContent = \"BokehJS is loading...\";\n    }\n    if (root.Bokeh !== undefined) {\n      if (el != null) {\n        el.textContent = \"BokehJS \" + root.Bokeh.version + \" successfully loaded.\";\n      }\n    } else if (Date.now() < root._bokeh_timeout) {\n      setTimeout(display_loaded, 100)\n    }\n  }\n\n\n  function run_callbacks() {\n    try {\n      root._bokeh_onload_callbacks.forEach(function(callback) {\n        if (callback != null)\n          callback();\n      });\n    } finally {\n      delete root._bokeh_onload_callbacks\n    }\n    console.debug(\"Bokeh: all callbacks have finished\");\n  }\n\n  function load_libs(css_urls, js_urls, callback) {\n    if (css_urls == null) css_urls = [];\n    if (js_urls == null) js_urls = [];\n\n    root._bokeh_onload_callbacks.push(callback);\n    if (root._bokeh_is_loading > 0) {\n      console.debug(\"Bokeh: BokehJS is being loaded, scheduling callback at\", now());\n      return null;\n    }\n    if (js_urls == null || js_urls.length === 0) {\n      run_callbacks();\n      return null;\n    }\n    console.debug(\"Bokeh: BokehJS not loaded, scheduling load and callback at\", now());\n    root._bokeh_is_loading = css_urls.length + js_urls.length;\n\n    function on_load() {\n      root._bokeh_is_loading--;\n      if (root._bokeh_is_loading === 0) {\n        console.debug(\"Bokeh: all BokehJS libraries/stylesheets loaded\");\n        run_callbacks()\n      }\n    }\n\n    function on_error() {\n      console.error(\"failed to load \" + url);\n    }\n\n    for (var i = 0; i < css_urls.length; i++) {\n      var url = css_urls[i];\n      const element = document.createElement(\"link\");\n      element.onload = on_load;\n      element.onerror = on_error;\n      element.rel = \"stylesheet\";\n      element.type = \"text/css\";\n      element.href = url;\n      console.debug(\"Bokeh: injecting link tag for BokehJS stylesheet: \", url);\n      document.body.appendChild(element);\n    }\n\n    const hashes = {\"https://cdn.bokeh.org/bokeh/release/bokeh-2.1.1.min.js\": \"kLr4fYcqcSpbuI95brIH3vnnYCquzzSxHPU6XGQCIkQRGJwhg0StNbj1eegrHs12\", \"https://cdn.bokeh.org/bokeh/release/bokeh-widgets-2.1.1.min.js\": \"xIGPmVtaOm+z0BqfSOMn4lOR6ciex448GIKG4eE61LsAvmGj48XcMQZtKcE/UXZe\", \"https://cdn.bokeh.org/bokeh/release/bokeh-tables-2.1.1.min.js\": \"Dc9u1wF/0zApGIWoBbH77iWEHtdmkuYWG839Uzmv8y8yBLXebjO9ZnERsde5Ln/P\", \"https://cdn.bokeh.org/bokeh/release/bokeh-gl-2.1.1.min.js\": \"cT9JaBz7GiRXdENrJLZNSC6eMNF3nh3fa5fTF51Svp+ukxPdwcU5kGXGPBgDCa2j\"};\n\n    for (var i = 0; i < js_urls.length; i++) {\n      var url = js_urls[i];\n      var element = document.createElement('script');\n      element.onload = on_load;\n      element.onerror = on_error;\n      element.async = false;\n      element.src = url;\n      if (url in hashes) {\n        element.crossOrigin = \"anonymous\";\n        element.integrity = \"sha384-\" + hashes[url];\n      }\n      console.debug(\"Bokeh: injecting script tag for BokehJS library: \", url);\n      document.head.appendChild(element);\n    }\n  };\n\n  function inject_raw_css(css) {\n    const element = document.createElement(\"style\");\n    element.appendChild(document.createTextNode(css));\n    document.body.appendChild(element);\n  }\n\n  \n  var js_urls = [\"https://cdn.bokeh.org/bokeh/release/bokeh-2.1.1.min.js\", \"https://cdn.bokeh.org/bokeh/release/bokeh-widgets-2.1.1.min.js\", \"https://cdn.bokeh.org/bokeh/release/bokeh-tables-2.1.1.min.js\", \"https://cdn.bokeh.org/bokeh/release/bokeh-gl-2.1.1.min.js\"];\n  var css_urls = [];\n  \n\n  var inline_js = [\n    function(Bokeh) {\n      Bokeh.set_log_level(\"info\");\n    },\n    function(Bokeh) {\n    \n    \n    }\n  ];\n\n  function run_inline_js() {\n    \n    if (root.Bokeh !== undefined || force === true) {\n      \n    for (var i = 0; i < inline_js.length; i++) {\n      inline_js[i].call(root, root.Bokeh);\n    }\n    if (force === true) {\n        display_loaded();\n      }} else if (Date.now() < root._bokeh_timeout) {\n      setTimeout(run_inline_js, 100);\n    } else if (!root._bokeh_failed_load) {\n      console.log(\"Bokeh: BokehJS failed to load within specified timeout.\");\n      root._bokeh_failed_load = true;\n    } else if (force !== true) {\n      var cell = $(document.getElementById(\"1001\")).parents('.cell').data().cell;\n      cell.output_area.append_execute_result(NB_LOAD_WARNING)\n    }\n\n  }\n\n  if (root._bokeh_is_loading === 0) {\n    console.debug(\"Bokeh: BokehJS loaded, going straight to plotting\");\n    run_inline_js();\n  } else {\n    load_libs(css_urls, js_urls, function() {\n      console.debug(\"Bokeh: BokehJS plotting callback run at\", now());\n      run_inline_js();\n    });\n  }\n}(window));",
            "application/vnd.bokehjs_load.v0+json": "\n(function(root) {\n  function now() {\n    return new Date();\n  }\n\n  var force = true;\n\n  if (typeof root._bokeh_onload_callbacks === \"undefined\" || force === true) {\n    root._bokeh_onload_callbacks = [];\n    root._bokeh_is_loading = undefined;\n  }\n\n  \n\n  \n  if (typeof (root._bokeh_timeout) === \"undefined\" || force === true) {\n    root._bokeh_timeout = Date.now() + 5000;\n    root._bokeh_failed_load = false;\n  }\n\n  var NB_LOAD_WARNING = {'data': {'text/html':\n     \"<div style='background-color: #fdd'>\\n\"+\n     \"<p>\\n\"+\n     \"BokehJS does not appear to have successfully loaded. If loading BokehJS from CDN, this \\n\"+\n     \"may be due to a slow or bad network connection. Possible fixes:\\n\"+\n     \"</p>\\n\"+\n     \"<ul>\\n\"+\n     \"<li>re-rerun `output_notebook()` to attempt to load from CDN again, or</li>\\n\"+\n     \"<li>use INLINE resources instead, as so:</li>\\n\"+\n     \"</ul>\\n\"+\n     \"<code>\\n\"+\n     \"from bokeh.resources import INLINE\\n\"+\n     \"output_notebook(resources=INLINE)\\n\"+\n     \"</code>\\n\"+\n     \"</div>\"}};\n\n  function display_loaded() {\n    var el = document.getElementById(\"1001\");\n    if (el != null) {\n      el.textContent = \"BokehJS is loading...\";\n    }\n    if (root.Bokeh !== undefined) {\n      if (el != null) {\n        el.textContent = \"BokehJS \" + root.Bokeh.version + \" successfully loaded.\";\n      }\n    } else if (Date.now() < root._bokeh_timeout) {\n      setTimeout(display_loaded, 100)\n    }\n  }\n\n\n  function run_callbacks() {\n    try {\n      root._bokeh_onload_callbacks.forEach(function(callback) {\n        if (callback != null)\n          callback();\n      });\n    } finally {\n      delete root._bokeh_onload_callbacks\n    }\n    console.debug(\"Bokeh: all callbacks have finished\");\n  }\n\n  function load_libs(css_urls, js_urls, callback) {\n    if (css_urls == null) css_urls = [];\n    if (js_urls == null) js_urls = [];\n\n    root._bokeh_onload_callbacks.push(callback);\n    if (root._bokeh_is_loading > 0) {\n      console.debug(\"Bokeh: BokehJS is being loaded, scheduling callback at\", now());\n      return null;\n    }\n    if (js_urls == null || js_urls.length === 0) {\n      run_callbacks();\n      return null;\n    }\n    console.debug(\"Bokeh: BokehJS not loaded, scheduling load and callback at\", now());\n    root._bokeh_is_loading = css_urls.length + js_urls.length;\n\n    function on_load() {\n      root._bokeh_is_loading--;\n      if (root._bokeh_is_loading === 0) {\n        console.debug(\"Bokeh: all BokehJS libraries/stylesheets loaded\");\n        run_callbacks()\n      }\n    }\n\n    function on_error() {\n      console.error(\"failed to load \" + url);\n    }\n\n    for (var i = 0; i < css_urls.length; i++) {\n      var url = css_urls[i];\n      const element = document.createElement(\"link\");\n      element.onload = on_load;\n      element.onerror = on_error;\n      element.rel = \"stylesheet\";\n      element.type = \"text/css\";\n      element.href = url;\n      console.debug(\"Bokeh: injecting link tag for BokehJS stylesheet: \", url);\n      document.body.appendChild(element);\n    }\n\n    const hashes = {\"https://cdn.bokeh.org/bokeh/release/bokeh-2.1.1.min.js\": \"kLr4fYcqcSpbuI95brIH3vnnYCquzzSxHPU6XGQCIkQRGJwhg0StNbj1eegrHs12\", \"https://cdn.bokeh.org/bokeh/release/bokeh-widgets-2.1.1.min.js\": \"xIGPmVtaOm+z0BqfSOMn4lOR6ciex448GIKG4eE61LsAvmGj48XcMQZtKcE/UXZe\", \"https://cdn.bokeh.org/bokeh/release/bokeh-tables-2.1.1.min.js\": \"Dc9u1wF/0zApGIWoBbH77iWEHtdmkuYWG839Uzmv8y8yBLXebjO9ZnERsde5Ln/P\", \"https://cdn.bokeh.org/bokeh/release/bokeh-gl-2.1.1.min.js\": \"cT9JaBz7GiRXdENrJLZNSC6eMNF3nh3fa5fTF51Svp+ukxPdwcU5kGXGPBgDCa2j\"};\n\n    for (var i = 0; i < js_urls.length; i++) {\n      var url = js_urls[i];\n      var element = document.createElement('script');\n      element.onload = on_load;\n      element.onerror = on_error;\n      element.async = false;\n      element.src = url;\n      if (url in hashes) {\n        element.crossOrigin = \"anonymous\";\n        element.integrity = \"sha384-\" + hashes[url];\n      }\n      console.debug(\"Bokeh: injecting script tag for BokehJS library: \", url);\n      document.head.appendChild(element);\n    }\n  };\n\n  function inject_raw_css(css) {\n    const element = document.createElement(\"style\");\n    element.appendChild(document.createTextNode(css));\n    document.body.appendChild(element);\n  }\n\n  \n  var js_urls = [\"https://cdn.bokeh.org/bokeh/release/bokeh-2.1.1.min.js\", \"https://cdn.bokeh.org/bokeh/release/bokeh-widgets-2.1.1.min.js\", \"https://cdn.bokeh.org/bokeh/release/bokeh-tables-2.1.1.min.js\", \"https://cdn.bokeh.org/bokeh/release/bokeh-gl-2.1.1.min.js\"];\n  var css_urls = [];\n  \n\n  var inline_js = [\n    function(Bokeh) {\n      Bokeh.set_log_level(\"info\");\n    },\n    function(Bokeh) {\n    \n    \n    }\n  ];\n\n  function run_inline_js() {\n    \n    if (root.Bokeh !== undefined || force === true) {\n      \n    for (var i = 0; i < inline_js.length; i++) {\n      inline_js[i].call(root, root.Bokeh);\n    }\n    if (force === true) {\n        display_loaded();\n      }} else if (Date.now() < root._bokeh_timeout) {\n      setTimeout(run_inline_js, 100);\n    } else if (!root._bokeh_failed_load) {\n      console.log(\"Bokeh: BokehJS failed to load within specified timeout.\");\n      root._bokeh_failed_load = true;\n    } else if (force !== true) {\n      var cell = $(document.getElementById(\"1001\")).parents('.cell').data().cell;\n      cell.output_area.append_execute_result(NB_LOAD_WARNING)\n    }\n\n  }\n\n  if (root._bokeh_is_loading === 0) {\n    console.debug(\"Bokeh: BokehJS loaded, going straight to plotting\");\n    run_inline_js();\n  } else {\n    load_libs(css_urls, js_urls, function() {\n      console.debug(\"Bokeh: BokehJS plotting callback run at\", now());\n      run_inline_js();\n    });\n  }\n}(window));"
          },
          "metadata": {}
        }
      ]
    },
    {
      "metadata": {
        "trusted": true
      },
      "cell_type": "code",
      "source": "p = figure(x_range=data.iloc[:,1], plot_width=800, plot_height=550, title=\"Authors Highest Priced Book\", toolbar_location=None, tools=\"\")\n\np.vbar(x=data.iloc[:,1], top=data.iloc[:,4], width=0.9)\n\np.xgrid.grid_line_color = None\np.y_range.start = 0\np.xaxis.major_label_orientation = math.pi/2",
      "execution_count": 34,
      "outputs": []
    },
    {
      "metadata": {
        "trusted": true
      },
      "cell_type": "code",
      "source": "show(p)",
      "execution_count": 35,
      "outputs": [
        {
          "output_type": "display_data",
          "data": {
            "text/html": "\n\n\n\n\n\n  <div class=\"bk-root\" id=\"8720e145-8c85-4115-987f-754fdb3bcab4\" data-root-id=\"1002\"></div>\n"
          },
          "metadata": {}
        },
        {
          "output_type": "display_data",
          "data": {
            "application/javascript": "(function(root) {\n  function embed_document(root) {\n    \n  var docs_json = {\"37bfe34f-ffda-4d05-a06f-409a6b0e8ffa\":{\"roots\":{\"references\":[{\"attributes\":{\"below\":[{\"id\":\"1013\"}],\"center\":[{\"id\":\"1015\"},{\"id\":\"1019\"}],\"left\":[{\"id\":\"1016\"}],\"plot_height\":550,\"plot_width\":800,\"renderers\":[{\"id\":\"1024\"}],\"title\":{\"id\":\"1003\"},\"toolbar\":{\"id\":\"1020\"},\"toolbar_location\":null,\"x_range\":{\"id\":\"1005\"},\"x_scale\":{\"id\":\"1009\"},\"y_range\":{\"id\":\"1007\"},\"y_scale\":{\"id\":\"1011\"}},\"id\":\"1002\",\"subtype\":\"Figure\",\"type\":\"Plot\"},{\"attributes\":{\"factors\":[\"Manjit Kaur Lakhmir Singh\",\"Wonder House Books\",\"Sumita Arora\",\"M. Laxmikanth\",\"MTG Editorial Board\",\"R.D. Sharma\",\"R.S. Aggarwal\",\"Nitin Singhania\",\"Antoine de Saint-Exup\\u00e9ry\",\"Benjamin Graham\",\"Poonam Gandhi\",\"R S Aggarwal\",\"CA. Dr. G.S. Grewal & R.K. Khosla\\u0085\",\"Priyanka Chopra Jonas\",\"James Clear\"]},\"id\":\"1005\",\"type\":\"FactorRange\"},{\"attributes\":{\"start\":0},\"id\":\"1007\",\"type\":\"DataRange1d\"},{\"attributes\":{\"formatter\":{\"id\":\"1028\"},\"major_label_orientation\":1.5707963267948966,\"ticker\":{\"id\":\"1014\"}},\"id\":\"1013\",\"type\":\"CategoricalAxis\"},{\"attributes\":{},\"id\":\"1011\",\"type\":\"LinearScale\"},{\"attributes\":{},\"id\":\"1009\",\"type\":\"CategoricalScale\"},{\"attributes\":{\"text\":\"Authors Highest Priced Book\"},\"id\":\"1003\",\"type\":\"Title\"},{\"attributes\":{},\"id\":\"1014\",\"type\":\"CategoricalTicker\"},{\"attributes\":{\"axis\":{\"id\":\"1013\"},\"grid_line_color\":null,\"ticker\":null},\"id\":\"1015\",\"type\":\"Grid\"},{\"attributes\":{\"formatter\":{\"id\":\"1030\"},\"ticker\":{\"id\":\"1017\"}},\"id\":\"1016\",\"type\":\"LinearAxis\"},{\"attributes\":{},\"id\":\"1028\",\"type\":\"CategoricalTickFormatter\"},{\"attributes\":{},\"id\":\"1017\",\"type\":\"BasicTicker\"},{\"attributes\":{\"axis\":{\"id\":\"1016\"},\"dimension\":1,\"ticker\":null},\"id\":\"1019\",\"type\":\"Grid\"},{\"attributes\":{},\"id\":\"1030\",\"type\":\"BasicTickFormatter\"},{\"attributes\":{},\"id\":\"1032\",\"type\":\"UnionRenderers\"},{\"attributes\":{\"data_source\":{\"id\":\"1021\"},\"glyph\":{\"id\":\"1022\"},\"hover_glyph\":null,\"muted_glyph\":null,\"nonselection_glyph\":{\"id\":\"1023\"},\"selection_glyph\":null,\"view\":{\"id\":\"1025\"}},\"id\":\"1024\",\"type\":\"GlyphRenderer\"},{\"attributes\":{\"active_drag\":\"auto\",\"active_inspect\":\"auto\",\"active_multi\":null,\"active_scroll\":\"auto\",\"active_tap\":\"auto\"},\"id\":\"1020\",\"type\":\"Toolbar\"},{\"attributes\":{},\"id\":\"1031\",\"type\":\"Selection\"},{\"attributes\":{\"fill_color\":{\"value\":\"#1f77b4\"},\"line_color\":{\"value\":\"#1f77b4\"},\"top\":{\"field\":\"top\"},\"width\":{\"value\":0.9},\"x\":{\"field\":\"x\"}},\"id\":\"1022\",\"type\":\"VBar\"},{\"attributes\":{\"data\":{\"top\":{\"__ndarray__\":\"rgQAAB8DAABTAgAARAIAADECAAAhAgAAHAIAAPUBAADzAQAA8wEAANsBAADWAQAAzAEAAMQBAAC9AQAA\",\"dtype\":\"int32\",\"order\":\"little\",\"shape\":[15]},\"x\":[\"Manjit Kaur Lakhmir Singh\",\"Wonder House Books\",\"Sumita Arora\",\"M. Laxmikanth\",\"MTG Editorial Board\",\"R.D. Sharma\",\"R.S. Aggarwal\",\"Nitin Singhania\",\"Antoine de Saint-Exup\\u00e9ry\",\"Benjamin Graham\",\"Poonam Gandhi\",\"R S Aggarwal\",\"CA. Dr. G.S. Grewal & R.K. Khosla\\u0085\",\"Priyanka Chopra Jonas\",\"James Clear\"]},\"selected\":{\"id\":\"1031\"},\"selection_policy\":{\"id\":\"1032\"}},\"id\":\"1021\",\"type\":\"ColumnDataSource\"},{\"attributes\":{\"source\":{\"id\":\"1021\"}},\"id\":\"1025\",\"type\":\"CDSView\"},{\"attributes\":{\"fill_alpha\":{\"value\":0.1},\"fill_color\":{\"value\":\"#1f77b4\"},\"line_alpha\":{\"value\":0.1},\"line_color\":{\"value\":\"#1f77b4\"},\"top\":{\"field\":\"top\"},\"width\":{\"value\":0.9},\"x\":{\"field\":\"x\"}},\"id\":\"1023\",\"type\":\"VBar\"}],\"root_ids\":[\"1002\"]},\"title\":\"Bokeh Application\",\"version\":\"2.1.1\"}};\n  var render_items = [{\"docid\":\"37bfe34f-ffda-4d05-a06f-409a6b0e8ffa\",\"root_ids\":[\"1002\"],\"roots\":{\"1002\":\"8720e145-8c85-4115-987f-754fdb3bcab4\"}}];\n  root.Bokeh.embed.embed_items_notebook(docs_json, render_items);\n\n  }\n  if (root.Bokeh !== undefined) {\n    embed_document(root);\n  } else {\n    var attempts = 0;\n    var timer = setInterval(function(root) {\n      if (root.Bokeh !== undefined) {\n        clearInterval(timer);\n        embed_document(root);\n      } else {\n        attempts++;\n        if (attempts > 100) {\n          clearInterval(timer);\n          console.log(\"Bokeh: ERROR: Unable to run BokehJS code because BokehJS library is missing\");\n        }\n      }\n    }, 10, root)\n  }\n})(window);",
            "application/vnd.bokehjs_exec.v0+json": ""
          },
          "metadata": {
            "application/vnd.bokehjs_exec.v0+json": {
              "id": "1002"
            }
          }
        }
      ]
    },
    {
      "metadata": {
        "trusted": true
      },
      "cell_type": "code",
      "source": "data = df[df['Customers_Rated'] > 1000]",
      "execution_count": 36,
      "outputs": []
    },
    {
      "metadata": {
        "trusted": true
      },
      "cell_type": "code",
      "source": "data = data.sort_values(['Rating'],axis=0, ascending=False)[:15]",
      "execution_count": 37,
      "outputs": []
    },
    {
      "metadata": {
        "trusted": true
      },
      "cell_type": "code",
      "source": "data",
      "execution_count": 38,
      "outputs": [
        {
          "output_type": "execute_result",
          "execution_count": 38,
          "data": {
            "text/plain": "                                            Book Name  \\\n40  Objective NCERT at your FINGERTIPS for NEET-AI...   \n39  Think Like a Monk: The secret of how to harnes...   \n36              Sapiens: A Brief History of Humankind   \n94          Bhagvad gita as it is english new edition   \n55           Harry Potter and the Philosopher's Stone   \n60  Death; An Inside Story: A book for all those w...   \n27  The Magic of the Lost Temple: Illustrated, eas...   \n16  Life's Amazing Secrets: How to Find Balance an...   \n54  The Theory of Everything: The Origin and Fate ...   \n68           Inner Engineering: A Yogi’s Guide to Joy   \n73      Mathematics for Class 8 (Examination 2021-22)   \n23  Mathematics for Class 10 by R D Sharma (Examin...   \n75  My First Complete Learning Library: Boxset of ...   \n43  Refreshing Mandala - Colouring Book for Adults...   \n97  A Man Called Ove: The life-affirming bestselle...   \n\n                                  Author  Rating  Customers_Rated  Price  \n40                   MTG Editorial Board     4.7           1071.0    561  \n39                            Jay Shetty     4.7          11652.0    355  \n36                     Yuval Noah Harari     4.7          30966.0    345  \n94  His Divine Grace A.C. Bhaktivedanta\n     4.7           3844.0    237  \n55                          J.K. Rowling     4.7          25289.0    280  \n60                              Sadhguru     4.7           4102.0    199  \n27                           Sudha Murty     4.7           2061.0    133  \n16                        Gaur Gopal Das     4.6           6690.0    158  \n54                       Stephen Hawking     4.6           4936.0    155  \n68                              Sadhguru     4.6           8708.0    178  \n73                           R.D. Sharma     4.6           1425.0    395  \n23                           R.D. Sharma     4.6           1120.0    545  \n75                    Wonder House Books     4.6           3716.0    799  \n43                Dreamland Publications     4.6           2988.0    150  \n97                       Fredrik Backman     4.6          24912.0    255  ",
            "text/html": "<div>\n<style scoped>\n    .dataframe tbody tr th:only-of-type {\n        vertical-align: middle;\n    }\n\n    .dataframe tbody tr th {\n        vertical-align: top;\n    }\n\n    .dataframe thead th {\n        text-align: right;\n    }\n</style>\n<table border=\"1\" class=\"dataframe\">\n  <thead>\n    <tr style=\"text-align: right;\">\n      <th></th>\n      <th>Book Name</th>\n      <th>Author</th>\n      <th>Rating</th>\n      <th>Customers_Rated</th>\n      <th>Price</th>\n    </tr>\n  </thead>\n  <tbody>\n    <tr>\n      <th>40</th>\n      <td>Objective NCERT at your FINGERTIPS for NEET-AI...</td>\n      <td>MTG Editorial Board</td>\n      <td>4.7</td>\n      <td>1071.0</td>\n      <td>561</td>\n    </tr>\n    <tr>\n      <th>39</th>\n      <td>Think Like a Monk: The secret of how to harnes...</td>\n      <td>Jay Shetty</td>\n      <td>4.7</td>\n      <td>11652.0</td>\n      <td>355</td>\n    </tr>\n    <tr>\n      <th>36</th>\n      <td>Sapiens: A Brief History of Humankind</td>\n      <td>Yuval Noah Harari</td>\n      <td>4.7</td>\n      <td>30966.0</td>\n      <td>345</td>\n    </tr>\n    <tr>\n      <th>94</th>\n      <td>Bhagvad gita as it is english new edition</td>\n      <td>His Divine Grace A.C. Bhaktivedanta</td>\n      <td>4.7</td>\n      <td>3844.0</td>\n      <td>237</td>\n    </tr>\n    <tr>\n      <th>55</th>\n      <td>Harry Potter and the Philosopher's Stone</td>\n      <td>J.K. Rowling</td>\n      <td>4.7</td>\n      <td>25289.0</td>\n      <td>280</td>\n    </tr>\n    <tr>\n      <th>60</th>\n      <td>Death; An Inside Story: A book for all those w...</td>\n      <td>Sadhguru</td>\n      <td>4.7</td>\n      <td>4102.0</td>\n      <td>199</td>\n    </tr>\n    <tr>\n      <th>27</th>\n      <td>The Magic of the Lost Temple: Illustrated, eas...</td>\n      <td>Sudha Murty</td>\n      <td>4.7</td>\n      <td>2061.0</td>\n      <td>133</td>\n    </tr>\n    <tr>\n      <th>16</th>\n      <td>Life's Amazing Secrets: How to Find Balance an...</td>\n      <td>Gaur Gopal Das</td>\n      <td>4.6</td>\n      <td>6690.0</td>\n      <td>158</td>\n    </tr>\n    <tr>\n      <th>54</th>\n      <td>The Theory of Everything: The Origin and Fate ...</td>\n      <td>Stephen Hawking</td>\n      <td>4.6</td>\n      <td>4936.0</td>\n      <td>155</td>\n    </tr>\n    <tr>\n      <th>68</th>\n      <td>Inner Engineering: A Yogi’s Guide to Joy</td>\n      <td>Sadhguru</td>\n      <td>4.6</td>\n      <td>8708.0</td>\n      <td>178</td>\n    </tr>\n    <tr>\n      <th>73</th>\n      <td>Mathematics for Class 8 (Examination 2021-22)</td>\n      <td>R.D. Sharma</td>\n      <td>4.6</td>\n      <td>1425.0</td>\n      <td>395</td>\n    </tr>\n    <tr>\n      <th>23</th>\n      <td>Mathematics for Class 10 by R D Sharma (Examin...</td>\n      <td>R.D. Sharma</td>\n      <td>4.6</td>\n      <td>1120.0</td>\n      <td>545</td>\n    </tr>\n    <tr>\n      <th>75</th>\n      <td>My First Complete Learning Library: Boxset of ...</td>\n      <td>Wonder House Books</td>\n      <td>4.6</td>\n      <td>3716.0</td>\n      <td>799</td>\n    </tr>\n    <tr>\n      <th>43</th>\n      <td>Refreshing Mandala - Colouring Book for Adults...</td>\n      <td>Dreamland Publications</td>\n      <td>4.6</td>\n      <td>2988.0</td>\n      <td>150</td>\n    </tr>\n    <tr>\n      <th>97</th>\n      <td>A Man Called Ove: The life-affirming bestselle...</td>\n      <td>Fredrik Backman</td>\n      <td>4.6</td>\n      <td>24912.0</td>\n      <td>255</td>\n    </tr>\n  </tbody>\n</table>\n</div>"
          },
          "metadata": {}
        }
      ]
    },
    {
      "metadata": {
        "trusted": true
      },
      "cell_type": "code",
      "source": "p = figure(x_range=data.iloc[:,0], plot_width=800, plot_height=600, title=\"Top Rated Books with more than 1000 Customers Rating\", toolbar_location=None, tools=\"\")\n\np.vbar(x=data.iloc[:,0], top=data.iloc[:,2], width=0.9)\n\np.xgrid.grid_line_color = None\np.y_range.start = 0\np.xaxis.major_label_orientation = math.pi/2",
      "execution_count": 39,
      "outputs": []
    },
    {
      "metadata": {
        "trusted": true
      },
      "cell_type": "code",
      "source": "show(p)",
      "execution_count": 40,
      "outputs": [
        {
          "output_type": "display_data",
          "data": {
            "text/html": "\n\n\n\n\n\n  <div class=\"bk-root\" id=\"6cb499a3-4202-4c76-a57b-86e619308e94\" data-root-id=\"1075\"></div>\n"
          },
          "metadata": {}
        },
        {
          "output_type": "display_data",
          "data": {
            "application/javascript": "(function(root) {\n  function embed_document(root) {\n    \n  var docs_json = {\"ef8be387-09a7-4162-85ee-6df2be11f361\":{\"roots\":{\"references\":[{\"attributes\":{\"below\":[{\"id\":\"1086\"}],\"center\":[{\"id\":\"1088\"},{\"id\":\"1092\"}],\"left\":[{\"id\":\"1089\"}],\"plot_width\":800,\"renderers\":[{\"id\":\"1097\"}],\"title\":{\"id\":\"1076\"},\"toolbar\":{\"id\":\"1093\"},\"toolbar_location\":null,\"x_range\":{\"id\":\"1078\"},\"x_scale\":{\"id\":\"1082\"},\"y_range\":{\"id\":\"1080\"},\"y_scale\":{\"id\":\"1084\"}},\"id\":\"1075\",\"subtype\":\"Figure\",\"type\":\"Plot\"},{\"attributes\":{},\"id\":\"1090\",\"type\":\"BasicTicker\"},{\"attributes\":{\"axis\":{\"id\":\"1089\"},\"dimension\":1,\"ticker\":null},\"id\":\"1092\",\"type\":\"Grid\"},{\"attributes\":{\"active_drag\":\"auto\",\"active_inspect\":\"auto\",\"active_multi\":null,\"active_scroll\":\"auto\",\"active_tap\":\"auto\"},\"id\":\"1093\",\"type\":\"Toolbar\"},{\"attributes\":{},\"id\":\"1108\",\"type\":\"CategoricalTickFormatter\"},{\"attributes\":{},\"id\":\"1110\",\"type\":\"BasicTickFormatter\"},{\"attributes\":{},\"id\":\"1112\",\"type\":\"UnionRenderers\"},{\"attributes\":{\"data\":{\"top\":{\"__ndarray__\":\"zczMzMzMEkDNzMzMzMwSQM3MzMzMzBJAzczMzMzMEkDNzMzMzMwSQM3MzMzMzBJAzczMzMzMEkBmZmZmZmYSQGZmZmZmZhJAZmZmZmZmEkBmZmZmZmYSQGZmZmZmZhJAZmZmZmZmEkBmZmZmZmYSQGZmZmZmZhJA\",\"dtype\":\"float64\",\"order\":\"little\",\"shape\":[15]},\"x\":[\"Objective NCERT at your FINGERTIPS for NEET-AIIMS - Biology\",\"Think Like a Monk: The secret of how to harness the power of positivity and be happy now\",\"Sapiens: A Brief History of Humankind\",\"Bhagvad gita as it is english new edition\",\"Harry Potter and the Philosopher's Stone\",\"Death; An Inside Story: A book for all those who shall die\",\"The Magic of the Lost Temple: Illustrated, easy to read and much-loved first full length children\\u2019s fiction novel by\\u2026\",\"Life's Amazing Secrets: How to Find Balance and Purpose in Your Life\",\"The Theory of Everything: The Origin and Fate of the Universe\",\"Inner Engineering: A Yogi\\u2019s Guide to Joy\",\"Mathematics for Class 8 (Examination 2021-22)\",\"Mathematics for Class 10 by R D Sharma (Examination 2021-22)\",\"My First Complete Learning Library: Boxset of 20 Board Books Gift Set for Kids (Horizontal Design)\",\"Refreshing Mandala - Colouring Book for Adults Book 1\",\"A Man Called Ove: The life-affirming bestseller that will brighten your day\"]},\"selected\":{\"id\":\"1111\"},\"selection_policy\":{\"id\":\"1112\"}},\"id\":\"1094\",\"type\":\"ColumnDataSource\"},{\"attributes\":{\"fill_color\":{\"value\":\"#1f77b4\"},\"line_color\":{\"value\":\"#1f77b4\"},\"top\":{\"field\":\"top\"},\"width\":{\"value\":0.9},\"x\":{\"field\":\"x\"}},\"id\":\"1095\",\"type\":\"VBar\"},{\"attributes\":{\"fill_alpha\":{\"value\":0.1},\"fill_color\":{\"value\":\"#1f77b4\"},\"line_alpha\":{\"value\":0.1},\"line_color\":{\"value\":\"#1f77b4\"},\"top\":{\"field\":\"top\"},\"width\":{\"value\":0.9},\"x\":{\"field\":\"x\"}},\"id\":\"1096\",\"type\":\"VBar\"},{\"attributes\":{\"source\":{\"id\":\"1094\"}},\"id\":\"1098\",\"type\":\"CDSView\"},{\"attributes\":{\"text\":\"Top Rated Books with more than 1000 Customers Rating\"},\"id\":\"1076\",\"type\":\"Title\"},{\"attributes\":{\"data_source\":{\"id\":\"1094\"},\"glyph\":{\"id\":\"1095\"},\"hover_glyph\":null,\"muted_glyph\":null,\"nonselection_glyph\":{\"id\":\"1096\"},\"selection_glyph\":null,\"view\":{\"id\":\"1098\"}},\"id\":\"1097\",\"type\":\"GlyphRenderer\"},{\"attributes\":{\"factors\":[\"Objective NCERT at your FINGERTIPS for NEET-AIIMS - Biology\",\"Think Like a Monk: The secret of how to harness the power of positivity and be happy now\",\"Sapiens: A Brief History of Humankind\",\"Bhagvad gita as it is english new edition\",\"Harry Potter and the Philosopher's Stone\",\"Death; An Inside Story: A book for all those who shall die\",\"The Magic of the Lost Temple: Illustrated, easy to read and much-loved first full length children\\u2019s fiction novel by\\u2026\",\"Life's Amazing Secrets: How to Find Balance and Purpose in Your Life\",\"The Theory of Everything: The Origin and Fate of the Universe\",\"Inner Engineering: A Yogi\\u2019s Guide to Joy\",\"Mathematics for Class 8 (Examination 2021-22)\",\"Mathematics for Class 10 by R D Sharma (Examination 2021-22)\",\"My First Complete Learning Library: Boxset of 20 Board Books Gift Set for Kids (Horizontal Design)\",\"Refreshing Mandala - Colouring Book for Adults Book 1\",\"A Man Called Ove: The life-affirming bestseller that will brighten your day\"]},\"id\":\"1078\",\"type\":\"FactorRange\"},{\"attributes\":{},\"id\":\"1111\",\"type\":\"Selection\"},{\"attributes\":{},\"id\":\"1082\",\"type\":\"CategoricalScale\"},{\"attributes\":{},\"id\":\"1084\",\"type\":\"LinearScale\"},{\"attributes\":{},\"id\":\"1087\",\"type\":\"CategoricalTicker\"},{\"attributes\":{\"start\":0},\"id\":\"1080\",\"type\":\"DataRange1d\"},{\"attributes\":{\"formatter\":{\"id\":\"1108\"},\"major_label_orientation\":1.5707963267948966,\"ticker\":{\"id\":\"1087\"}},\"id\":\"1086\",\"type\":\"CategoricalAxis\"},{\"attributes\":{\"axis\":{\"id\":\"1086\"},\"grid_line_color\":null,\"ticker\":null},\"id\":\"1088\",\"type\":\"Grid\"},{\"attributes\":{\"formatter\":{\"id\":\"1110\"},\"ticker\":{\"id\":\"1090\"}},\"id\":\"1089\",\"type\":\"LinearAxis\"}],\"root_ids\":[\"1075\"]},\"title\":\"Bokeh Application\",\"version\":\"2.1.1\"}};\n  var render_items = [{\"docid\":\"ef8be387-09a7-4162-85ee-6df2be11f361\",\"root_ids\":[\"1075\"],\"roots\":{\"1075\":\"6cb499a3-4202-4c76-a57b-86e619308e94\"}}];\n  root.Bokeh.embed.embed_items_notebook(docs_json, render_items);\n\n  }\n  if (root.Bokeh !== undefined) {\n    embed_document(root);\n  } else {\n    var attempts = 0;\n    var timer = setInterval(function(root) {\n      if (root.Bokeh !== undefined) {\n        clearInterval(timer);\n        embed_document(root);\n      } else {\n        attempts++;\n        if (attempts > 100) {\n          clearInterval(timer);\n          console.log(\"Bokeh: ERROR: Unable to run BokehJS code because BokehJS library is missing\");\n        }\n      }\n    }, 10, root)\n  }\n})(window);",
            "application/vnd.bokehjs_exec.v0+json": ""
          },
          "metadata": {
            "application/vnd.bokehjs_exec.v0+json": {
              "id": "1075"
            }
          }
        }
      ]
    },
    {
      "metadata": {
        "trusted": true
      },
      "cell_type": "code",
      "source": "p = figure(x_range=data.iloc[:,1], plot_width=800, plot_height=600, title=\"Top Rated Books with more than 1000 Customers Rating\", toolbar_location=None, tools=\"\")\n\np.vbar(x=data.iloc[:,1], top=data.iloc[:,2], width=0.9)\n\np.xgrid.grid_line_color = None\np.y_range.start = 0\np.xaxis.major_label_orientation = math.pi/2",
      "execution_count": 41,
      "outputs": []
    },
    {
      "metadata": {
        "trusted": true
      },
      "cell_type": "code",
      "source": "show(p)",
      "execution_count": 42,
      "outputs": [
        {
          "output_type": "stream",
          "text": "ERROR:bokeh.core.validation.check:E-1019 (DUPLICATE_FACTORS): FactorRange must specify a unique list of categorical factors for an axis: duplicate factors found: 'Sadhguru', 'R.D. Sharma'\n",
          "name": "stderr"
        },
        {
          "output_type": "display_data",
          "data": {
            "text/html": "\n\n\n\n\n\n  <div class=\"bk-root\" id=\"918f16d5-4355-4798-948c-65433393b546\" data-root-id=\"1155\"></div>\n"
          },
          "metadata": {}
        },
        {
          "output_type": "display_data",
          "data": {
            "application/javascript": "(function(root) {\n  function embed_document(root) {\n    \n  var docs_json = {\"a78957e4-88b1-4d65-8248-ce937571c988\":{\"roots\":{\"references\":[{\"attributes\":{\"below\":[{\"id\":\"1166\"}],\"center\":[{\"id\":\"1168\"},{\"id\":\"1172\"}],\"left\":[{\"id\":\"1169\"}],\"plot_width\":800,\"renderers\":[{\"id\":\"1177\"}],\"title\":{\"id\":\"1156\"},\"toolbar\":{\"id\":\"1173\"},\"toolbar_location\":null,\"x_range\":{\"id\":\"1158\"},\"x_scale\":{\"id\":\"1162\"},\"y_range\":{\"id\":\"1160\"},\"y_scale\":{\"id\":\"1164\"}},\"id\":\"1155\",\"subtype\":\"Figure\",\"type\":\"Plot\"},{\"attributes\":{},\"id\":\"1197\",\"type\":\"BasicTickFormatter\"},{\"attributes\":{\"axis\":{\"id\":\"1169\"},\"dimension\":1,\"ticker\":null},\"id\":\"1172\",\"type\":\"Grid\"},{\"attributes\":{\"active_drag\":\"auto\",\"active_inspect\":\"auto\",\"active_multi\":null,\"active_scroll\":\"auto\",\"active_tap\":\"auto\"},\"id\":\"1173\",\"type\":\"Toolbar\"},{\"attributes\":{},\"id\":\"1170\",\"type\":\"BasicTicker\"},{\"attributes\":{\"fill_color\":{\"value\":\"#1f77b4\"},\"line_color\":{\"value\":\"#1f77b4\"},\"top\":{\"field\":\"top\"},\"width\":{\"value\":0.9},\"x\":{\"field\":\"x\"}},\"id\":\"1175\",\"type\":\"VBar\"},{\"attributes\":{\"formatter\":{\"id\":\"1197\"},\"ticker\":{\"id\":\"1170\"}},\"id\":\"1169\",\"type\":\"LinearAxis\"},{\"attributes\":{},\"id\":\"1198\",\"type\":\"Selection\"},{\"attributes\":{\"text\":\"Top Rated Books with more than 1000 Customers Rating\"},\"id\":\"1156\",\"type\":\"Title\"},{\"attributes\":{\"factors\":[\"MTG Editorial Board\",\"Jay Shetty\",\"Yuval Noah Harari\",\"His Divine Grace A.C. Bhaktivedanta\\u0085\",\"J.K. Rowling\",\"Sadhguru\",\"Sudha Murty\",\"Gaur Gopal Das\",\"Stephen Hawking\",\"Sadhguru\",\"R.D. Sharma\",\"R.D. Sharma\",\"Wonder House Books\",\"Dreamland Publications\",\"Fredrik Backman\"]},\"id\":\"1158\",\"type\":\"FactorRange\"},{\"attributes\":{},\"id\":\"1195\",\"type\":\"CategoricalTickFormatter\"},{\"attributes\":{},\"id\":\"1162\",\"type\":\"CategoricalScale\"},{\"attributes\":{},\"id\":\"1199\",\"type\":\"UnionRenderers\"},{\"attributes\":{\"axis\":{\"id\":\"1166\"},\"grid_line_color\":null,\"ticker\":null},\"id\":\"1168\",\"type\":\"Grid\"},{\"attributes\":{},\"id\":\"1164\",\"type\":\"LinearScale\"},{\"attributes\":{\"start\":0},\"id\":\"1160\",\"type\":\"DataRange1d\"},{\"attributes\":{\"fill_alpha\":{\"value\":0.1},\"fill_color\":{\"value\":\"#1f77b4\"},\"line_alpha\":{\"value\":0.1},\"line_color\":{\"value\":\"#1f77b4\"},\"top\":{\"field\":\"top\"},\"width\":{\"value\":0.9},\"x\":{\"field\":\"x\"}},\"id\":\"1176\",\"type\":\"VBar\"},{\"attributes\":{\"data\":{\"top\":{\"__ndarray__\":\"zczMzMzMEkDNzMzMzMwSQM3MzMzMzBJAzczMzMzMEkDNzMzMzMwSQM3MzMzMzBJAzczMzMzMEkBmZmZmZmYSQGZmZmZmZhJAZmZmZmZmEkBmZmZmZmYSQGZmZmZmZhJAZmZmZmZmEkBmZmZmZmYSQGZmZmZmZhJA\",\"dtype\":\"float64\",\"order\":\"little\",\"shape\":[15]},\"x\":[\"MTG Editorial Board\",\"Jay Shetty\",\"Yuval Noah Harari\",\"His Divine Grace A.C. Bhaktivedanta\\u0085\",\"J.K. Rowling\",\"Sadhguru\",\"Sudha Murty\",\"Gaur Gopal Das\",\"Stephen Hawking\",\"Sadhguru\",\"R.D. Sharma\",\"R.D. Sharma\",\"Wonder House Books\",\"Dreamland Publications\",\"Fredrik Backman\"]},\"selected\":{\"id\":\"1198\"},\"selection_policy\":{\"id\":\"1199\"}},\"id\":\"1174\",\"type\":\"ColumnDataSource\"},{\"attributes\":{\"source\":{\"id\":\"1174\"}},\"id\":\"1178\",\"type\":\"CDSView\"},{\"attributes\":{\"data_source\":{\"id\":\"1174\"},\"glyph\":{\"id\":\"1175\"},\"hover_glyph\":null,\"muted_glyph\":null,\"nonselection_glyph\":{\"id\":\"1176\"},\"selection_glyph\":null,\"view\":{\"id\":\"1178\"}},\"id\":\"1177\",\"type\":\"GlyphRenderer\"},{\"attributes\":{},\"id\":\"1167\",\"type\":\"CategoricalTicker\"},{\"attributes\":{\"formatter\":{\"id\":\"1195\"},\"major_label_orientation\":1.5707963267948966,\"ticker\":{\"id\":\"1167\"}},\"id\":\"1166\",\"type\":\"CategoricalAxis\"}],\"root_ids\":[\"1155\"]},\"title\":\"Bokeh Application\",\"version\":\"2.1.1\"}};\n  var render_items = [{\"docid\":\"a78957e4-88b1-4d65-8248-ce937571c988\",\"root_ids\":[\"1155\"],\"roots\":{\"1155\":\"918f16d5-4355-4798-948c-65433393b546\"}}];\n  root.Bokeh.embed.embed_items_notebook(docs_json, render_items);\n\n  }\n  if (root.Bokeh !== undefined) {\n    embed_document(root);\n  } else {\n    var attempts = 0;\n    var timer = setInterval(function(root) {\n      if (root.Bokeh !== undefined) {\n        clearInterval(timer);\n        embed_document(root);\n      } else {\n        attempts++;\n        if (attempts > 100) {\n          clearInterval(timer);\n          console.log(\"Bokeh: ERROR: Unable to run BokehJS code because BokehJS library is missing\");\n        }\n      }\n    }, 10, root)\n  }\n})(window);",
            "application/vnd.bokehjs_exec.v0+json": ""
          },
          "metadata": {
            "application/vnd.bokehjs_exec.v0+json": {
              "id": "1155"
            }
          }
        }
      ]
    },
    {
      "metadata": {
        "trusted": true
      },
      "cell_type": "code",
      "source": "data = df.sort_values([\"Customers_Rated\"], axis=0, ascending=False)[:20]",
      "execution_count": 43,
      "outputs": []
    },
    {
      "metadata": {
        "trusted": true
      },
      "cell_type": "code",
      "source": "data",
      "execution_count": 44,
      "outputs": [
        {
          "output_type": "execute_result",
          "execution_count": 44,
          "data": {
            "text/plain": "                                            Book Name              Author  \\\n82  The Silent Patient: The record-breaking, multi...    Alex Michaelides   \n11                                      The Alchemist        Paulo Coelho   \n72  The Subtle Art of Not Giving a F*ck: A Counter...         Mark Manson   \n7   Rich Dad Poor Dad: What the Rich Teach Their K...  Robert T. Kiyosaki   \n36              Sapiens: A Brief History of Humankind   Yuval Noah Harari   \n48  Man's Search For Meaning: The classic tribute ...     Viktor E Frankl   \n91                The Power of your Subconscious Mind       Joseph Murphy   \n10                The Power of Your Subconscious Mind       Joseph Murphy   \n55           Harry Potter and the Philosopher's Stone        J.K. Rowling   \n97  A Man Called Ove: The life-affirming bestselle...     Fredrik Backman   \n12  The Intelligent Investor (English) Paperback –...     Benjamin Graham   \n1   My First Library: Boxset of 10 Board Books for...  Wonder House Books   \n25                               Word Power Made Easy        Norman Lewis   \n28                               Word Power Made Easy        Norman Lewis   \n93  Thinking, Fast and Slow (Penguin Press Non-Fic...     Daniel Kahneman   \n9   Atomic Habits: The life-changing million copy ...         James Clear   \n33                         The Richest Man in Babylon    George S. Clason   \n47                      The Monk Who Sold His Ferrari        Robin Sharma   \n2   Ikigai: The Japanese secret to a long and happ...       Héctor García   \n39  Think Like a Monk: The secret of how to harnes...          Jay Shetty   \n\n    Rating  Customers_Rated  Price  \n82     4.5          64434.0    285  \n11     4.6          49429.0    229  \n72     4.5          44860.0    256  \n7      4.6          38266.0    383  \n36     4.7          30966.0    345  \n48     4.5          28796.0    180  \n91     4.5          28691.0    135  \n10     4.5          28691.0    109  \n55     4.7          25289.0    280  \n97     4.6          24912.0    255  \n12     4.5          21526.0    499  \n1      4.5          19845.0    399  \n25     4.4          18765.0     95  \n28     4.4          18765.0    170  \n93     4.4          17512.0    359  \n9      4.6          16898.0    445  \n33     4.4          16450.0     99  \n47     4.5          12207.0    153  \n2      4.6          12180.0    380  \n39     4.7          11652.0    355  ",
            "text/html": "<div>\n<style scoped>\n    .dataframe tbody tr th:only-of-type {\n        vertical-align: middle;\n    }\n\n    .dataframe tbody tr th {\n        vertical-align: top;\n    }\n\n    .dataframe thead th {\n        text-align: right;\n    }\n</style>\n<table border=\"1\" class=\"dataframe\">\n  <thead>\n    <tr style=\"text-align: right;\">\n      <th></th>\n      <th>Book Name</th>\n      <th>Author</th>\n      <th>Rating</th>\n      <th>Customers_Rated</th>\n      <th>Price</th>\n    </tr>\n  </thead>\n  <tbody>\n    <tr>\n      <th>82</th>\n      <td>The Silent Patient: The record-breaking, multi...</td>\n      <td>Alex Michaelides</td>\n      <td>4.5</td>\n      <td>64434.0</td>\n      <td>285</td>\n    </tr>\n    <tr>\n      <th>11</th>\n      <td>The Alchemist</td>\n      <td>Paulo Coelho</td>\n      <td>4.6</td>\n      <td>49429.0</td>\n      <td>229</td>\n    </tr>\n    <tr>\n      <th>72</th>\n      <td>The Subtle Art of Not Giving a F*ck: A Counter...</td>\n      <td>Mark Manson</td>\n      <td>4.5</td>\n      <td>44860.0</td>\n      <td>256</td>\n    </tr>\n    <tr>\n      <th>7</th>\n      <td>Rich Dad Poor Dad: What the Rich Teach Their K...</td>\n      <td>Robert T. Kiyosaki</td>\n      <td>4.6</td>\n      <td>38266.0</td>\n      <td>383</td>\n    </tr>\n    <tr>\n      <th>36</th>\n      <td>Sapiens: A Brief History of Humankind</td>\n      <td>Yuval Noah Harari</td>\n      <td>4.7</td>\n      <td>30966.0</td>\n      <td>345</td>\n    </tr>\n    <tr>\n      <th>48</th>\n      <td>Man's Search For Meaning: The classic tribute ...</td>\n      <td>Viktor E Frankl</td>\n      <td>4.5</td>\n      <td>28796.0</td>\n      <td>180</td>\n    </tr>\n    <tr>\n      <th>91</th>\n      <td>The Power of your Subconscious Mind</td>\n      <td>Joseph Murphy</td>\n      <td>4.5</td>\n      <td>28691.0</td>\n      <td>135</td>\n    </tr>\n    <tr>\n      <th>10</th>\n      <td>The Power of Your Subconscious Mind</td>\n      <td>Joseph Murphy</td>\n      <td>4.5</td>\n      <td>28691.0</td>\n      <td>109</td>\n    </tr>\n    <tr>\n      <th>55</th>\n      <td>Harry Potter and the Philosopher's Stone</td>\n      <td>J.K. Rowling</td>\n      <td>4.7</td>\n      <td>25289.0</td>\n      <td>280</td>\n    </tr>\n    <tr>\n      <th>97</th>\n      <td>A Man Called Ove: The life-affirming bestselle...</td>\n      <td>Fredrik Backman</td>\n      <td>4.6</td>\n      <td>24912.0</td>\n      <td>255</td>\n    </tr>\n    <tr>\n      <th>12</th>\n      <td>The Intelligent Investor (English) Paperback –...</td>\n      <td>Benjamin Graham</td>\n      <td>4.5</td>\n      <td>21526.0</td>\n      <td>499</td>\n    </tr>\n    <tr>\n      <th>1</th>\n      <td>My First Library: Boxset of 10 Board Books for...</td>\n      <td>Wonder House Books</td>\n      <td>4.5</td>\n      <td>19845.0</td>\n      <td>399</td>\n    </tr>\n    <tr>\n      <th>25</th>\n      <td>Word Power Made Easy</td>\n      <td>Norman Lewis</td>\n      <td>4.4</td>\n      <td>18765.0</td>\n      <td>95</td>\n    </tr>\n    <tr>\n      <th>28</th>\n      <td>Word Power Made Easy</td>\n      <td>Norman Lewis</td>\n      <td>4.4</td>\n      <td>18765.0</td>\n      <td>170</td>\n    </tr>\n    <tr>\n      <th>93</th>\n      <td>Thinking, Fast and Slow (Penguin Press Non-Fic...</td>\n      <td>Daniel Kahneman</td>\n      <td>4.4</td>\n      <td>17512.0</td>\n      <td>359</td>\n    </tr>\n    <tr>\n      <th>9</th>\n      <td>Atomic Habits: The life-changing million copy ...</td>\n      <td>James Clear</td>\n      <td>4.6</td>\n      <td>16898.0</td>\n      <td>445</td>\n    </tr>\n    <tr>\n      <th>33</th>\n      <td>The Richest Man in Babylon</td>\n      <td>George S. Clason</td>\n      <td>4.4</td>\n      <td>16450.0</td>\n      <td>99</td>\n    </tr>\n    <tr>\n      <th>47</th>\n      <td>The Monk Who Sold His Ferrari</td>\n      <td>Robin Sharma</td>\n      <td>4.5</td>\n      <td>12207.0</td>\n      <td>153</td>\n    </tr>\n    <tr>\n      <th>2</th>\n      <td>Ikigai: The Japanese secret to a long and happ...</td>\n      <td>Héctor García</td>\n      <td>4.6</td>\n      <td>12180.0</td>\n      <td>380</td>\n    </tr>\n    <tr>\n      <th>39</th>\n      <td>Think Like a Monk: The secret of how to harnes...</td>\n      <td>Jay Shetty</td>\n      <td>4.7</td>\n      <td>11652.0</td>\n      <td>355</td>\n    </tr>\n  </tbody>\n</table>\n</div>"
          },
          "metadata": {}
        }
      ]
    },
    {
      "metadata": {
        "trusted": true
      },
      "cell_type": "code",
      "source": "from bokeh.transform import factor_cmap\nfrom bokeh.models import Legend\nfrom bokeh.palettes import Dark2_5 as palette\nimport itertools\nfrom bokeh.palettes import d3\n#colors has a list of colors which can be used in plots\ncolors = itertools.cycle(palette)\n\npalette = d3['Category20'][20]",
      "execution_count": 45,
      "outputs": []
    },
    {
      "metadata": {
        "trusted": true
      },
      "cell_type": "code",
      "source": "index_cmap = factor_cmap('Author', palette=palette,\n                         factors=data[\"Author\"])\np = figure(plot_width=700, plot_height=700, title = \"Top Authors: Rating vs. Customers Rated\")\np.scatter('Rating','Customers_Rated',source=data,fill_alpha=0.6, fill_color=index_cmap,size=20,legend='Author')\np.xaxis.axis_label = 'RATING'\np.yaxis.axis_label = 'CUSTOMERS RATED'\np.legend.location = 'top_left'",
      "execution_count": 46,
      "outputs": [
        {
          "output_type": "stream",
          "text": "BokehDeprecationWarning: 'legend' keyword is deprecated, use explicit 'legend_label', 'legend_field', or 'legend_group' keywords instead\n",
          "name": "stderr"
        }
      ]
    },
    {
      "metadata": {
        "trusted": true
      },
      "cell_type": "code",
      "source": "show(p)",
      "execution_count": 47,
      "outputs": [
        {
          "output_type": "display_data",
          "data": {
            "text/html": "\n\n\n\n\n\n  <div class=\"bk-root\" id=\"af7fe816-1393-46c9-aad7-f524d0e27652\" data-root-id=\"1243\"></div>\n"
          },
          "metadata": {}
        },
        {
          "output_type": "display_data",
          "data": {
            "application/javascript": "(function(root) {\n  function embed_document(root) {\n    \n  var docs_json = {\"7bd2f31f-5592-42e7-a23e-9b3ea90fddb8\":{\"roots\":{\"references\":[{\"attributes\":{\"below\":[{\"id\":\"1254\"}],\"center\":[{\"id\":\"1257\"},{\"id\":\"1261\"},{\"id\":\"1290\"}],\"left\":[{\"id\":\"1258\"}],\"plot_height\":700,\"plot_width\":700,\"renderers\":[{\"id\":\"1280\"}],\"title\":{\"id\":\"1244\"},\"toolbar\":{\"id\":\"1269\"},\"x_range\":{\"id\":\"1246\"},\"x_scale\":{\"id\":\"1250\"},\"y_range\":{\"id\":\"1248\"},\"y_scale\":{\"id\":\"1252\"}},\"id\":\"1243\",\"subtype\":\"Figure\",\"type\":\"Plot\"},{\"attributes\":{},\"id\":\"1267\",\"type\":\"HelpTool\"},{\"attributes\":{},\"id\":\"1284\",\"type\":\"BasicTickFormatter\"},{\"attributes\":{\"axis_label\":\"CUSTOMERS RATED\",\"formatter\":{\"id\":\"1286\"},\"ticker\":{\"id\":\"1259\"}},\"id\":\"1258\",\"type\":\"LinearAxis\"},{\"attributes\":{},\"id\":\"1259\",\"type\":\"BasicTicker\"},{\"attributes\":{},\"id\":\"1266\",\"type\":\"ResetTool\"},{\"attributes\":{\"overlay\":{\"id\":\"1268\"}},\"id\":\"1264\",\"type\":\"BoxZoomTool\"},{\"attributes\":{\"fill_alpha\":{\"value\":0.6},\"fill_color\":{\"field\":\"Author\",\"transform\":{\"id\":\"1242\"}},\"line_color\":{\"value\":\"#1f77b4\"},\"size\":{\"units\":\"screen\",\"value\":20},\"x\":{\"field\":\"Rating\"},\"y\":{\"field\":\"Customers_Rated\"}},\"id\":\"1278\",\"type\":\"Scatter\"},{\"attributes\":{},\"id\":\"1286\",\"type\":\"BasicTickFormatter\"},{\"attributes\":{},\"id\":\"1263\",\"type\":\"WheelZoomTool\"},{\"attributes\":{\"fill_alpha\":{\"value\":0.1},\"fill_color\":{\"field\":\"Author\",\"transform\":{\"id\":\"1242\"}},\"line_alpha\":{\"value\":0.1},\"line_color\":{\"value\":\"#1f77b4\"},\"size\":{\"units\":\"screen\",\"value\":20},\"x\":{\"field\":\"Rating\"},\"y\":{\"field\":\"Customers_Rated\"}},\"id\":\"1279\",\"type\":\"Scatter\"},{\"attributes\":{},\"id\":\"1287\",\"type\":\"Selection\"},{\"attributes\":{\"text\":\"Top Authors: Rating vs. Customers Rated\"},\"id\":\"1244\",\"type\":\"Title\"},{\"attributes\":{},\"id\":\"1288\",\"type\":\"UnionRenderers\"},{\"attributes\":{\"data\":{\"Author\":[\"Alex Michaelides\",\"Paulo Coelho\",\"Mark Manson\",\"Robert T. Kiyosaki\",\"Yuval Noah Harari\",\"Viktor E Frankl\",\"Joseph Murphy\",\"Joseph Murphy\",\"J.K. Rowling\",\"Fredrik Backman\",\"Benjamin Graham\",\"Wonder House Books\",\"Norman Lewis\",\"Norman Lewis\",\"Daniel Kahneman\",\"James Clear\",\"George S. Clason\",\"Robin Sharma\",\"H\\u00e9ctor Garc\\u00eda\",\"Jay Shetty\"],\"Book Name\":[\"The Silent Patient: The record-breaking, multimillion copy Sunday Times bestselling thriller and Richard & Judy book\\u2026\",\"The Alchemist\",\"The Subtle Art of Not Giving a F*ck: A Counterintuitive Approach to Living a Good Life\",\"Rich Dad Poor Dad: What the Rich Teach Their Kids About Money That the Poor and Middle Class Do Not!\",\"Sapiens: A Brief History of Humankind\",\"Man's Search For Meaning: The classic tribute to hope from the Holocaust\",\"The Power of your Subconscious Mind\",\"The Power of Your Subconscious Mind\",\"Harry Potter and the Philosopher's Stone\",\"A Man Called Ove: The life-affirming bestseller that will brighten your day\",\"The Intelligent Investor (English) Paperback \\u2013 2013\",\"My First Library: Boxset of 10 Board Books for Kids\",\"Word Power Made Easy\",\"Word Power Made Easy\",\"Thinking, Fast and Slow (Penguin Press Non-Fiction)\",\"Atomic Habits: The life-changing million copy bestseller\",\"The Richest Man in Babylon\",\"The Monk Who Sold His Ferrari\",\"Ikigai: The Japanese secret to a long and happy life\",\"Think Like a Monk: The secret of how to harness the power of positivity and be happy now\"],\"Customers_Rated\":{\"__ndarray__\":\"AAAAAEB270AAAAAAoCLoQAAAAACA5+VAAAAAAECv4kAAAAAAgD3eQAAAAAAAH9xAAAAAAMAE3EAAAAAAwATcQAAAAABAsthAAAAAAABU2EAAAAAAgAXVQAAAAABAYdNAAAAAAEBT0kAAAAAAQFPSQAAAAAAAGtFAAAAAAICA0EAAAAAAgBDQQAAAAACA18dAAAAAAADKx0AAAAAAAMLGQA==\",\"dtype\":\"float64\",\"order\":\"little\",\"shape\":[20]},\"Price\":{\"__ndarray__\":\"HQEAAOUAAAAAAQAAfwEAAFkBAAC0AAAAhwAAAG0AAAAYAQAA/wAAAPMBAACPAQAAXwAAAKoAAABnAQAAvQEAAGMAAACZAAAAfAEAAGMBAAA=\",\"dtype\":\"int32\",\"order\":\"little\",\"shape\":[20]},\"Rating\":{\"__ndarray__\":\"AAAAAAAAEkBmZmZmZmYSQAAAAAAAABJAZmZmZmZmEkDNzMzMzMwSQAAAAAAAABJAAAAAAAAAEkAAAAAAAAASQM3MzMzMzBJAZmZmZmZmEkAAAAAAAAASQAAAAAAAABJAmpmZmZmZEUCamZmZmZkRQJqZmZmZmRFAZmZmZmZmEkCamZmZmZkRQAAAAAAAABJAZmZmZmZmEkDNzMzMzMwSQA==\",\"dtype\":\"float64\",\"order\":\"little\",\"shape\":[20]},\"index\":[82,11,72,7,36,48,91,10,55,97,12,1,25,28,93,9,33,47,2,39]},\"selected\":{\"id\":\"1287\"},\"selection_policy\":{\"id\":\"1288\"}},\"id\":\"1276\",\"type\":\"ColumnDataSource\"},{\"attributes\":{\"source\":{\"id\":\"1276\"}},\"id\":\"1281\",\"type\":\"CDSView\"},{\"attributes\":{\"factors\":[\"Alex Michaelides\",\"Paulo Coelho\",\"Mark Manson\",\"Robert T. Kiyosaki\",\"Yuval Noah Harari\",\"Viktor E Frankl\",\"Joseph Murphy\",\"Joseph Murphy\",\"J.K. Rowling\",\"Fredrik Backman\",\"Benjamin Graham\",\"Wonder House Books\",\"Norman Lewis\",\"Norman Lewis\",\"Daniel Kahneman\",\"James Clear\",\"George S. Clason\",\"Robin Sharma\",\"H\\u00e9ctor Garc\\u00eda\",\"Jay Shetty\"],\"palette\":[\"#1f77b4\",\"#aec7e8\",\"#ff7f0e\",\"#ffbb78\",\"#2ca02c\",\"#98df8a\",\"#d62728\",\"#ff9896\",\"#9467bd\",\"#c5b0d5\",\"#8c564b\",\"#c49c94\",\"#e377c2\",\"#f7b6d2\",\"#7f7f7f\",\"#c7c7c7\",\"#bcbd22\",\"#dbdb8d\",\"#17becf\",\"#9edae5\"]},\"id\":\"1242\",\"type\":\"CategoricalColorMapper\"},{\"attributes\":{\"data_source\":{\"id\":\"1276\"},\"glyph\":{\"id\":\"1278\"},\"hover_glyph\":null,\"muted_glyph\":null,\"nonselection_glyph\":{\"id\":\"1279\"},\"selection_glyph\":null,\"view\":{\"id\":\"1281\"}},\"id\":\"1280\",\"type\":\"GlyphRenderer\"},{\"attributes\":{},\"id\":\"1250\",\"type\":\"LinearScale\"},{\"attributes\":{\"items\":[{\"id\":\"1291\"}],\"location\":\"top_left\"},\"id\":\"1290\",\"type\":\"Legend\"},{\"attributes\":{},\"id\":\"1246\",\"type\":\"DataRange1d\"},{\"attributes\":{},\"id\":\"1248\",\"type\":\"DataRange1d\"},{\"attributes\":{\"axis\":{\"id\":\"1254\"},\"ticker\":null},\"id\":\"1257\",\"type\":\"Grid\"},{\"attributes\":{},\"id\":\"1265\",\"type\":\"SaveTool\"},{\"attributes\":{\"axis_label\":\"RATING\",\"formatter\":{\"id\":\"1284\"},\"ticker\":{\"id\":\"1255\"}},\"id\":\"1254\",\"type\":\"LinearAxis\"},{\"attributes\":{},\"id\":\"1255\",\"type\":\"BasicTicker\"},{\"attributes\":{\"active_drag\":\"auto\",\"active_inspect\":\"auto\",\"active_multi\":null,\"active_scroll\":\"auto\",\"active_tap\":\"auto\",\"tools\":[{\"id\":\"1262\"},{\"id\":\"1263\"},{\"id\":\"1264\"},{\"id\":\"1265\"},{\"id\":\"1266\"},{\"id\":\"1267\"}]},\"id\":\"1269\",\"type\":\"Toolbar\"},{\"attributes\":{},\"id\":\"1252\",\"type\":\"LinearScale\"},{\"attributes\":{\"bottom_units\":\"screen\",\"fill_alpha\":0.5,\"fill_color\":\"lightgrey\",\"left_units\":\"screen\",\"level\":\"overlay\",\"line_alpha\":1.0,\"line_color\":\"black\",\"line_dash\":[4,4],\"line_width\":2,\"right_units\":\"screen\",\"top_units\":\"screen\"},\"id\":\"1268\",\"type\":\"BoxAnnotation\"},{\"attributes\":{},\"id\":\"1262\",\"type\":\"PanTool\"},{\"attributes\":{\"label\":{\"field\":\"Author\"},\"renderers\":[{\"id\":\"1280\"}]},\"id\":\"1291\",\"type\":\"LegendItem\"},{\"attributes\":{\"axis\":{\"id\":\"1258\"},\"dimension\":1,\"ticker\":null},\"id\":\"1261\",\"type\":\"Grid\"}],\"root_ids\":[\"1243\"]},\"title\":\"Bokeh Application\",\"version\":\"2.1.1\"}};\n  var render_items = [{\"docid\":\"7bd2f31f-5592-42e7-a23e-9b3ea90fddb8\",\"root_ids\":[\"1243\"],\"roots\":{\"1243\":\"af7fe816-1393-46c9-aad7-f524d0e27652\"}}];\n  root.Bokeh.embed.embed_items_notebook(docs_json, render_items);\n\n  }\n  if (root.Bokeh !== undefined) {\n    embed_document(root);\n  } else {\n    var attempts = 0;\n    var timer = setInterval(function(root) {\n      if (root.Bokeh !== undefined) {\n        clearInterval(timer);\n        embed_document(root);\n      } else {\n        attempts++;\n        if (attempts > 100) {\n          clearInterval(timer);\n          console.log(\"Bokeh: ERROR: Unable to run BokehJS code because BokehJS library is missing\");\n        }\n      }\n    }, 10, root)\n  }\n})(window);",
            "application/vnd.bokehjs_exec.v0+json": ""
          },
          "metadata": {
            "application/vnd.bokehjs_exec.v0+json": {
              "id": "1243"
            }
          }
        }
      ]
    }
  ],
  "metadata": {
    "kernelspec": {
      "name": "python3",
      "display_name": "Python 3",
      "language": "python"
    },
    "language_info": {
      "name": "python",
      "version": "3.8.3",
      "mimetype": "text/x-python",
      "codemirror_mode": {
        "name": "ipython",
        "version": 3
      },
      "pygments_lexer": "ipython3",
      "nbconvert_exporter": "python",
      "file_extension": ".py"
    },
    "gist": {
      "id": "a234c3e5742e1ce26bc84f1c0c3b12d6",
      "data": {
        "description": "Assignment 11 - Text Mining.ipynb",
        "public": true
      }
    },
    "_draft": {
      "nbviewer_url": "https://gist.github.com/a234c3e5742e1ce26bc84f1c0c3b12d6"
    }
  },
  "nbformat": 4,
  "nbformat_minor": 4
}